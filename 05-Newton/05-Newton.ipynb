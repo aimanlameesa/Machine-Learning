{
 "cells": [
  {
   "cell_type": "markdown",
   "metadata": {},
   "source": [
    "Before you turn this problem in, make sure everything runs as expected. First, **restart the kernel** (in the menubar, select Kernel$\\rightarrow$Restart) and then **run all cells** (in the menubar, select Cell$\\rightarrow$Run All).\n",
    "\n",
    "Make sure you fill in any place that says `YOUR CODE HERE` or \"YOUR ANSWER HERE\", as well as your name and collaborators below:"
   ]
  },
  {
   "cell_type": "code",
   "execution_count": null,
   "metadata": {},
   "outputs": [],
   "source": [
    "NAME = \"\"\n",
    "ID = \"\""
   ]
  },
  {
   "cell_type": "markdown",
   "metadata": {},
   "source": [
    "---"
   ]
  },
  {
   "cell_type": "markdown",
   "metadata": {},
   "source": [
    "# Lab 05: Optimization Using Newton's Method\n",
    "\n",
    "In this lab, we'll explore an alternative to gradient descent\n",
    "for nonlinear optimization problems: Newton's method.\n",
    "\n",
    "## Newton's method in one dimension"
   ]
  },
  {
   "cell_type": "markdown",
   "metadata": {},
   "source": [
    "Consider the problem of finding the *roots* $\\textbf{x}$ of a nonlinear function $f: \\mathbb{R}^N \\rightarrow \\mathbb{R}$. A root of $f$ is a point $\\mathbf{x}$ that satisfies $f(\\mathbf{x}) = 0$."
   ]
  },
  {
   "cell_type": "markdown",
   "metadata": {},
   "source": [
    "In one dimension, Newton's method for finding zeroes works as follows:\n",
    "\n",
    "1. Pick an initial guess $x_0$\n",
    "\n",
    "2. Let $x_{i+1} = x_i + \\frac{f(x_i)}{f'(x_i)}$\n",
    "\n",
    "3. If not converged, go to #2.\n",
    "\n",
    "Convergence occurs when $|f(x_i)| < \\epsilon_1$ or when $|f(x_{i+1})-f(x_i)| < \\epsilon_2$.\n",
    "\n",
    "Let's see how this works in practice."
   ]
  },
  {
   "cell_type": "code",
   "execution_count": null,
   "metadata": {},
   "outputs": [],
   "source": [
    "import matplotlib.pyplot as plt\n",
    "import numpy as np\n",
    "from mpl_toolkits.mplot3d import Axes3D\n",
    "import pandas as pd"
   ]
  },
  {
   "cell_type": "markdown",
   "metadata": {},
   "source": [
    "### Example 1: Root finding for cubic polynomial "
   ]
  },
  {
   "cell_type": "code",
   "execution_count": null,
   "metadata": {},
   "outputs": [],
   "source": [
    "def fx(x, p):\n",
    "    f_x = np.polyval(p, x)\n",
    "    return f_x"
   ]
  },
  {
   "cell_type": "code",
   "execution_count": null,
   "metadata": {},
   "outputs": [],
   "source": [
    "n = 200\n",
    "x = np.linspace(-3, 3, n)  \n",
    "\n",
    "# Create the polynomial f(x) = x^3 + x^2 \n",
    "p = np.poly1d([1, 1, 0, 0]) # [x^3, x^2, x^1, 1]\n",
    "\n",
    "# Derivative of a polynomial\n",
    "# This is a convenient method to obtain p_d = np.poly1d([3, 2, 0])\n",
    "p_d = np.polyder(p)\n",
    "print('p derivative:', p_d)\n",
    "print('p derivative:', p_d[2], p_d[1], p_d[0])\n",
    "\n",
    "# Get values for f(x) and f'(x) for graphing purposes\n",
    "y = fx(x, p)\n",
    "y_d = fx(x,p_d)"
   ]
  },
  {
   "cell_type": "code",
   "execution_count": null,
   "metadata": {},
   "outputs": [],
   "source": [
    "# Try three possible guesses for x0\n",
    "x0_arr = [-3.0, 1.0, 3.0]\n",
    "max_iter = 30\n",
    "threshold = 0.001\n",
    "roots = []\n",
    "\n",
    "fig1 = plt.figure(figsize=(8,8)) \n",
    "ax = plt.axes()\n",
    "plt.plot(x, y, 'g-', label='f(x)')\n",
    "plt.plot(x, y_d, 'b--', label=\"f\\'(x)\")\n",
    "\n",
    "for x0 in x0_arr:\n",
    "    # Plot initial data point\n",
    "    plt.plot(x0, fx(x0,p), '*', label='intial: ' + str(x0))    \n",
    "    i = 0\n",
    "    while i < max_iter:\n",
    "        # x1 = x0 - f(x0)/f'(x0)\n",
    "        x1 = x0 - fx(x0, p) / fx(x0, p_d)\n",
    "        # Check for delta (x) less than threshold\n",
    "        if np.abs(x0 - x1) <= threshold:\n",
    "            roots.append(round(x1,4))\n",
    "            break;\n",
    "        # Plot current root after every 5 iterations\n",
    "        if i % 5 == 0:\n",
    "            plt.plot(x1, fx(x1, p), '.', label='iteration '+ str(i+1))\n",
    "        else:\n",
    "            plt.plot(x1, fx(x1, p), '.')        \n",
    "        x0 = x1\n",
    "        i = i + 1\n",
    "    plt.plot(x1, fx(x1, p), 'ko', label='converged at iteration '+ str(i+1))\n",
    "\n",
    "plt.legend(bbox_to_anchor=(1.5, 1.0), loc ='upper right')\n",
    "plt.title('Example 1: Newton root finding for a polynomial')\n",
    "\n",
    "plt.show()"
   ]
  },
  {
   "cell_type": "markdown",
   "metadata": {},
   "source": [
    "#### Example 2: Root finding for sine function"
   ]
  },
  {
   "cell_type": "code",
   "execution_count": null,
   "metadata": {},
   "outputs": [],
   "source": [
    "def fx_sin(x):  \n",
    "    f_x = np.sin(x)        \n",
    "    return f_x\n",
    "\n",
    "def fx_dsin(x):    \n",
    "    return np.cos(x)"
   ]
  },
  {
   "cell_type": "code",
   "execution_count": null,
   "metadata": {},
   "outputs": [],
   "source": [
    "n = 200\n",
    "\n",
    "x = np.linspace(-np.pi, np.pi, n)  \n",
    "\n",
    "# Get f(x) and f'(x) for plotting\n",
    "y = fx_sin(x)\n",
    "y_d = fx_dsin(x)"
   ]
  },
  {
   "cell_type": "code",
   "execution_count": null,
   "metadata": {},
   "outputs": [],
   "source": [
    "# Consider three possible starting points\n",
    "x0_arr = [2.0, 1.0, -2.0]\n",
    "max_iter = 30\n",
    "i = 0\n",
    "threshold = 0.01\n",
    "roots = []\n",
    "\n",
    "fig1 = plt.figure(figsize=(10,10)) \n",
    "ax = plt.axes()\n",
    "ax.set_aspect(aspect = 'equal', adjustable = 'box')\n",
    "plt.plot(x, y, 'g-', label='f(x)')\n",
    "plt.plot(x, y_d, 'b--', label='df(x)')\n",
    "\n",
    "for x0 in x0_arr:\n",
    "    plt.plot(x0, fx_sin(x0), 'bo', label='intial: ' + str(x0))\n",
    "    i = 0;\n",
    "    while i < max_iter:\n",
    "        x1 = x0 - fx_sin(x0) / fx_dsin(x0)\n",
    "        if np.abs(x0 - x1) <= threshold:\n",
    "            roots.append(x1)\n",
    "            plt.plot(x1,fx_sin(x1),'ko',label='converged at iteration '+ str(i))\n",
    "            break;\n",
    "        if i % 5 == 0:\n",
    "            plt.plot(x1, fx_sin(x1), '*', label='iteration '+ str(i+1))\n",
    "        else:\n",
    "            plt.plot(x1, fx_sin(x1), '*')        \n",
    "        x0 = x1\n",
    "        i = i + 1\n",
    "\n",
    "plt.legend(bbox_to_anchor=(1.5, 1.0), loc ='upper right')\n",
    "plt.title('Example 2: Newton root findign for sine function')\n",
    "\n",
    "plt.show()\n",
    "\n",
    "print('Roots: %f, %f, %f' % (roots[0], roots[1], roots[2]))\n"
   ]
  },
  {
   "cell_type": "markdown",
   "metadata": {},
   "source": [
    "## Newton's method for optimization\n",
    "\n",
    "Now, consider the problem of minimizing a scalar function $J : \\mathbb{R}^n \\mapsto \\mathbb{R}$.\n",
    "We would like to find\n",
    "$$ \\theta^* = \\text{argmin}_\\theta J(\\theta) $$\n",
    "We already know gradient descent:\n",
    "$$ \\theta^{(i+1)} \\leftarrow \\theta^{(i)} - \\alpha \\nabla_J(\\theta^{(i)}).$$\n",
    "But Newton's method gives us a potentially faster way to find $\\theta^*$ as a zero of\n",
    "the system of equations\n",
    "$$\\nabla_J(\\theta^*) = \\mathbf{0}.$$\n",
    "\n",
    "In one dimension, to find the zero of $f'(x)$, obviously, we would apply Newton's method\n",
    "to $f'(x)$, obtaining the iteration\n",
    "$$x_{i+1} = x_i - f'(x_i) / f''(x_i).$$\n",
    "The multivariate extension of Newton's optimization method is\n",
    "$$\\mathbf{x}_{i+1} = \\mathbf{x}_i - \\mathtt{H}_f(\\mathbf{x}_i) \\nabla_f(\\mathbf{x}_i),$$\n",
    "where $\\mathtt{H}_f(\\mathbf{x})$ is the *Hessian* of $f$ evaluated at $\\textbf{x}$:\n",
    "$$\\mathtt{H}_f(\\mathbf{x}) = \\begin{bmatrix}\n",
    "\\frac{\\partial^2 f}{\\partial x_1^2} & \\frac{\\partial^2 f}{\\partial x_1 x_2} & \\cdots & \\frac{\\partial^2 f}{\\partial x_1 x_n} \\\\\n",
    "\\frac{\\partial^2 f}{\\partial x_2 x_1} & \\frac{\\partial^2 f}{\\partial x_2^2} & \\cdots & \\frac{\\partial^2 f}{\\partial x_2 x_n} \\\\\n",
    "\\vdots & \\vdots & \\ddots & \\vdots \\\\\n",
    "\\frac{\\partial^2 f}{\\partial x_n x_1} & \\frac{\\partial^2 f}{\\partial x_n x_2} & \\cdots & \\frac{\\partial^2 f}{\\partial x_n^2}\n",
    "\\end{bmatrix}$$\n",
    "\n",
    "This means, for the minimization of $J(\\theta)$, we would obtain the update rule\n",
    "$$\\theta^{(i+1)} \\leftarrow \\theta^{(i)} - \\mathtt{H}_J(\\theta^{(i)}) \\nabla_J(\\theta^{(i)}).$$\n"
   ]
  },
  {
   "cell_type": "markdown",
   "metadata": {},
   "source": [
    "## Application to logistic regression\n",
    "\n",
    "Let's create some difficult sample data as follows:\n",
    "\n",
    "**Class 1:** Two features $x_1$ and $x_2$ jointly distributed as a two-dimensional spherical Gaussian with parameters\n",
    "\n",
    "$$\\mu = \\begin{bmatrix} x_{1c} \\\\ x_{2c} \\end{bmatrix},\n",
    "\\Sigma = \\begin{bmatrix} \\sigma_1^2 & 0 \\\\ 0 & \\sigma_1^2 \\end{bmatrix}.$$\n",
    "\n",
    "**Class 2:** Two features $x_1$ and $x_2$ in which the data are generated by first sampling an angle $\\theta$ according to a uniform distribution, sampling a distance $d$ according to a one-dimensional Gaussian with a mean of $(3\\sigma_1)^2$ and a variance of $(\\frac{1}{2}\\sigma_1)^2$, then outputting the point $$\\textbf{x} = \\begin{bmatrix} x_{1c} + d \\cos\\theta \\\\ x_{2c} + d \\sin\\theta \\end{bmatrix}$$.\n",
    "\n",
    "Generate 100 samples for each of the classes."
   ]
  },
  {
   "cell_type": "markdown",
   "metadata": {
    "deletable": false,
    "editable": false,
    "nbgrader": {
     "cell_type": "markdown",
     "checksum": "a7c6ac20d69dfb28eb7f3a766eebf09c",
     "grade": false,
     "grade_id": "cell-50022a758825425d",
     "locked": true,
     "schema_version": 3,
     "solution": false,
     "task": false
    }
   },
   "source": [
    "### Exercise 1.1 (5 points)\n",
    "\n",
    "Generate data for class 1 with 100 samples\n",
    "\n",
    "$$\\mu = \\begin{bmatrix} x_{1c} \\\\ x_{2c} \\end{bmatrix},\n",
    "\\Sigma = \\begin{bmatrix} \\sigma_1^2 & 0 \\\\ 0 & \\sigma_1^2 \\end{bmatrix}.$$\n",
    "\n",
    "<details>\n",
    "    <summary><font size=\"3\" color=\"green\"><b>Hint:</b></font></summary>\n",
    "    You can use <a href=\"https://numpy.org/doc/stable/reference/random/generated/numpy.random.multivariate_normal.html\">numpy.random.multivariate_normal</a> to generate samples.\n",
    "</details>"
   ]
  },
  {
   "cell_type": "code",
   "execution_count": null,
   "metadata": {
    "deletable": false,
    "nbgrader": {
     "cell_type": "code",
     "checksum": "3bc137b252a2076089f9ecd9abbb8d0e",
     "grade": false,
     "grade_id": "cell-1f7e85a2f9bf7a3f",
     "locked": false,
     "schema_version": 3,
     "solution": true,
     "task": false
    }
   },
   "outputs": [],
   "source": [
    "mu_1 = np.array([1.0, 2.0])\n",
    "sigma_1 = 1\n",
    "num_sample = 100\n",
    "\n",
    "cov_mat = None\n",
    "X1 = None\n",
    "\n",
    "# YOUR CODE HERE\n",
    "raise NotImplementedError()"
   ]
  },
  {
   "cell_type": "code",
   "execution_count": null,
   "metadata": {
    "deletable": false,
    "editable": false,
    "nbgrader": {
     "cell_type": "code",
     "checksum": "35b8655bc30049aa982c39d6354bc5d0",
     "grade": true,
     "grade_id": "cell-7b581fc75971b952",
     "locked": true,
     "points": 5,
     "schema_version": 3,
     "solution": false,
     "task": false
    }
   },
   "outputs": [],
   "source": [
    "print(X1[:5])\n",
    "\n",
    "# Test function: Do not remove\n",
    "assert X1.shape == (100, 2), 'Size of X1 is incorrect'\n",
    "assert cov_mat.shape == (2, 2), 'Size of x_test is incorrect'\n",
    "count = 0 \n",
    "for i in range(2):\n",
    "    for j in range(2):\n",
    "        if i==j and cov_mat[i,j] != 0:\n",
    "            if cov_mat[i,j] == sigma_1:\n",
    "                count += 1\n",
    "        else:\n",
    "            if cov_mat[i,j] == 0:\n",
    "                count += 1\n",
    "assert count == 4, 'cov_mat data is incorrect'\n",
    "\n",
    "print(\"success!\")\n",
    "# End Test function"
   ]
  },
  {
   "cell_type": "markdown",
   "metadata": {
    "deletable": false,
    "editable": false,
    "nbgrader": {
     "cell_type": "markdown",
     "checksum": "0501830f85852421581946b175610832",
     "grade": false,
     "grade_id": "cell-b655cfedeb043d7c",
     "locked": true,
     "schema_version": 3,
     "solution": false,
     "task": false
    }
   },
   "source": [
    "**Expect result (or looked alike):**\\\n",
    "[[-0.48508229  2.65415886]\\\n",
    " [ 1.17230227  1.61743589]\\\n",
    " [-0.61932146  3.53986541]\\\n",
    " [ 0.70583088  1.45944356]\\\n",
    " [-0.93561505  0.2042285 ]]"
   ]
  },
  {
   "cell_type": "markdown",
   "metadata": {
    "deletable": false,
    "editable": false,
    "nbgrader": {
     "cell_type": "markdown",
     "checksum": "3b7c97bcb78626c4a0a634236301e41e",
     "grade": false,
     "grade_id": "cell-7c8d74ccb9ca619d",
     "locked": true,
     "schema_version": 3,
     "solution": false,
     "task": false
    }
   },
   "source": [
    "### Exercise 1.2 (5 points)\n",
    "\n",
    "Generate data for class 2 with 100 samples\n",
    "\n",
    "$$\\textbf{x} = \\begin{bmatrix} x_{1c} + d \\cos\\theta \\\\ x_{2c} + d \\sin\\theta \\end{bmatrix}$$.\n",
    "\n",
    "with a mean of $(3\\sigma_1)^2$ and a variance of $(\\frac{1}{2}\\sigma_1)^2$\n",
    "\n",
    "<details>\n",
    "    <summary><font size=\"3\" color=\"green\"><b>Hint:</b></font></summary>\n",
    "    You can use <a href=\"https://numpy.org/doc/stable/reference/random/generated/numpy.random.uniform.html\">numpy.random.uniform</a> and/or <a href=\"https://numpy.org/doc/stable/reference/random/generated/numpy.random.normal.html\">numpy.random.normal</a> to generate samples.\n",
    "</details>"
   ]
  },
  {
   "cell_type": "code",
   "execution_count": null,
   "metadata": {
    "deletable": false,
    "nbgrader": {
     "cell_type": "code",
     "checksum": "aca654e5371b544bc4e8259b6c8135da",
     "grade": false,
     "grade_id": "cell-fb4864f1714078ca",
     "locked": false,
     "schema_version": 3,
     "solution": true,
     "task": false
    }
   },
   "outputs": [],
   "source": [
    "# 1. Create sample angle from 0 to 2pi with 100 samples\n",
    "angle = None\n",
    "# 2. Create sample with normal distribution of d with mean and variance\n",
    "d =  None\n",
    "# 3 Create X2\n",
    "X2 = None\n",
    "\n",
    "# YOUR CODE HERE\n",
    "raise NotImplementedError()"
   ]
  },
  {
   "cell_type": "code",
   "execution_count": null,
   "metadata": {
    "deletable": false,
    "editable": false,
    "nbgrader": {
     "cell_type": "code",
     "checksum": "fe4ad1ae36f3ace8d329be046a579a8c",
     "grade": true,
     "grade_id": "cell-455f74c3a640f73e",
     "locked": true,
     "points": 5,
     "schema_version": 3,
     "solution": false,
     "task": false
    }
   },
   "outputs": [],
   "source": [
    "print('angle:',angle[:5])\n",
    "print('d:', d[:5])\n",
    "print('X2:', X2[:5])\n",
    "\n",
    "# Test function: Do not remove\n",
    "assert angle.shape == (100,) or angle.shape == (100,1) or angle.shape == 100, 'Size of angle is incorrect'\n",
    "assert d.shape == (100,) or d.shape == (100,1) or d.shape == 100, 'Size of d is incorrect'\n",
    "assert X2.shape == (100,2), 'Size of X2 is incorrect'\n",
    "assert angle.min() >= 0 and angle.max() <= 2*np.pi, 'angle generate incorrect'\n",
    "assert d.min() >= 8 and d.max() <= 10, 'd generate incorrect'\n",
    "assert X2[:,0].min() >= -13 and X2[:,0].max() <= 13, 'X2 generate incorrect'\n",
    "assert X2[:,1].min() >= -10 and X2[:,1].max() <= 13.5, 'X2 generate incorrect'\n",
    "\n",
    "print(\"success!\")\n",
    "# End Test function"
   ]
  },
  {
   "cell_type": "markdown",
   "metadata": {
    "deletable": false,
    "editable": false,
    "nbgrader": {
     "cell_type": "markdown",
     "checksum": "cc84ad484809c2dd70a76bd8d39774a8",
     "grade": false,
     "grade_id": "cell-66881e22be066ef8",
     "locked": true,
     "schema_version": 3,
     "solution": false,
     "task": false
    }
   },
   "source": [
    "**Expect result (or looked alike):**\\\n",
    "angle: [4.77258271 3.19733552 0.71226709 2.11244845 6.06280915]\\\n",
    "d: [9.13908279 8.84218552 9.24427852 8.74831667 8.85727588]\\\n",
    "X2: [[ 0.064701   -6.46837219]\\\n",
    " [-7.65614929  1.12480234]\\\n",
    " [ 6.37750805  9.58147629]\\\n",
    " [-3.80438416  8.95550952]\\\n",
    " [ 7.70745021 -1.73194274]]"
   ]
  },
  {
   "cell_type": "markdown",
   "metadata": {
    "deletable": false,
    "editable": false,
    "nbgrader": {
     "cell_type": "markdown",
     "checksum": "a700fd4e5bc1979ac7891de66def1232",
     "grade": false,
     "grade_id": "cell-b34a105967a45af1",
     "locked": true,
     "schema_version": 3,
     "solution": false,
     "task": false
    }
   },
   "source": [
    "### Exercise 1.3 (5 points)\n",
    "\n",
    "Combine X1 and X2 into single dataset"
   ]
  },
  {
   "cell_type": "code",
   "execution_count": null,
   "metadata": {
    "deletable": false,
    "nbgrader": {
     "cell_type": "code",
     "checksum": "095b39ce78731e003c9aa3a564138fa4",
     "grade": false,
     "grade_id": "cell-864aca1038d0ced4",
     "locked": false,
     "schema_version": 3,
     "solution": true,
     "task": false
    }
   },
   "outputs": [],
   "source": [
    "# 1. concatenate X1, X2 together\n",
    "X = None\n",
    "# 2. Create y with class 1 as 0 and class 2 as 1\n",
    "y = None\n",
    "\n",
    "# YOUR CODE HERE\n",
    "raise NotImplementedError()"
   ]
  },
  {
   "cell_type": "code",
   "execution_count": null,
   "metadata": {
    "deletable": false,
    "editable": false,
    "nbgrader": {
     "cell_type": "code",
     "checksum": "dd6eda6ce2e6ed4f03398241cc46f140",
     "grade": true,
     "grade_id": "cell-87dde545f0e24e7f",
     "locked": true,
     "points": 5,
     "schema_version": 3,
     "solution": false,
     "task": false
    }
   },
   "outputs": [],
   "source": [
    "print(\"shape of X:\", X.shape)\n",
    "print(\"shape of y:\", y.shape)\n",
    "\n",
    "# Test function: Do not remove\n",
    "assert X.shape == (200, 2), 'Size of X is incorrect'\n",
    "assert y.shape == (200,) or y.shape == (200,1) or y.shape == 200, 'Size of y is incorrect'\n",
    "assert y.min() == 0 and y.max() == 1, 'class type setup is incorrect'\n",
    "\n",
    "print(\"success!\")\n",
    "# End Test function"
   ]
  },
  {
   "cell_type": "markdown",
   "metadata": {
    "deletable": false,
    "editable": false,
    "nbgrader": {
     "cell_type": "markdown",
     "checksum": "0d752b0c9732fb45cef5f3005d4ff519",
     "grade": false,
     "grade_id": "cell-464dd60a9d496b5e",
     "locked": true,
     "schema_version": 3,
     "solution": false,
     "task": false
    }
   },
   "source": [
    "**Expect result (or looked alike):**\\\n",
    "shape of X: (200, 2)\\\n",
    "shape of y: (200, 1)"
   ]
  },
  {
   "cell_type": "markdown",
   "metadata": {
    "deletable": false,
    "editable": false,
    "nbgrader": {
     "cell_type": "markdown",
     "checksum": "9107780f641c550721f39f02312a8ccc",
     "grade": false,
     "grade_id": "cell-a18183378861ae77",
     "locked": true,
     "schema_version": 3,
     "solution": false,
     "task": false
    }
   },
   "source": [
    "### Exercise 1.4 (5 points)\n",
    "\n",
    "Plot the graph between class1 and class2 with **difference color and point style**."
   ]
  },
  {
   "cell_type": "code",
   "execution_count": null,
   "metadata": {
    "deletable": false,
    "nbgrader": {
     "cell_type": "code",
     "checksum": "1a129f57f4278e192b351dd6a9f518a7",
     "grade": true,
     "grade_id": "cell-f876b37b8f89cfde",
     "locked": false,
     "points": 5,
     "schema_version": 3,
     "solution": true,
     "task": false
    }
   },
   "outputs": [],
   "source": [
    "fig1 = plt.figure(figsize=(8,8))\n",
    "ax = plt.axes() \n",
    "plt.title('Sample data for classification problem')\n",
    "plt.grid(axis='both', alpha=.25)\n",
    "# plot graph here\n",
    "# YOUR CODE HERE\n",
    "raise NotImplementedError()\n",
    "# end plot graph\n",
    "plt.axis('equal')\n",
    "plt.show()"
   ]
  },
  {
   "attachments": {
    "lab05-1.png": {
     "image/png": "[encoded data removed]"
    }
   },
   "cell_type": "markdown",
   "metadata": {
    "deletable": false,
    "editable": false,
    "nbgrader": {
     "cell_type": "markdown",
     "checksum": "56fa34ab857aa78ab0332e3162920405",
     "grade": false,
     "grade_id": "cell-6cfc4aa21d1608ac",
     "locked": true,
     "schema_version": 3,
     "solution": false,
     "task": false
    }
   },
   "source": [
    "**Expect result (or looked alike):**\n",
    "\n",
    "![lab05-1.png](attachment:lab05-1.png)"
   ]
  },
  {
   "cell_type": "markdown",
   "metadata": {
    "deletable": false,
    "editable": false,
    "nbgrader": {
     "cell_type": "markdown",
     "checksum": "e4a772e6e73a848d98964f7bc84bdaac",
     "grade": false,
     "grade_id": "cell-ec4b08d139fea134",
     "locked": true,
     "schema_version": 3,
     "solution": false,
     "task": false
    }
   },
   "source": [
    "### Exercise 1.5 (5 points)\n",
    "\n",
    "Split data into training and test datasets with 80% of training set and 20% of test set"
   ]
  },
  {
   "cell_type": "code",
   "execution_count": null,
   "metadata": {
    "deletable": false,
    "nbgrader": {
     "cell_type": "code",
     "checksum": "6cf1aa8b4b356e3f6fe51437d452318b",
     "grade": false,
     "grade_id": "cell-8fd6c18d27f17861",
     "locked": false,
     "schema_version": 3,
     "solution": true,
     "task": false
    }
   },
   "outputs": [],
   "source": [
    "train_size = 0.8\n",
    "\n",
    "idx_train = None\n",
    "idx_test = None\n",
    "\n",
    "X_train = None\n",
    "X_test = None\n",
    "y_train = None\n",
    "y_test = None\n",
    "\n",
    "# YOUR CODE HERE\n",
    "raise NotImplementedError()"
   ]
  },
  {
   "cell_type": "code",
   "execution_count": null,
   "metadata": {
    "deletable": false,
    "editable": false,
    "nbgrader": {
     "cell_type": "code",
     "checksum": "062a2a08707951a55b96660dfe2dfde0",
     "grade": true,
     "grade_id": "cell-f2a88da40a7eee4b",
     "locked": true,
     "points": 5,
     "schema_version": 3,
     "solution": false,
     "task": false
    }
   },
   "outputs": [],
   "source": [
    "print('idx_train:', idx_train[:10])\n",
    "print(\"train size, X:\", X_train.shape, \", y:\", y_train.shape)\n",
    "print(\"test size,  X:\", X_test.shape,  \", y:\", y_test.shape)\n",
    "\n",
    "# Test function: Do not remove\n",
    "assert X_train.shape == (160, 2), 'Size of X_train is incorrect'\n",
    "assert y_train.shape == (160,) or y_train.shape == (160,1) or y.shape == 160, 'Size of y_train is incorrect'\n",
    "assert X_test.shape == (40, 2), 'Size of X_test is incorrect'\n",
    "assert y_test.shape == (40,) or y_test.shape == (40,1) or y.shape == 40, 'Size of y_test is incorrect'\n",
    "\n",
    "print(\"success!\")\n",
    "# End Test function"
   ]
  },
  {
   "cell_type": "markdown",
   "metadata": {},
   "source": [
    "**Expect reult (Or looked alike):**\\\n",
    "idx_train: [ 78  61  28 166  80 143   6  76  98 133]\\\n",
    "train size, X: (160, 2) , y: (160, 1) \\\n",
    "test size,  X: (40, 2) , y: (40, 1)"
   ]
  },
  {
   "cell_type": "markdown",
   "metadata": {
    "deletable": false,
    "editable": false,
    "nbgrader": {
     "cell_type": "markdown",
     "checksum": "2988b5bd90100d1fd3e60b57dff4e002",
     "grade": false,
     "grade_id": "cell-73c5609878c04f15",
     "locked": true,
     "schema_version": 3,
     "solution": false,
     "task": false
    }
   },
   "source": [
    "### Exercise 1.6 (5 points)\n",
    "\n",
    "Write the function which normalize X set"
   ]
  },
  {
   "cell_type": "markdown",
   "metadata": {
    "deletable": false,
    "editable": false,
    "nbgrader": {
     "cell_type": "markdown",
     "checksum": "979af20616419af6f3b4133b3763d1bb",
     "grade": false,
     "grade_id": "cell-dabfde322d4fe74b",
     "locked": true,
     "schema_version": 3,
     "solution": false,
     "task": false
    }
   },
   "source": [
    "#### Practice yourself (No grade, but has extra score 3 points)\n",
    "\n",
    "Try to use Jupyter notebook to write the normalize equation."
   ]
  },
  {
   "cell_type": "markdown",
   "metadata": {
    "deletable": false,
    "nbgrader": {
     "cell_type": "markdown",
     "checksum": "69081ff52a7bc8eebb1acd3c58dc2b23",
     "grade": true,
     "grade_id": "cell-0f43cf436ad191b1",
     "locked": false,
     "points": 0,
     "schema_version": 3,
     "solution": true,
     "task": false
    }
   },
   "source": [
    "YOUR ANSWER HERE"
   ]
  },
  {
   "cell_type": "code",
   "execution_count": null,
   "metadata": {
    "deletable": false,
    "nbgrader": {
     "cell_type": "code",
     "checksum": "86219fbdc121e084b6b19814fdcffe3e",
     "grade": false,
     "grade_id": "cell-a2de55c05363554b",
     "locked": false,
     "schema_version": 3,
     "solution": true,
     "task": false
    }
   },
   "outputs": [],
   "source": [
    "def normalization(X):\n",
    "    \"\"\"\n",
    "    Take in numpy array of X values and return normalize X values,\n",
    "    the mean and standard deviation of each feature\n",
    "    \"\"\"\n",
    "    X_norm = None\n",
    "    # YOUR CODE HERE\n",
    "    raise NotImplementedError()\n",
    "    \n",
    "    return X_norm"
   ]
  },
  {
   "cell_type": "code",
   "execution_count": null,
   "metadata": {
    "deletable": false,
    "editable": false,
    "nbgrader": {
     "cell_type": "code",
     "checksum": "a0dbae16c61f3b33c0d308018578cefd",
     "grade": true,
     "grade_id": "cell-d5d9e2de3d304752",
     "locked": true,
     "points": 5,
     "schema_version": 3,
     "solution": false,
     "task": false
    }
   },
   "outputs": [],
   "source": [
    "XX = normalization(X)\n",
    "\n",
    "X_train_norm = XX[idx_train]\n",
    "X_test_norm = XX[idx_test]\n",
    "\n",
    "# Add 1 at the first column of training dataset (for bias) and use it when training\n",
    "X_design_train = np.insert(X_train_norm,0,1,axis=1)\n",
    "X_design_test = np.insert(X_test_norm,0,1,axis=1)\n",
    "\n",
    "m,n = X_design_train.shape\n",
    "\n",
    "print(X_train_norm.shape)\n",
    "print(X_design_train.shape)\n",
    "print(X_test_norm.shape)\n",
    "print(X_design_test.shape)\n",
    "\n",
    "# Test function: Do not remove\n",
    "assert XX[:,0].min() >= -2.5 and XX[:,0].max() <= 2.5, 'Does the XX is normalized?'\n",
    "assert XX[:,1].min() >= -2.5 and XX[:,1].max() <= 2.5, 'Does the XX is normalized?'\n",
    "\n",
    "print(\"success!\")\n",
    "# End Test function"
   ]
  },
  {
   "cell_type": "markdown",
   "metadata": {
    "deletable": false,
    "editable": false,
    "nbgrader": {
     "cell_type": "markdown",
     "checksum": "33d1ba297d9382342b58dbb83363523f",
     "grade": false,
     "grade_id": "cell-5614c7ca7c3f7289",
     "locked": true,
     "schema_version": 3,
     "solution": false,
     "task": false
    }
   },
   "source": [
    "### Exercise 1.7 (10 points)\n",
    "\n",
    "define class for logistic regression: batch gradient descent\n",
    "\n",
    "The class includes:\n",
    "\n",
    " - **Sigmoid** function $$sigmoid(z) = \\frac{1}{1+e^{-z}}$$\n",
    " - **Softmax** function $$softmax(z) = \\frac{e^{z_i}}{\\sum_n{e^z}}$$\n",
    " - **Hyperthesis (h)** function $$\\hat{y} = h(X;\\theta) = softmax(\\theta . X)$$\n",
    " - **Gradient (Negative likelihood)** function $$gradient = - X . \\frac{y-\\hat{y}}{n}$$\n",
    " - **Cost** function $$cost = \\frac{\\sum{((-y\\log{\\hat{y}}) - ((1-y)\\log{(1 - \\hat{y})})})}{n}$$\n",
    " - **Gradient ascent** function\n",
    " - **Prediction** function\n",
    " - **Get accuracy** funciton"
   ]
  },
  {
   "cell_type": "code",
   "execution_count": null,
   "metadata": {
    "deletable": false,
    "nbgrader": {
     "cell_type": "code",
     "checksum": "5e20cd9a5dd14b9ffd948c3382e2aeac",
     "grade": false,
     "grade_id": "cell-f7a5eae7b1379f3b",
     "locked": false,
     "schema_version": 3,
     "solution": true,
     "task": false
    }
   },
   "outputs": [],
   "source": [
    "class Logistic_BGD:\n",
    "    def __init__(self):\n",
    "        pass\n",
    "    \n",
    "    def sigmoid(self,z):\n",
    "        s = None\n",
    "        # YOUR CODE HERE\n",
    "        raise NotImplementedError()\n",
    "        return s\n",
    "\n",
    "    def softmax(self, z):\n",
    "        sm = None\n",
    "        # YOUR CODE HERE\n",
    "        raise NotImplementedError()\n",
    "        return sm\n",
    "    \n",
    "    def h(self,X, theta):\n",
    "        hf = None\n",
    "        # YOUR CODE HERE\n",
    "        raise NotImplementedError()\n",
    "        return hf\n",
    "    \n",
    "    def gradient(self, X, y, y_pred):\n",
    "        grad = None\n",
    "        # YOUR CODE HERE\n",
    "        raise NotImplementedError()\n",
    "        return grad\n",
    "        \n",
    "    def costFunc(self, theta, X, y):\n",
    "        cost = None\n",
    "        grad = None\n",
    "        # YOUR CODE HERE\n",
    "        raise NotImplementedError()\n",
    "        return cost, grad\n",
    "    \n",
    "    def gradientAscent(self, X, y, theta, alpha, num_iters):\n",
    "        m = len(y)\n",
    "        J_history = []\n",
    "        theta_history = []\n",
    "        for i in range(num_iters):\n",
    "            # 1. calculate cost, grad function\n",
    "            cost, grad = None, None\n",
    "            # 2. update new theta\n",
    "            #theta = None\n",
    "            # YOUR CODE HERE\n",
    "            raise NotImplementedError()\n",
    "            \n",
    "            \n",
    "            J_history.append(cost)\n",
    "            theta_history.append(theta)\n",
    "        J_min_index = np.argmin(J_history)\n",
    "        print(\"Minimum at iteration:\",J_min_index)\n",
    "        return theta_history[J_min_index] , J_history\n",
    "\n",
    "    def predict(self,X, theta):\n",
    "        labels=[]\n",
    "        # 1. take y_predict from hyperthesis function\n",
    "        # 2. classify y_predict that what it should be class1 or class2\n",
    "        # 3. append the output from prediction\n",
    "        # YOUR CODE HERE\n",
    "        raise NotImplementedError()\n",
    "        \n",
    "        labels=np.asarray(labels)\n",
    "        return labels\n",
    "     \n",
    "    def getAccuracy(self,X,y,theta):\n",
    "        percent_correct = None\n",
    "        # YOUR CODE HERE\n",
    "        raise NotImplementedError()\n",
    "        return percent_correct"
   ]
  },
  {
   "cell_type": "code",
   "execution_count": null,
   "metadata": {
    "deletable": false,
    "editable": false,
    "nbgrader": {
     "cell_type": "code",
     "checksum": "214f489b58f898a58b6c8b642f838518",
     "grade": true,
     "grade_id": "cell-2f157f42f53c4fe7",
     "locked": true,
     "points": 10,
     "schema_version": 3,
     "solution": false,
     "task": false
    }
   },
   "outputs": [],
   "source": [
    "# Test function: Do not remove\n",
    "lbgd = Logistic_BGD()\n",
    "test_x = np.array([[1,2,3,4,5]]).T\n",
    "out_x1 = lbgd.sigmoid(test_x)\n",
    "out_x2 = lbgd.sigmoid(test_x.T)\n",
    "print('out_x1', out_x1.T)\n",
    "assert np.array_equal(np.round(out_x1.T, 5), np.round([[0.73105858, 0.88079708, 0.95257413, 0.98201379, 0.99330715]], 5)), \"sigmoid function is incorrect\"\n",
    "assert np.array_equal(np.round(out_x2, 5), np.round([[0.73105858, 0.88079708, 0.95257413, 0.98201379, 0.99330715]], 5)), \"sigmoid function is incorrect\"\n",
    "out_x1 = lbgd.softmax(out_x1)\n",
    "out_x2 = lbgd.softmax(out_x2)\n",
    "print('out_x1', out_x1.T)\n",
    "assert np.array_equal(np.round(out_x1.T, 5), np.round([[0.16681682, 0.19376282, 0.20818183, 0.21440174, 0.21683678]], 5)), \"softmax function is incorrect\"\n",
    "assert np.array_equal(np.round(out_x2, 5), np.round([[0.16681682, 0.19376282, 0.20818183, 0.21440174, 0.21683678]], 5)), \"softmax function is incorrect\"\n",
    "test_t = np.array([[0.3, 0.2]]).T\n",
    "test_x = np.array([[1,2,3,4,5, 6], [2, 9, 4, 3, 1, 0]]).T\n",
    "test_y = np.array([[0,1,0,1,0,1]]).T\n",
    "test_y_p = lbgd.h(test_x, test_t)\n",
    "print('test_y_p', test_y_p.T)\n",
    "assert np.array_equal(np.round(test_y_p.T, 5), np.round([[0.66818777, 0.9168273, 0.84553473, 0.85814894, 0.84553473, 0.85814894]], 5)), \"hyperthesis function is incorrect\"\n",
    "test_g = lbgd.gradient(test_x, test_y, test_y_p)\n",
    "print('test_g', test_g.T)\n",
    "assert np.array_equal(np.round(test_g.T, 5), np.round([[0.9746016, 0.73165696]], 5)), \"gradient function is incorrect\"\n",
    "test_c, test_g = lbgd.costFunc(test_t, test_x, test_y)\n",
    "print('test_c', test_c.T)\n",
    "assert np.round(test_c, 5) == np.round(0.87192491, 5), \"costFunc function is incorrect\"\n",
    "test_t_out , test_j = lbgd.gradientAscent(test_x, test_y, test_t, 0.001, 3)\n",
    "print('test_t_out', test_t_out.T)\n",
    "print('test_j', test_j)\n",
    "assert np.array_equal(np.round(test_t_out.T, 5), np.round([[0.29708373, 0.19781153]], 5)), \"gradientAscent function is incorrect\"\n",
    "assert np.round(test_j[2], 5) == np.round(0.86896665, 5), \"gradientAscent function is incorrect\"\n",
    "test_l = lbgd.predict(test_x, test_t)\n",
    "print('test_l', test_l)\n",
    "assert np.array_equal(np.round(test_l, 1), np.round([1,1,1,1,1,1], 1)), \"gradientAscent function is incorrect\"\n",
    "test_a = lbgd.getAccuracy(test_x,test_y,test_t)\n",
    "print('test_a', test_a)\n",
    "assert np.round(test_a, 1) == 50.0, \"getAccuracy function is incorrect\"\n",
    "\n",
    "print(\"success!\")\n",
    "# End Test function"
   ]
  },
  {
   "cell_type": "markdown",
   "metadata": {
    "deletable": false,
    "editable": false,
    "nbgrader": {
     "cell_type": "markdown",
     "checksum": "1c1e1ccd89603079f123ec5dfb99967d",
     "grade": false,
     "grade_id": "cell-3df071da796adf3b",
     "locked": true,
     "schema_version": 3,
     "solution": false,
     "task": false
    }
   },
   "source": [
    "**Expect result:**\\\n",
    "out_x1 [[0.73105858 0.88079708 0.95257413 0.98201379 0.99330715]]\\\n",
    "out_x1 [[0.16681682 0.19376282 0.20818183 0.21440174 0.21683678]]\\\n",
    "test_y_p [[0.66818777 0.9168273  0.84553473 0.85814894 0.84553473 0.85814894]]\\\n",
    "test_g [[0.9746016  0.73165696]]\\\n",
    "test_c [0.87192491]\\\n",
    "Minimum at iteration: 2\\\n",
    "test_t_out [[0.29708373 0.19781153]]\\\n",
    "test_j [array([0.87192491]), array([0.87044176]), array([0.86896665])]\\\n",
    "test_l [1 1 1 1 1 1]\\\n",
    "test_a 50.0"
   ]
  },
  {
   "cell_type": "markdown",
   "metadata": {},
   "source": [
    "### Exercise 1.8 (5 points)\n",
    "\n",
    "Training the data using Logistic_BGD class.\n",
    " - Input: X_design_train\n",
    " - Output: y_train\n",
    " - Use 50,000 iterations\n",
    " \n",
    "Find the initial_theta yourself"
   ]
  },
  {
   "cell_type": "code",
   "execution_count": null,
   "metadata": {
    "deletable": false,
    "nbgrader": {
     "cell_type": "code",
     "checksum": "b6ac696ca946dab7a89e0ce0ad6a1b05",
     "grade": false,
     "grade_id": "cell-402488a757d864f8",
     "locked": false,
     "schema_version": 3,
     "solution": true,
     "task": false
    }
   },
   "outputs": [],
   "source": [
    "alpha = 0.001\n",
    "iterations = 50000\n",
    "\n",
    "BGD_model = None\n",
    "initial_theta = None\n",
    "bgd_theta, bgd_cost = None, None\n",
    "\n",
    "# YOUR CODE HERE\n",
    "raise NotImplementedError()"
   ]
  },
  {
   "cell_type": "code",
   "execution_count": null,
   "metadata": {
    "deletable": false,
    "editable": false,
    "nbgrader": {
     "cell_type": "code",
     "checksum": "4ed877d188ef275ce4e81c1d582e0a85",
     "grade": true,
     "grade_id": "cell-8f37185961827a21",
     "locked": true,
     "points": 5,
     "schema_version": 3,
     "solution": false,
     "task": false
    }
   },
   "outputs": [],
   "source": [
    "print(bgd_theta)\n",
    "print(len(bgd_cost))\n",
    "\n",
    "print(bgd_cost[0])\n",
    "plt.plot(bgd_cost)\n",
    "plt.show()\n",
    "\n",
    "# Test function: Do not remove\n",
    "assert bgd_theta.shape == (X_train.shape[1] + 1,1) or bgd_theta.shape == (X_train.shape[1] + 1,) or bgd_theta.shape == X_train.shape[1] + 1, \"theta shape is incorrect\"\n",
    "assert len(bgd_cost) == iterations, \"cost data size is incorrect\"\n",
    "\n",
    "print(\"success!\")\n",
    "# End Test function"
   ]
  },
  {
   "attachments": {
    "lab05-2.png": {
     "image/png": "[encoded data removed]"
    }
   },
   "cell_type": "markdown",
   "metadata": {
    "deletable": false,
    "editable": false,
    "nbgrader": {
     "cell_type": "markdown",
     "checksum": "91cd7d8b8bfcc25c49f0b3bd0b8f9fe2",
     "grade": false,
     "grade_id": "cell-13e9278fa215bbd5",
     "locked": true,
     "schema_version": 3,
     "solution": false,
     "task": false
    }
   },
   "source": [
    "**Expect result (or look alike):**\\\n",
    "[[-0.07328673]\\\n",
    " [-0.13632896]\\\n",
    " [ 0.05430939]]\\\n",
    "50000\n",
    "\n",
    "![lab05-2.png](attachment:lab05-2.png)"
   ]
  },
  {
   "cell_type": "markdown",
   "metadata": {
    "deletable": false,
    "editable": false,
    "nbgrader": {
     "cell_type": "markdown",
     "checksum": "a9be27d3e454bd057f1728b3f5a22d09",
     "grade": false,
     "grade_id": "cell-f0cf0a3687a9ee3a",
     "locked": true,
     "schema_version": 3,
     "solution": false,
     "task": false
    }
   },
   "source": [
    "## In lab exercises\n",
    "\n",
    "1. Verify that the gradient descent solution is correct. Plot the optimal decision boundary you obtain.\n",
    "\n",
    "2. Write a new class that uses Newton's method for the optmization rather than simple gradient descent.\n",
    "\n",
    "3. Verify that you obtain a similar solution with Newton's method. Plot the optimal decision boundary you obtain.\n",
    "\n",
    "4. Compare the number of iterations required for gradient descent vs. Newton's method. Do you observe other issues\n",
    "   with Newton's method such as a singular or nearly singular Hessian matrix?\n"
   ]
  },
  {
   "cell_type": "markdown",
   "metadata": {
    "deletable": false,
    "editable": false,
    "nbgrader": {
     "cell_type": "markdown",
     "checksum": "810c41c17113dd16fefb2dc4b4c0844d",
     "grade": false,
     "grade_id": "cell-3173cca8f2f72801",
     "locked": true,
     "schema_version": 3,
     "solution": false,
     "task": false
    }
   },
   "source": [
    "### Exercise 1.9 (5 points)\n",
    "\n",
    "Plot the optimal decision boundary of gradient ascent"
   ]
  },
  {
   "cell_type": "code",
   "execution_count": null,
   "metadata": {
    "deletable": false,
    "nbgrader": {
     "cell_type": "code",
     "checksum": "2faaffe5318c4447823b59c2795e8fa9",
     "grade": true,
     "grade_id": "cell-3c223505aaf0ad03",
     "locked": false,
     "points": 5,
     "schema_version": 3,
     "solution": true,
     "task": false
    }
   },
   "outputs": [],
   "source": [
    "# YOUR CODE HERE\n",
    "raise NotImplementedError()"
   ]
  },
  {
   "attachments": {
    "lab05-3.png": {
     "image/png": "[encoded data removed]"
    }
   },
   "cell_type": "markdown",
   "metadata": {
    "deletable": false,
    "editable": false,
    "nbgrader": {
     "cell_type": "markdown",
     "checksum": "4d9e1650a2d10f4dd4c4cbc85a86eaf3",
     "grade": false,
     "grade_id": "cell-1f9171b8ffba68a4",
     "locked": true,
     "schema_version": 3,
     "solution": false,
     "task": false
    }
   },
   "source": [
    "**Expect result (or look alike):**\\\n",
    "![lab05-3.png](attachment:lab05-3.png)"
   ]
  },
  {
   "cell_type": "code",
   "execution_count": null,
   "metadata": {},
   "outputs": [],
   "source": [
    "print(\"Accuracy =\",BGD_model.getAccuracy(X_design_test,y_test,bgd_theta))"
   ]
  },
  {
   "cell_type": "markdown",
   "metadata": {
    "deletable": false,
    "editable": false,
    "nbgrader": {
     "cell_type": "markdown",
     "checksum": "23dd94e79272723f5c225446a2dc6364",
     "grade": false,
     "grade_id": "cell-2e97059883af3bba",
     "locked": true,
     "schema_version": 3,
     "solution": false,
     "task": false
    }
   },
   "source": [
    "### Exercise 2.1 (10 points)\n",
    "\n",
    "Write Newton's method class"
   ]
  },
  {
   "cell_type": "code",
   "execution_count": null,
   "metadata": {
    "deletable": false,
    "nbgrader": {
     "cell_type": "code",
     "checksum": "976788b621d550c93f2714262b749fe4",
     "grade": false,
     "grade_id": "cell-7e141a34ab5e21a8",
     "locked": false,
     "schema_version": 3,
     "solution": true,
     "task": false
    }
   },
   "outputs": [],
   "source": [
    "class Logistic_NM: #logistic regression for newton's method\n",
    "      \n",
    "    def __init__(self):\n",
    "        pass\n",
    "    \n",
    "    def sigmoid(self,z):\n",
    "        s = None\n",
    "        # YOUR CODE HERE\n",
    "        raise NotImplementedError()\n",
    "        return s\n",
    "\n",
    "    def h(self,X, theta):\n",
    "        hf = None\n",
    "        # YOUR CODE HERE\n",
    "        raise NotImplementedError()\n",
    "        return hf\n",
    "\n",
    "    def gradient(self, X, y, y_pred):\n",
    "        grad = None\n",
    "        # YOUR CODE HERE\n",
    "        raise NotImplementedError()\n",
    "        return grad\n",
    "        \n",
    "    def hessian(self, X, y, theta):\n",
    "        hess_mat = None\n",
    "        # YOUR CODE HERE\n",
    "        raise NotImplementedError()\n",
    "        return hess_mat\n",
    "        \n",
    "    def costFunc(self, theta, X, y):   \n",
    "        cost, grad = None, None\n",
    "        # YOUR CODE HERE\n",
    "        raise NotImplementedError()\n",
    "        return cost, grad\n",
    "    \n",
    "    def newtonsMethod(self, X, y, theta, num_iters):\n",
    "        m = len(y)\n",
    "        J_history = []\n",
    "        theta_history = []\n",
    "        for i in range(num_iters):\n",
    "            # YOUR CODE HERE\n",
    "            raise NotImplementedError()\n",
    "            \n",
    "            J_history.append(cost)\n",
    "            theta_history.append(theta)\n",
    "        J_min_index = np.argmin(J_history)\n",
    "        print(\"Minimum at iteration:\", J_min_index)\n",
    "        return theta_history[J_min_index] , J_history\n",
    "\n",
    "    def predict(self,X, theta):\n",
    "        labels=[]\n",
    "        # YOUR CODE HERE\n",
    "        raise NotImplementedError()\n",
    "        \n",
    "        labels=np.asarray(labels)\n",
    "        return labels\n",
    "     \n",
    "    def getAccuracy(self,X,y,theta):\n",
    "        percent_correct = None\n",
    "        # YOUR CODE HERE\n",
    "        raise NotImplementedError()\n",
    "        return percent_correct"
   ]
  },
  {
   "cell_type": "code",
   "execution_count": null,
   "metadata": {
    "deletable": false,
    "editable": false,
    "nbgrader": {
     "cell_type": "code",
     "checksum": "7726e172f95467b24b38ebf7263d3a9b",
     "grade": true,
     "grade_id": "cell-4801684db23de9bc",
     "locked": true,
     "points": 10,
     "schema_version": 3,
     "solution": false,
     "task": false
    }
   },
   "outputs": [],
   "source": [
    "# Test function: Do not remove\n",
    "lbgd = Logistic_NM()\n",
    "test_x = np.array([[1,2,3,4,5]]).T\n",
    "out_x1 = lbgd.sigmoid(test_x)\n",
    "out_x2 = lbgd.sigmoid(test_x.T)\n",
    "print('out_x1', out_x1.T)\n",
    "assert np.array_equal(np.round(out_x1.T, 5), np.round([[0.73105858, 0.88079708, 0.95257413, 0.98201379, 0.99330715]], 5)), \"sigmoid function is incorrect\"\n",
    "assert np.array_equal(np.round(out_x2, 5), np.round([[0.73105858, 0.88079708, 0.95257413, 0.98201379, 0.99330715]], 5)), \"sigmoid function is incorrect\"\n",
    "test_t = np.array([[0.3, 0.2]]).T\n",
    "test_x = np.array([[1,2,3,4,5, 6], [2, 9, 4, 3, 1, 0]]).T\n",
    "test_y = np.array([[0,1,0,1,0,1]]).T\n",
    "test_y_p = lbgd.h(test_x, test_t)\n",
    "print('test_y_p', test_y_p.T)\n",
    "assert np.array_equal(np.round(test_y_p.T, 5), np.round([[0.66818777, 0.9168273, 0.84553473, 0.85814894, 0.84553473, 0.85814894]], 5)), \"hyperthesis function is incorrect\"\n",
    "test_g = lbgd.gradient(test_x, test_y, test_y_p)\n",
    "print('test_g', test_g.T)\n",
    "assert np.array_equal(np.round(test_g.T, 5), np.round([[0.9746016, 0.73165696]], 5)), \"gradient function is incorrect\"\n",
    "test_h = lbgd.hessian(test_x, test_y, test_t)\n",
    "print('test_h', test_h)\n",
    "assert test_h.shape == (2, 2), \"hessian matrix function is incorrect\"\n",
    "assert np.array_equal(np.round(test_h.T, 5), np.round([[12.17334371, 6.55487738],[ 6.55487738, 14.84880387]], 5)), \"hessian matrix function is incorrect\"\n",
    "test_c, test_g = lbgd.costFunc(test_t, test_x, test_y)\n",
    "print('test_c', test_c.T)\n",
    "assert np.round(test_c, 5) == np.round(0.87192491, 5), \"costFunc function is incorrect\"\n",
    "test_t_out , test_j = lbgd.newtonsMethod(test_x, test_y, test_t, 3)\n",
    "print('test_t_out', test_t_out.T)\n",
    "print('test_j', test_j)\n",
    "assert np.array_equal(np.round(test_t_out.T, 5), np.round([[0.14765747, 0.15607017]], 5)), \"newtonsMethod function is incorrect\"\n",
    "assert np.round(test_j[2], 5) == np.round(0.7534506190845247, 5), \"newtonsMethod function is incorrect\"\n",
    "test_l = lbgd.predict(test_x, test_t)\n",
    "print('test_l', test_l)\n",
    "assert np.array_equal(np.round(test_l, 1), np.round([1,1,1,1,1,1], 1)), \"gradientAscent function is incorrect\"\n",
    "test_a = lbgd.getAccuracy(test_x,test_y,test_t)\n",
    "print('test_a', test_a)\n",
    "assert np.round(test_a, 1) == 50.0, \"getAccuracy function is incorrect\"\n",
    "\n",
    "print(\"success!\")\n",
    "# End Test function"
   ]
  },
  {
   "cell_type": "markdown",
   "metadata": {
    "deletable": false,
    "editable": false,
    "nbgrader": {
     "cell_type": "markdown",
     "checksum": "67431703a77fceadc272a42bbec19ce8",
     "grade": false,
     "grade_id": "cell-4d6046bbd3592288",
     "locked": true,
     "schema_version": 3,
     "solution": false,
     "task": false
    }
   },
   "source": [
    "**Expect result:**\n",
    "out_x1 [[0.73105858 0.88079708 0.95257413 0.98201379 0.99330715]]\\\n",
    "test_y_p [[0.66818777 0.9168273  0.84553473 0.85814894 0.84553473 0.85814894]]\\\n",
    "test_g [[0.9746016  0.73165696]]\\\n",
    "test_h [[12.17334371  6.55487738]\\\n",
    " [ 6.55487738 14.84880387]]\\\n",
    "test_c 0.8719249134773479\\\n",
    "Minimum at iteration: 2\\\n",
    "test_t_out [[0.14765747 0.15607017]]\\\n",
    "test_j [0.8719249134773479, 0.7967484437157274, 0.7534506190845247]\\\n",
    "test_l [1 1 1 1 1 1]\\\n",
    "test_a 50.0"
   ]
  },
  {
   "cell_type": "code",
   "execution_count": null,
   "metadata": {},
   "outputs": [],
   "source": [
    "NM_model = Logistic_NM()\n",
    "\n",
    "iterations = 1000\n",
    "\n",
    "nm_theta, nm_cost = NM_model.newtonsMethod(X_design_train, y_train, initial_theta, iterations)\n",
    "print(\"theta:\",nm_theta)\n",
    "\n",
    "print(nm_cost[0])\n",
    "plt.plot(nm_cost)\n",
    "plt.show()"
   ]
  },
  {
   "attachments": {
    "lab05-4.png": {
     "image/png": "[encoded data removed]"
    }
   },
   "cell_type": "markdown",
   "metadata": {
    "deletable": false,
    "editable": false,
    "nbgrader": {
     "cell_type": "markdown",
     "checksum": "73e2d3dfffc3c43662d39f081bf3a344",
     "grade": false,
     "grade_id": "cell-260462d542459f86",
     "locked": true,
     "schema_version": 3,
     "solution": false,
     "task": false
    }
   },
   "source": [
    "**Expect result (or look alike):**\\\n",
    "Minimum at iteration: 999\\\n",
    "theta: [[-0.07313861]\\\n",
    " [-0.13605172]\\\n",
    " [ 0.05419746]]\\\n",
    "0.6931471805599453\n",
    "\n",
    "![lab05-4.png](attachment:lab05-4.png)"
   ]
  },
  {
   "cell_type": "markdown",
   "metadata": {
    "deletable": false,
    "editable": false,
    "nbgrader": {
     "cell_type": "markdown",
     "checksum": "3832577492f28c5d75184636a778b503",
     "grade": false,
     "grade_id": "cell-53224281d9ea6bb4",
     "locked": true,
     "schema_version": 3,
     "solution": false,
     "task": false
    }
   },
   "source": [
    "### Exercise 2.2 (5 points)\n",
    "\n",
    "Plot the optimal decision boundary of Newton method"
   ]
  },
  {
   "cell_type": "code",
   "execution_count": null,
   "metadata": {
    "deletable": false,
    "nbgrader": {
     "cell_type": "code",
     "checksum": "f09b8821e20308b4d6f2d577bdbe6e9a",
     "grade": true,
     "grade_id": "cell-ad8545ff8d145826",
     "locked": false,
     "points": 0,
     "schema_version": 3,
     "solution": true,
     "task": false
    }
   },
   "outputs": [],
   "source": [
    "# YOUR CODE HERE\n",
    "raise NotImplementedError()"
   ]
  },
  {
   "attachments": {
    "lab05-5.png": {
     "image/png": "[encoded data removed]"
    }
   },
   "cell_type": "markdown",
   "metadata": {
    "deletable": false,
    "editable": false,
    "nbgrader": {
     "cell_type": "markdown",
     "checksum": "6fec08668277038362eb01a1854d9f74",
     "grade": false,
     "grade_id": "cell-559db7e767d96eae",
     "locked": true,
     "schema_version": 3,
     "solution": false,
     "task": false
    }
   },
   "source": [
    "**Expect result (or look alike):**\n",
    "\n",
    "![lab05-5.png](attachment:lab05-5.png)"
   ]
  },
  {
   "cell_type": "code",
   "execution_count": null,
   "metadata": {},
   "outputs": [],
   "source": [
    "print(\"Accuracy =\",NM_model.getAccuracy(X_design_test,y_test,bgd_theta))"
   ]
  },
  {
   "cell_type": "markdown",
   "metadata": {
    "deletable": false,
    "editable": false,
    "nbgrader": {
     "cell_type": "markdown",
     "checksum": "a2efedccace0768917bc94d1818ef700",
     "grade": false,
     "grade_id": "cell-fed9bca1391a170b",
     "locked": true,
     "schema_version": 3,
     "solution": false,
     "task": false
    }
   },
   "source": [
    "### Exercise 2.3 (5 points)\n",
    "\n",
    "Compare the number of iterations required for gradient descent vs. Newton's method. Do you observe other issues with Newton's method such as a singular or nearly singular Hessian matrix?"
   ]
  },
  {
   "cell_type": "markdown",
   "metadata": {
    "deletable": false,
    "nbgrader": {
     "cell_type": "markdown",
     "checksum": "b2651ebe959241be5341519791df3a05",
     "grade": true,
     "grade_id": "cell-ebdae5b796e5cec6",
     "locked": false,
     "points": 5,
     "schema_version": 3,
     "solution": true,
     "task": false
    }
   },
   "source": [
    "YOUR ANSWER HERE"
   ]
  },
  {
   "cell_type": "markdown",
   "metadata": {
    "deletable": false,
    "editable": false,
    "nbgrader": {
     "cell_type": "markdown",
     "checksum": "11d0e3336d02c1e8bbb07683b7a3c73e",
     "grade": false,
     "grade_id": "cell-e67e9ff8404bca4b",
     "locked": true,
     "points": 35,
     "schema_version": 3,
     "solution": false,
     "task": true
    }
   },
   "source": [
    "## Take-home exercises\n",
    "\n",
    "1. Perform a *polar transformation* on the data above to obtain a linearly separable dataset. (5 points)\n",
    "\n",
    "2. Verify that you obtain good classification accuracy for logistic regression with GD or Netwon's method\n",
    "   after the polar transformation (10 points)\n",
    "   \n",
    "3. Apply Newton's method to the dataset you used for the take home exercises in Lab 03. (20 points)\n",
    "\n",
    "\n"
   ]
  },
  {
   "cell_type": "code",
   "execution_count": null,
   "metadata": {},
   "outputs": [],
   "source": []
  },
  {
   "cell_type": "code",
   "execution_count": null,
   "metadata": {},
   "outputs": [],
   "source": []
  },
  {
   "cell_type": "code",
   "execution_count": null,
   "metadata": {},
   "outputs": [],
   "source": []
  },
  {
   "cell_type": "markdown",
   "metadata": {
    "deletable": false,
    "editable": false,
    "nbgrader": {
     "cell_type": "markdown",
     "checksum": "6c6d00d8276c360458ccc44d5ca2c03c",
     "grade": false,
     "grade_id": "cell-5e1efbb59089f2de",
     "locked": true,
     "schema_version": 3,
     "solution": false,
     "task": false
    }
   },
   "source": [
    "## The report\n",
    "\n",
    "Write a brief report covering your experiments (both in lab and take home) and send as a Jupyter notebook\n",
    "to the TAs, Manish and Abhishek before the next lab.\n",
    "\n",
    "In your solution, be sure to follow instructions."
   ]
  },
  {
   "cell_type": "code",
   "execution_count": null,
   "metadata": {},
   "outputs": [],
   "source": []
  }
 ],
 "metadata": {
  "kernelspec": {
   "display_name": "Python 3",
   "language": "python",
   "name": "python3"
  },
  "language_info": {
   "codemirror_mode": {
    "name": "ipython",
    "version": 3
   },
   "file_extension": ".py",
   "mimetype": "text/x-python",
   "name": "python",
   "nbconvert_exporter": "python",
   "pygments_lexer": "ipython3",
   "version": "3.8.3"
  }
 },
 "nbformat": 4,
 "nbformat_minor": 4
}
