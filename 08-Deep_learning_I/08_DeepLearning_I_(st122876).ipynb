{
 "cells": [
  {
   "cell_type": "markdown",
   "metadata": {
    "id": "R2Yg-3_LKclC"
   },
   "source": [
    "# Lab 08: Deep Learning Part I: Fully Connected Neural Networks\n",
    "\n",
    "In class, we have developed the mathematics and programming techniques for binary classification using fully connected neural networks\n",
    "having one or more hidden layers.\n",
    "\n",
    "Today, we'll expand on that to consider (small) image classification using again fully connected neural networks with a multinomial\n",
    "(softmax) output layer."
   ]
  },
  {
   "cell_type": "code",
   "execution_count": null,
   "metadata": {
    "id": "YhQL_VFkKclF",
    "outputId": "35b77608-f378-4385-f469-ac85d949f42c"
   },
   "outputs": [
    {
     "name": "stdout",
     "output_type": "stream",
     "text": [
      "Requirement already satisfied: ipywidgets in /opt/conda/lib/python3.8/site-packages (7.5.1)\n",
      "Requirement already satisfied: ipykernel>=4.5.1 in /opt/conda/lib/python3.8/site-packages (from ipywidgets) (5.3.2)\n",
      "Requirement already satisfied: widgetsnbextension~=3.5.0 in /opt/conda/lib/python3.8/site-packages (from ipywidgets) (3.5.1)\n",
      "Requirement already satisfied: traitlets>=4.3.1 in /opt/conda/lib/python3.8/site-packages (from ipywidgets) (4.3.3)\n",
      "Requirement already satisfied: nbformat>=4.2.0 in /opt/conda/lib/python3.8/site-packages (from ipywidgets) (5.0.7)\n",
      "Requirement already satisfied: ipython>=4.0.0; python_version >= \"3.3\" in /opt/conda/lib/python3.8/site-packages (from ipywidgets) (7.16.1)\n",
      "Requirement already satisfied: tornado>=4.2 in /opt/conda/lib/python3.8/site-packages (from ipykernel>=4.5.1->ipywidgets) (6.0.4)\n",
      "Requirement already satisfied: jupyter-client in /opt/conda/lib/python3.8/site-packages (from ipykernel>=4.5.1->ipywidgets) (6.1.5)\n",
      "Requirement already satisfied: notebook>=4.4.1 in /opt/conda/lib/python3.8/site-packages (from widgetsnbextension~=3.5.0->ipywidgets) (6.0.3)\n",
      "Requirement already satisfied: decorator in /opt/conda/lib/python3.8/site-packages (from traitlets>=4.3.1->ipywidgets) (4.4.2)\n",
      "Requirement already satisfied: ipython-genutils in /opt/conda/lib/python3.8/site-packages (from traitlets>=4.3.1->ipywidgets) (0.2.0)\n",
      "Requirement already satisfied: six in /opt/conda/lib/python3.8/site-packages (from traitlets>=4.3.1->ipywidgets) (1.15.0)\n",
      "Requirement already satisfied: jupyter-core in /opt/conda/lib/python3.8/site-packages (from nbformat>=4.2.0->ipywidgets) (4.6.3)\n",
      "Requirement already satisfied: jsonschema!=2.5.0,>=2.4 in /opt/conda/lib/python3.8/site-packages (from nbformat>=4.2.0->ipywidgets) (3.2.0)\n",
      "Requirement already satisfied: setuptools>=18.5 in /opt/conda/lib/python3.8/site-packages (from ipython>=4.0.0; python_version >= \"3.3\"->ipywidgets) (49.2.0.post20200712)\n",
      "Requirement already satisfied: pygments in /opt/conda/lib/python3.8/site-packages (from ipython>=4.0.0; python_version >= \"3.3\"->ipywidgets) (2.6.1)\n",
      "Requirement already satisfied: pickleshare in /opt/conda/lib/python3.8/site-packages (from ipython>=4.0.0; python_version >= \"3.3\"->ipywidgets) (0.7.5)\n",
      "Requirement already satisfied: jedi>=0.10 in /opt/conda/lib/python3.8/site-packages (from ipython>=4.0.0; python_version >= \"3.3\"->ipywidgets) (0.17.1)\n",
      "Requirement already satisfied: backcall in /opt/conda/lib/python3.8/site-packages (from ipython>=4.0.0; python_version >= \"3.3\"->ipywidgets) (0.2.0)\n",
      "Requirement already satisfied: prompt-toolkit!=3.0.0,!=3.0.1,<3.1.0,>=2.0.0 in /opt/conda/lib/python3.8/site-packages (from ipython>=4.0.0; python_version >= \"3.3\"->ipywidgets) (3.0.5)\n",
      "Requirement already satisfied: pexpect; sys_platform != \"win32\" in /opt/conda/lib/python3.8/site-packages (from ipython>=4.0.0; python_version >= \"3.3\"->ipywidgets) (4.8.0)\n",
      "Requirement already satisfied: python-dateutil>=2.1 in /opt/conda/lib/python3.8/site-packages (from jupyter-client->ipykernel>=4.5.1->ipywidgets) (2.8.1)\n",
      "Requirement already satisfied: pyzmq>=13 in /opt/conda/lib/python3.8/site-packages (from jupyter-client->ipykernel>=4.5.1->ipywidgets) (19.0.1)\n",
      "Requirement already satisfied: Send2Trash in /opt/conda/lib/python3.8/site-packages (from notebook>=4.4.1->widgetsnbextension~=3.5.0->ipywidgets) (1.5.0)\n",
      "Requirement already satisfied: nbconvert in /opt/conda/lib/python3.8/site-packages (from notebook>=4.4.1->widgetsnbextension~=3.5.0->ipywidgets) (5.6.1)\n",
      "Requirement already satisfied: prometheus-client in /opt/conda/lib/python3.8/site-packages (from notebook>=4.4.1->widgetsnbextension~=3.5.0->ipywidgets) (0.8.0)\n",
      "Requirement already satisfied: terminado>=0.8.1 in /opt/conda/lib/python3.8/site-packages (from notebook>=4.4.1->widgetsnbextension~=3.5.0->ipywidgets) (0.8.3)\n",
      "Requirement already satisfied: jinja2 in /opt/conda/lib/python3.8/site-packages (from notebook>=4.4.1->widgetsnbextension~=3.5.0->ipywidgets) (2.11.2)\n",
      "Requirement already satisfied: attrs>=17.4.0 in /opt/conda/lib/python3.8/site-packages (from jsonschema!=2.5.0,>=2.4->nbformat>=4.2.0->ipywidgets) (19.3.0)\n",
      "Requirement already satisfied: pyrsistent>=0.14.0 in /opt/conda/lib/python3.8/site-packages (from jsonschema!=2.5.0,>=2.4->nbformat>=4.2.0->ipywidgets) (0.16.0)\n",
      "Requirement already satisfied: parso<0.8.0,>=0.7.0 in /opt/conda/lib/python3.8/site-packages (from jedi>=0.10->ipython>=4.0.0; python_version >= \"3.3\"->ipywidgets) (0.7.0)\n",
      "Requirement already satisfied: wcwidth in /opt/conda/lib/python3.8/site-packages (from prompt-toolkit!=3.0.0,!=3.0.1,<3.1.0,>=2.0.0->ipython>=4.0.0; python_version >= \"3.3\"->ipywidgets) (0.2.5)\n",
      "Requirement already satisfied: ptyprocess>=0.5 in /opt/conda/lib/python3.8/site-packages (from pexpect; sys_platform != \"win32\"->ipython>=4.0.0; python_version >= \"3.3\"->ipywidgets) (0.6.0)\n",
      "Requirement already satisfied: testpath in /opt/conda/lib/python3.8/site-packages (from nbconvert->notebook>=4.4.1->widgetsnbextension~=3.5.0->ipywidgets) (0.4.4)\n",
      "Requirement already satisfied: pandocfilters>=1.4.1 in /opt/conda/lib/python3.8/site-packages (from nbconvert->notebook>=4.4.1->widgetsnbextension~=3.5.0->ipywidgets) (1.4.2)\n",
      "Requirement already satisfied: bleach in /opt/conda/lib/python3.8/site-packages (from nbconvert->notebook>=4.4.1->widgetsnbextension~=3.5.0->ipywidgets) (3.1.5)\n",
      "Requirement already satisfied: entrypoints>=0.2.2 in /opt/conda/lib/python3.8/site-packages (from nbconvert->notebook>=4.4.1->widgetsnbextension~=3.5.0->ipywidgets) (0.3)\n",
      "Requirement already satisfied: defusedxml in /opt/conda/lib/python3.8/site-packages (from nbconvert->notebook>=4.4.1->widgetsnbextension~=3.5.0->ipywidgets) (0.6.0)\n",
      "Requirement already satisfied: mistune<2,>=0.8.1 in /opt/conda/lib/python3.8/site-packages (from nbconvert->notebook>=4.4.1->widgetsnbextension~=3.5.0->ipywidgets) (0.8.4)\n",
      "Requirement already satisfied: MarkupSafe>=0.23 in /opt/conda/lib/python3.8/site-packages (from jinja2->notebook>=4.4.1->widgetsnbextension~=3.5.0->ipywidgets) (1.1.1)\n",
      "Requirement already satisfied: packaging in /opt/conda/lib/python3.8/site-packages (from bleach->nbconvert->notebook>=4.4.1->widgetsnbextension~=3.5.0->ipywidgets) (20.4)\n",
      "Requirement already satisfied: webencodings in /opt/conda/lib/python3.8/site-packages (from bleach->nbconvert->notebook>=4.4.1->widgetsnbextension~=3.5.0->ipywidgets) (0.5.1)\n",
      "Requirement already satisfied: pyparsing>=2.0.2 in /opt/conda/lib/python3.8/site-packages (from packaging->bleach->nbconvert->notebook>=4.4.1->widgetsnbextension~=3.5.0->ipywidgets) (2.4.7)\n",
      "Enabling notebook extension jupyter-js-widgets/extension...\n",
      "      - Validating: \u001b[32mOK\u001b[0m\n"
     ]
    }
   ],
   "source": [
    "!pip install ipywidgets\n",
    "!jupyter nbextension enable --py widgetsnbextension"
   ]
  },
  {
   "cell_type": "markdown",
   "metadata": {
    "id": "HDIctElXKclG"
   },
   "source": [
    "## What is Deep learning doing?\n",
    "\n",
    "Let's try to classify the deep learning in this <link>[link](https://playground.tensorflow.org/\n",
    ")</link>. The page can observe your network visualization when learning it.\n",
    "\n",
    "![Lab08-1.PNG](attachment:Lab08-1.PNG)\n",
    "\n",
    "Select The initial setup of data (at the left) as:\n",
    "- Ratio of training to test data: 90%\n",
    "- Noise: 5\n",
    "- Batch size: 4\n",
    "\n",
    "Press run and observe the result."
   ]
  },
  {
   "cell_type": "markdown",
   "metadata": {
    "id": "Otsclf0nKclH",
    "nbgrader": {
     "grade": false,
     "grade_id": "cell-5a2309e6ce662316",
     "locked": true,
     "schema_version": 3,
     "solution": false,
     "task": false
    }
   },
   "source": [
    "## Exercise 1 (10 points)\n",
    "\n",
    "Select the spiral shape (the 4th shape). Select The initial setup of data (at the left) as:\n",
    "- Ratio of training to test data: 90%\n",
    "- Noise: 35\n",
    "- Batch size: 4\n",
    "\n",
    "Try to make the best separating result. Capture your **FULL** screen and input below"
   ]
  },
  {
   "cell_type": "markdown",
   "metadata": {
    "id": "EtvT0SM5KclH"
   },
   "source": [
    "Capture scrren here!\n",
    "\n",
    "![image](deep_learning.png)\n",
    "\n"
   ]
  },
  {
   "cell_type": "markdown",
   "metadata": {
    "id": "Slt65imEKclI"
   },
   "source": [
    "**Expect result**:\n",
    "\n",
    "![Lab08-2.PNG](attachment:Lab08-2.PNG)"
   ]
  },
  {
   "cell_type": "markdown",
   "metadata": {
    "id": "cj-POAjEKclI",
    "nbgrader": {
     "grade": false,
     "grade_id": "cell-9759bd629126b979",
     "locked": true,
     "schema_version": 3,
     "solution": false,
     "task": false
    }
   },
   "source": [
    "#### Special coding\n",
    "\n",
    "You can make jupyter in GUI (it also can export to HTML website)."
   ]
  },
  {
   "cell_type": "code",
   "execution_count": 1,
   "metadata": {
    "colab": {
     "referenced_widgets": [
      "77591ea76f5b40078c750fd3b17594fd"
     ]
    },
    "id": "O1rBJY0OKclJ",
    "outputId": "f739de36-59ae-4d59-9df7-e9f093f9d1c9"
   },
   "outputs": [
    {
     "data": {
      "application/vnd.jupyter.widget-view+json": {
       "model_id": "14f8ce37e27d4afe8e51116a944a9777",
       "version_major": 2,
       "version_minor": 0
      },
      "text/plain": [
       "VBox(children=(Label(value='Q1) What is your learning rate?'), RadioButtons(description='\\t', index=5, options…"
      ]
     },
     "metadata": {},
     "output_type": "display_data"
    }
   ],
   "source": [
    "from IPython.display import display, Markdown, clear_output\n",
    "# widget packages\n",
    "import ipywidgets as widgets\n",
    "\n",
    "# defining some widgets\n",
    "lblQ1 = widgets.Label(\n",
    "        value=\"Q1) What is your learning rate?\")\n",
    "rdoQ1 = widgets.RadioButtons(\n",
    "        options=['0.00001', '0.0001', '0.001', '0.003', '0.01', '0.03', '0.1', '0.3', '1', '3', '10',],\n",
    "        value='0.03',\n",
    "        description='\\t',\n",
    "        disabled=False)\n",
    "\n",
    "lblQ2 = widgets.Label(\n",
    "        value=\"Q2) What is your activation function in last layer?\")\n",
    "rdoQ2 = widgets.RadioButtons(\n",
    "        options=['ReLu', 'Tanh', 'Sigmoid', 'Linear',],\n",
    "        value='Tanh',\n",
    "        description='\\t',\n",
    "        disabled=False)\n",
    "\n",
    "lblQ3 = widgets.Label(\n",
    "        value=\"Q3) What is problem type?\")\n",
    "rdoQ3 = widgets.RadioButtons(\n",
    "        options=['Classification', 'Regression'],\n",
    "        value='Classification',\n",
    "        description='\\t',\n",
    "        disabled=False)\n",
    "\n",
    "lblQ4 = widgets.Label(value=\"Q4) Which input do you use?\")\n",
    "chkQ4_1 = widgets.Checkbox(\n",
    "           description='$X_1$',\n",
    "           value=True)\n",
    "chkQ4_2 = widgets.Checkbox(\n",
    "           description='$X_2$',\n",
    "           value=True)\n",
    "chkQ4_3 = widgets.Checkbox(\n",
    "           description='$X_1^2$',)\n",
    "chkQ4_4 = widgets.Checkbox(\n",
    "           description='$X_1X_2$',)\n",
    "chkQ4_5 = widgets.Checkbox(\n",
    "           description='$X_2^2$',)\n",
    "chkQ4_6 = widgets.Checkbox(\n",
    "           description='sin$(X_1)$',)\n",
    "chkQ4_7 = widgets.Checkbox(\n",
    "           description='sin$(X_2)$',)\n",
    "chkQ4 = widgets.VBox([chkQ4_1, chkQ4_2, chkQ4_3, chkQ4_4, chkQ4_5, chkQ4_6, chkQ4_7])\n",
    "\n",
    "lblQ5 = widgets.Label(value=\"Q5) How many hidden layers do you use?\")\n",
    "txtQ5 = widgets.IntText(\n",
    "       value=0,\n",
    "       description='hidden layers', )\n",
    "\n",
    "lblQ6 = widgets.Label(value=\"Q6) Explain your nodes for each layer\")\n",
    "txtQ6 = widgets.Textarea(\n",
    "       value='',\n",
    "       description='Explain here', )\n",
    "\n",
    "box = widgets.VBox([lblQ1, rdoQ1, lblQ2, rdoQ2, lblQ3, rdoQ3, lblQ4, chkQ4, lblQ5, txtQ5, lblQ6, txtQ6,])\n",
    "\n",
    "box"
   ]
  },
  {
   "cell_type": "code",
   "execution_count": 2,
   "metadata": {
    "id": "SHfhttblKclK",
    "outputId": "d98e1016-123f-4055-ee54-ca4594a96220"
   },
   "outputs": [
    {
     "name": "stdout",
     "output_type": "stream",
     "text": [
      "Use input features:  X1, X2, X1^2, X1X2, X2^2,\n",
      "Problem type: Classification\n",
      "The last activation function: Sigmoid\n",
      "Learning rate: 0.01\n",
      "Use 2 hidden layers. Each layer contains a set of neurons. The 1st hidden layer has 4 neurons and the 2nd hidden layer has 2 neurons.\n"
     ]
    }
   ],
   "source": [
    "q4str = \"\"\n",
    "if chkQ4_1.value:\n",
    "    q4str += \" X1,\"\n",
    "if chkQ4_2.value:\n",
    "    q4str += \" X2,\"\n",
    "if chkQ4_3.value:\n",
    "    q4str += \" X1^2,\"\n",
    "if chkQ4_4.value:\n",
    "    q4str += \" X1X2,\"\n",
    "if chkQ4_5.value:\n",
    "    q4str += \" X2^2,\"\n",
    "if chkQ4_6.value:\n",
    "    q4str += \" sin(X1),\"\n",
    "if chkQ4_7.value:\n",
    "    q4str += \" sin(X2),\"\n",
    "print(\"Use input features:\", q4str)\n",
    "print(\"Problem type:\", rdoQ3.value)\n",
    "print(\"The last activation function:\", rdoQ2.value)\n",
    "print(\"Learning rate:\", rdoQ1.value)\n",
    "print(\"Use\", txtQ5.value, \"hidden layers. Each layer contains\", txtQ6.value)"
   ]
  },
  {
   "cell_type": "markdown",
   "metadata": {
    "id": "iSE2zwtyKclK"
   },
   "source": [
    "## MNIST Data\n",
    "\n",
    "An image is a 2D array of pixels. Pixels can be scalar intensities (for a grayscale / black and white image) or a vector indicating a\n",
    "point in a color space such as RGB or HSV.\n",
    "\n",
    "Today we'll consider 8x8 grayscale images of digits from the famous \"MNIST\" dataset, which was considered a benchmark for machine learning algorithms\n",
    "up to the early 2000s, before the advent of large-scale image classification datasets.\n",
    "\n",
    "This dataset in SciKit-Learn has 10 classes, with 180 samples per class in most cases, for a total of 1797 samples.\n",
    "\n",
    "Let's load the dataset and check the y output."
   ]
  },
  {
   "cell_type": "code",
   "execution_count": null,
   "metadata": {
    "id": "WL1oq90UKclL",
    "outputId": "9086f931-00db-41bb-cb01-57839f1d4b00"
   },
   "outputs": [
    {
     "name": "stdout",
     "output_type": "stream",
     "text": [
      "4\n"
     ]
    }
   ],
   "source": [
    "import numpy as np\n",
    "from sklearn.datasets import load_digits\n",
    "import matplotlib.pyplot as plt\n",
    "\n",
    "# Load data\n",
    "\n",
    "data = load_digits()\n",
    "\n",
    "y_indices = data.target\n",
    "print(y_indices[100])"
   ]
  },
  {
   "cell_type": "markdown",
   "metadata": {
    "id": "kzT0n6QOKclM"
   },
   "source": [
    "## One hot encoding\n",
    "\n",
    "As you can see, the y output is index value. To use the value for classify in deep learning, you need to convert it to one hot. \n",
    "\n",
    "One hot encoding is a process by which categorical variables are converted into a form that could be provided to ML algorithms to do a better job in prediction.\n",
    "\n",
    "In this time, you need to convert the index value to be\n",
    "\n",
    "$$0 \\rightarrow [1, 0,0,0,0,0,0,0,0,0]$$\n",
    "$$1  \\rightarrow  [0, 1,0,0,0,0,0,0,0,0]$$\n",
    "$$2  \\rightarrow  [0, 0,1,0,0,0,0,0,0,0]$$\n",
    "$$3  \\rightarrow  [0, 0,0,1,0,0,0,0,0,0]$$\n",
    "$$4  \\rightarrow  [0, 0,0,0,1,0,0,0,0,0]$$\n",
    "$$5  \\rightarrow  [0, 0,0,0,0,1,0,0,0,0]$$\n",
    "$$6  \\rightarrow  [0, 0,0,0,0,0,1,0,0,0]$$\n",
    "$$7  \\rightarrow  [0, 0,0,0,0,0,0,1,0,0]$$\n",
    "$$8  \\rightarrow  [0, 0,0,0,0,0,0,0,1,0]$$\n",
    "$$9  \\rightarrow  [0, 0,0,0,0,0,0,0,0,1]$$"
   ]
  },
  {
   "cell_type": "code",
   "execution_count": null,
   "metadata": {
    "id": "cvMi-F02KclM",
    "outputId": "5b90029b-79d9-4d12-da25-8c936a9eb36d"
   },
   "outputs": [
    {
     "name": "stdout",
     "output_type": "stream",
     "text": [
      "[0. 0. 0. 0. 1. 0. 0. 0. 0. 0.]\n"
     ]
    }
   ],
   "source": [
    "def convert_to_one_hot(y):\n",
    "    y_vect = np.zeros((len(y), 10))\n",
    "    for i in range(len(y)):\n",
    "        y_vect[i, int(y[i])] = 1\n",
    "    return y_vect\n",
    "\n",
    "# Convert target indices to one-hot representation\n",
    "y = convert_to_one_hot(y_indices)\n",
    "print(y[100])"
   ]
  },
  {
   "cell_type": "markdown",
   "metadata": {
    "id": "A1hgx9eaKclM"
   },
   "source": [
    "Let's see the X input shape."
   ]
  },
  {
   "cell_type": "code",
   "execution_count": null,
   "metadata": {
    "id": "N6Gr9I7BKclN",
    "outputId": "54aac542-ea3e-4901-baba-a3aa0f31bc76"
   },
   "outputs": [
    {
     "name": "stdout",
     "output_type": "stream",
     "text": [
      "(1797, 64)\n"
     ]
    }
   ],
   "source": [
    "X = np.matrix(data.data)\n",
    "print(X.shape)"
   ]
  },
  {
   "cell_type": "markdown",
   "metadata": {
    "id": "YWbJhhKyKclN"
   },
   "source": [
    "You can see that the row number is the index of mnist data, and the column number is the mnist data of 64 pixels which is ready for using it as the fully connect network. To show the image, you need to reshape the 64 pixels to be $8\\times8$."
   ]
  },
  {
   "cell_type": "code",
   "execution_count": null,
   "metadata": {
    "id": "mcaQ8yrZKclN",
    "outputId": "d07caee5-d89c-4e66-f47f-65362c579ed8"
   },
   "outputs": [
    {
     "data": {
      "text/plain": [
       "Text(0.5, 1.0, 'Example MNIST sample (category 0)')"
      ]
     },
     "execution_count": 4,
     "metadata": {},
     "output_type": "execute_result"
    },
    {
     "data": {
      "image/png": "[encoded data removed]",
      "text/plain": [
       "<Figure size 432x288 with 1 Axes>"
      ]
     },
     "metadata": {
      "needs_background": "light"
     },
     "output_type": "display_data"
    }
   ],
   "source": [
    "data_size = X.shape[0]\n",
    "x_area = X.shape[1]\n",
    "\n",
    "# Plot an example\n",
    "plt.imshow(np.reshape(X[0,:],(8,8)), 'gray')\n",
    "plt.title('Example MNIST sample (category %d)' % y_indices[0])"
   ]
  },
  {
   "cell_type": "markdown",
   "metadata": {
    "id": "QoUm4QffKclO"
   },
   "source": [
    "##  Reshaping arrays\n",
    "\n",
    "Actually, normally when you load an image to use in your fully-connect neural network, you need to reshape the image arrays into vector of shape $(length\\times height \\times depth, 1)$ as example below.\n",
    "\n",
    "<img src=\"image2vector_kiank.png\" title=\"image2vector_kiank\" style=\"width: 600px;\" />\n",
    "\n",
    "Two common numpy functions used in reshape are np.shape and np.reshape().\n",
    "\n",
    "- <code>X.shape</code> is used to get the shape (dimension) of a matrix/vector $X$.\n",
    "- <code>X.reshape(...)</code> is used to reshape $X$ into some other dimension."
   ]
  },
  {
   "cell_type": "code",
   "execution_count": null,
   "metadata": {
    "id": "xjIKlloGKclO",
    "outputId": "8a86661f-767f-4b1f-8ab3-40459de96313"
   },
   "outputs": [
    {
     "name": "stdout",
     "output_type": "stream",
     "text": [
      "image2vector(image) = [[0.67826139]\n",
      " [0.29380381]\n",
      " [0.90714982]\n",
      " [0.52835647]\n",
      " [0.4215251 ]\n",
      " [0.45017551]\n",
      " [0.92814219]\n",
      " [0.96677647]\n",
      " [0.85304703]\n",
      " [0.52351845]\n",
      " [0.19981397]\n",
      " [0.27417313]\n",
      " [0.60659855]\n",
      " [0.00533165]\n",
      " [0.10820313]\n",
      " [0.49978937]\n",
      " [0.34144279]\n",
      " [0.94630077]]\n"
     ]
    }
   ],
   "source": [
    "def image2vector(image):\n",
    "    \"\"\"\n",
    "    Convert image with 3 dimensions to become vector of (size, 1)\n",
    "    \"\"\"\n",
    "    v = image.reshape(image.shape[0]*image.shape[1]*image.shape[2],1)\n",
    "    # v = image.reshape(-1,1)       # another one solution\n",
    "    return v\n",
    "\n",
    "image = np.array([[[ 0.67826139,  0.29380381],\n",
    "        [ 0.90714982,  0.52835647],\n",
    "        [ 0.4215251 ,  0.45017551]],\n",
    "\n",
    "       [[ 0.92814219,  0.96677647],\n",
    "        [ 0.85304703,  0.52351845],\n",
    "        [ 0.19981397,  0.27417313]],\n",
    "\n",
    "       [[ 0.60659855,  0.00533165],\n",
    "        [ 0.10820313,  0.49978937],\n",
    "        [ 0.34144279,  0.94630077]]])\n",
    "\n",
    "print (\"image2vector(image) = \" + str(image2vector(image)))"
   ]
  },
  {
   "cell_type": "markdown",
   "metadata": {
    "id": "Qwua0N9YKclO"
   },
   "source": [
    "## Hand-Coded Fully Connected Neural Network\n",
    "\n",
    "Let's modify our code from class to work with this dataset and run 100 epochs of training.\n",
    "The main change is to use a one-hot encoding of the 10 classes at the output layer and to use\n",
    "the softmax activation function at the output. Some minor changes are required to calculate multinomial\n",
    "cross entropy loss rather than binary cross entropy loss.\n",
    "\n",
    "<img src=\"nn_mnist.jpeg\" title=\"mnist neural network\" style=\"width: 600px;\" />\n",
    "\n",
    "*Note*: change SoftMin to be SoftMax"
   ]
  },
  {
   "cell_type": "code",
   "execution_count": null,
   "metadata": {
    "id": "X3TOH-o0KclP"
   },
   "outputs": [],
   "source": [
    "import random\n",
    "import warnings\n",
    "warnings.filterwarnings(\"ignore\")"
   ]
  },
  {
   "cell_type": "markdown",
   "metadata": {
    "id": "1LCZcRKLKclP"
   },
   "source": [
    "#### Normalize each input feature\n",
    "\n",
    "Change the input X to be normalize vector. The normalize equation is\n",
    "\n",
    "$$norm(X) = \\frac{X-\\bar{X}}{SD}$$"
   ]
  },
  {
   "cell_type": "code",
   "execution_count": null,
   "metadata": {
    "id": "Tgays9CDKclP"
   },
   "outputs": [],
   "source": [
    "def normalize(X):\n",
    "    M = X.shape[0]\n",
    "    XX = X - np.tile(np.mean(X,0),[M,1])\n",
    "    XX = np.divide(XX, np.tile(np.std(XX,0),[M,1]))\n",
    "    return np.nan_to_num(XX, copy=True,nan=0.0)\n",
    "\n",
    "XX = normalize(X)"
   ]
  },
  {
   "cell_type": "markdown",
   "metadata": {
    "id": "paw4ssL5KclP"
   },
   "source": [
    "#### Partion data into training and testing dataset\n",
    "\n",
    "In deep learning, it is necessary for split your raw data to be 3 types:\n",
    "1. Training set - Data for training and learn\n",
    "2. Validate set - Data for test the network in each epoch or loop training.\n",
    "3. Test set - Data for test the network in finalize after training. This can assume that if the network is going to use, what accuracy should be.\n",
    "\n",
    "Spliting the training, validate, and test set need to make sure that\n",
    "1. The data need to be random.\n",
    "2. The validate and test set must be in the same as training set environment, but do not the same data from training set.\n",
    "3. A lot of data of training set can make your model accurate, but need to make sure that the validate and test set cover your conditions.\n",
    "\n",
    "Normally, we should split data in percentage. However, this is not fixed. You can adjust.\n",
    "- 60% training, 20% validate, and 20% test for the data over 1 million set\n",
    "- 80% training, 10% validate, and 10% test for otherwise.\n",
    "- For the very low data (~1000 data), we could use validate and test set in the same data.\n",
    "\n",
    "However, there are some trick about spliting the data when the data is too low, but we do not talk about it in here."
   ]
  },
  {
   "cell_type": "code",
   "execution_count": null,
   "metadata": {
    "id": "UkT6Vn0aKclQ"
   },
   "outputs": [],
   "source": [
    "percent_train = .6\n",
    "\n",
    "idx = np.arange(0,data_size)\n",
    "\n",
    "random.shuffle(idx)\n",
    "m_train = int(data_size * percent_train)\n",
    "train_idx = idx[0:m_train]\n",
    "test_idx = idx[m_train:data_size+1]\n",
    "X_train = XX[train_idx,:];\n",
    "X_test = XX[test_idx,:];\n",
    "\n",
    "y_train = y[train_idx];\n",
    "y_test = y[test_idx];\n",
    "y_test_indices = y_indices[test_idx]"
   ]
  },
  {
   "cell_type": "markdown",
   "metadata": {
    "id": "8Lch5zNZKclQ"
   },
   "source": [
    "#### Create some important activation functions\n",
    "\n",
    "ReLu equation is written\n",
    "\n",
    "$$ReLu(x) = \\max(0,x)$$\n",
    "\n",
    "Tanh equation is written\n",
    "\n",
    "$$Tanh(x) = \\frac{e^x-e^{-x}}{e^x+e^{-x}}$$\n",
    "\n",
    "Sigmoid equation is written\n",
    "\n",
    "$$Sigmoid(x) = \\frac{1}{1+e^{-x}}$$\n",
    "\n",
    "And Softmax equation is written\n",
    "\n",
    "$$Softmax(x) = softmax([x_1,x_2,\\cdots,x_n])=\n",
    "\\begin{bmatrix}\n",
    "\\frac{e^{x_1}}{\\sum_j e^{x_j}} & \\frac{e^{x_2}}{\\sum_j e^{x_j}} & \\cdots & \\frac{e^{x_n}}{\\sum_j e^{x_j}}\n",
    "\\end{bmatrix}$$"
   ]
  },
  {
   "cell_type": "code",
   "execution_count": null,
   "metadata": {
    "id": "aLx3euDiKclQ"
   },
   "outputs": [],
   "source": [
    "def ReLu(x):\n",
    "    output = np.maximum(0,x)\n",
    "    return output\n",
    "\n",
    "def Tanh(x):\n",
    "    x_p = np.exp(x)\n",
    "    x_m = np.exp(-x)\n",
    "    output = (x_p - x_m) / (x_p + x_m)\n",
    "    return output\n",
    "\n",
    "def Sigmoid(x):\n",
    "    output = 1/(1+np.exp(-x))\n",
    "    return output\n",
    "\n",
    "def Softmax(x):\n",
    "    exp_x = np.exp(x)\n",
    "    output = exp_x/np.sum(exp_x)\n",
    "    return output"
   ]
  },
  {
   "cell_type": "markdown",
   "metadata": {
    "id": "u8txezkAKclQ"
   },
   "source": [
    "#### Create network\n",
    "\n",
    "Let's start with a 3-layer network with sigmoid activation functions, \\\n",
    "6 units in layer 1, and 5 units in layer 2."
   ]
  },
  {
   "cell_type": "code",
   "execution_count": null,
   "metadata": {
    "id": "qfkgUpQcKclQ"
   },
   "outputs": [],
   "source": [
    "h2 = 5\n",
    "h1 = 6\n",
    "W = [[], np.random.normal(0,0.1,[x_area,h1]),\n",
    "         np.random.normal(0,0.1,[h1,h2]),\n",
    "         np.random.normal(0,0.1,[h2,10])]\n",
    "B = [[], np.random.normal(0,0.1,[h1,1]),\n",
    "         np.random.normal(0,0.1,[h2,1]),\n",
    "         np.random.normal(0,0.1,[10,1])]\n",
    "\n",
    "act_funcs = [None, ReLu, Sigmoid, Softmax]\n",
    "\n",
    "L = len(W)-1"
   ]
  },
  {
   "cell_type": "markdown",
   "metadata": {
    "id": "QcHyj0NZKclQ"
   },
   "source": [
    "#### Create Forward activation function\n",
    "\n",
    "For input $x^{(i)}$, the forward propagation in each layer can be calculated by\n",
    "$$z^{(i)}=W^Tx^{(i)}+b$$\n",
    "$$\\hat{y}^{(i)}=a^{(i)}=act(z^{(i)})$$"
   ]
  },
  {
   "cell_type": "code",
   "execution_count": null,
   "metadata": {
    "id": "5gPCAUR7KclQ"
   },
   "outputs": [],
   "source": [
    "def forward_layer(w, b, X, act_func):\n",
    "    z = w.T * X + b\n",
    "    if act_func is not None:\n",
    "        y_hat = act_func(z)\n",
    "    else:\n",
    "        y_hat = z\n",
    "    return z, y_hat"
   ]
  },
  {
   "cell_type": "code",
   "execution_count": null,
   "metadata": {
    "id": "Fii9MfRQKclR",
    "outputId": "d42dde17-7b38-456a-dda1-6d3118a304e9"
   },
   "outputs": [
    {
     "name": "stdout",
     "output_type": "stream",
     "text": [
      "Linear output of y_hat1 [[ 0.68]\n",
      " [ 0.52]\n",
      " [ 0.6 ]\n",
      " [-0.4 ]\n",
      " [ 0.15]] , y_hat2 [[0.7649478 ]\n",
      " [0.7349726 ]\n",
      " [0.75026011]\n",
      " [0.52497919]\n",
      " [0.65701046]] and y_hat3 [[0.7649478 ]\n",
      " [0.7349726 ]\n",
      " [0.75026011]\n",
      " [0.52497919]\n",
      " [0.65701046]]\n"
     ]
    }
   ],
   "source": [
    "# test function\n",
    "X = np.array([[.9, 0.2, 0.1, -0.3, -0.7]]).T\n",
    "\n",
    "w = np.array([[0.2, 0.1, 1, 3, 0.5]])\n",
    "b = np.array([[1]])\n",
    "\n",
    "z2, y_hat1 = forward_layer(w, 0.5, X, None)\n",
    "z1, y_hat2 = forward_layer(w, b, X, Sigmoid)\n",
    "z2, y_hat3 = forward_layer(w, 0.5, X, ReLu)\n",
    "print('Linear output of y_hat1', y_hat1, ', y_hat2', y_hat2, 'and y_hat3', y_hat2)"
   ]
  },
  {
   "cell_type": "markdown",
   "metadata": {
    "id": "mIIAqGpCKclR"
   },
   "source": [
    "#### Forward propagation"
   ]
  },
  {
   "cell_type": "code",
   "execution_count": null,
   "metadata": {
    "id": "gHCpuOmfKclR"
   },
   "outputs": [],
   "source": [
    "def forward_one_step(X, W, B, act_funcs):\n",
    "    L = len(W)-1\n",
    "    a = [X]\n",
    "    z = [[]]\n",
    "    delta = [[]]\n",
    "    dW = [[]]\n",
    "    db = [[]]\n",
    "    for l in range(1,L+1):\n",
    "        z_layer, a_layer = None, None\n",
    "        ### BEGIN SOLUTION\n",
    "        z_layer, a_layer = forward_layer(W[l], B[l], a[l-1], act_funcs[l])\n",
    "        ### END SOLUTION\n",
    "        z.append(z_layer)\n",
    "        a.append(a_layer)\n",
    "        # Just to give arrays the right shape for the backprop step\n",
    "        delta.append([]); dW.append([]); db.append([])\n",
    "    return a, z, delta, dW, db"
   ]
  },
  {
   "cell_type": "code",
   "execution_count": null,
   "metadata": {
    "id": "5QX8lFAOKclR"
   },
   "outputs": [],
   "source": [
    "def feed_forward(X,W,B, act_funcs):\n",
    "    L = len(W)-1\n",
    "    a = [X]\n",
    "    z = [[]]\n",
    "    delta = [[]]\n",
    "    dW = [[]]\n",
    "    db = [[]]\n",
    "    for l in range(1,L+1):\n",
    "        z_layer, a_layer = forward_layer(W[l], B[l], a[l-1], act_funcs[l])\n",
    "        z.append(z_layer)\n",
    "        a.append(a_layer)\n",
    "    return a_layer"
   ]
  },
  {
   "cell_type": "code",
   "execution_count": null,
   "metadata": {
    "id": "6kw_LUD0KclR",
    "outputId": "fd007623-a55b-4f8c-96da-a1f9611e91f4"
   },
   "outputs": [
    {
     "name": "stdout",
     "output_type": "stream",
     "text": [
      "size of a 4 a[3] = [[0.10851504]\n",
      " [0.10902876]\n",
      " [0.10207102]\n",
      " [0.09717262]\n",
      " [0.12677286]\n",
      " [0.10717895]\n",
      " [0.09680085]\n",
      " [0.1095434 ]\n",
      " [0.07388781]\n",
      " [0.0690287 ]]\n",
      "size of z 4 z[3] = [[ 0.08289005]\n",
      " [ 0.08761299]\n",
      " [ 0.02167013]\n",
      " [-0.02750973]\n",
      " [ 0.23839831]\n",
      " [ 0.07050113]\n",
      " [-0.03134293]\n",
      " [ 0.09232212]\n",
      " [-0.30145077]\n",
      " [-0.36947638]]\n"
     ]
    }
   ],
   "source": [
    "# test function\n",
    "\n",
    "x_this = X_train[0,:].T\n",
    "\n",
    "a, z, delta, dW, db = forward_one_step(x_this, W, B, act_funcs)\n",
    "print('size of a', len(a), 'a[3] =', a[3])\n",
    "print('size of z', len(z), 'z[3] =', z[3])"
   ]
  },
  {
   "cell_type": "markdown",
   "metadata": {
    "id": "PRkwZJpUKclR"
   },
   "source": [
    "## Loss function\n",
    "\n",
    "For softmax loss function, it is cross entropy loss. You can calculate as\n",
    "\n",
    "$$\\mathcal{L} = -\\sum_{i=0}^n (y_i * \\log\\hat{y}_i)$$"
   ]
  },
  {
   "cell_type": "code",
   "execution_count": null,
   "metadata": {
    "id": "qmpVByytKclS"
   },
   "outputs": [],
   "source": [
    "def loss(y, yhat):\n",
    "    l = - np.dot(y, np.log(yhat))\n",
    "    return l"
   ]
  },
  {
   "cell_type": "markdown",
   "metadata": {
    "id": "y6o35ss7KclS"
   },
   "source": [
    "### Back propagation\n",
    "\n",
    "Back propagation can be calculated as\n",
    "\n",
    "$$\\frac{\\partial\\mathcal{L}}{\\partial z^{[l-1]} } =[W^{[l]}]^T \\cdot \\frac{ \\partial\\mathcal{L} }{\\partial z^{[l]} } * {g^{[l-1]}}'(z^{[l-1]})$$\n",
    "\n",
    "$$\\frac{\\partial\\mathcal{L}}{\\partial W^{[l]} } = \\frac{ \\partial\\mathcal{L} }{\\partial z^{[l]} } \\cdot [a^{[l-1]}]^T$$\n",
    "\n",
    "$$\\frac{\\partial\\mathcal{L}}{\\partial b^{[l]} } = \\frac{ \\partial\\mathcal{L} }{\\partial z^{[l]} }$$\n",
    "\n",
    "When ${g^{[l-1]}}'$ is derivative activation function."
   ]
  },
  {
   "cell_type": "markdown",
   "metadata": {
    "id": "UGiRQ5FLKclS"
   },
   "source": [
    "### derivative activation functions\n",
    "\n",
    "First step of back propagation function, we need to calculate derivative of the activation functions that we use.\n",
    "\n",
    "The Linear_derivative ($dl$) function is\n",
    "$$dl(x) = [1]$$\n",
    "\n",
    "The ReLu_derivative ($dReLu$) function is\n",
    "\n",
    "$$dReLu(x)=\n",
    "\\left\\{\\begin{matrix}\n",
    "1 & x > 0\\\\ \n",
    "0 & otherwise\n",
    "\\end{matrix}\\right.$$\n",
    "\n",
    "The Tanh_derivative ($dTanh$) function is\n",
    "\n",
    "$$d\\tanh(x) = 1 - \\tanh^2(x)$$\n",
    "\n",
    "The Sigmoid_derivative ($ds$) function is\n",
    "\n",
    "$$dSigmoid(x) = Sigmoid(x)(1-Sigmoid(x))$$\n"
   ]
  },
  {
   "cell_type": "code",
   "execution_count": null,
   "metadata": {
    "id": "t5v8dQNbKclS"
   },
   "outputs": [],
   "source": [
    "def Linear_derivative(x):\n",
    "    output = np.ones(x.shape)\n",
    "    return output\n",
    "\n",
    "def ReLu_derivative(x):\n",
    "    output = (x > 0) * 1\n",
    "    return output\n",
    "\n",
    "def Tanh_derivative(x):\n",
    "    t=Tanh(x)\n",
    "    output = 1-t**2\n",
    "    return output\n",
    "\n",
    "def Sigmoid_derivative(x):\n",
    "    s=Sigmoid(x)\n",
    "    output = np.multiply(s,1-s)\n",
    "    return output"
   ]
  },
  {
   "cell_type": "markdown",
   "metadata": {
    "id": "mRyWPNqZKclS"
   },
   "source": [
    "#### Back propagation function"
   ]
  },
  {
   "cell_type": "code",
   "execution_count": null,
   "metadata": {
    "id": "skx4I-tPKclS"
   },
   "outputs": [],
   "source": [
    "def back_propagation(y, a, z, W, dW, db, act_deri):\n",
    "    '''\n",
    "    Backprop step. Note that derivative of multinomial cross entropy\n",
    "    loss is the same as that of binary cross entropy loss. See\n",
    "    https://levelup.gitconnected.com/killer-combo-softmax-and-cross-entropy-5907442f60ba\n",
    "    for a nice derivation.\n",
    "    '''\n",
    "    L = len(W)-1\n",
    "    \n",
    "    delta[L] = a[L] - np.matrix(y_this).T\n",
    "    for l in range(L,0,-1):\n",
    "        db[l] = delta[l].copy()\n",
    "        dW[l] = a[l-1] * delta[l].T\n",
    "        if l > 1:\n",
    "            delta[l-1] = np.multiply(act_deri[l-1](z[l-1]), W[l] * delta[l])\n",
    "            \n",
    "    return dW, db"
   ]
  },
  {
   "cell_type": "markdown",
   "metadata": {
    "id": "MYGXvwF1KclS"
   },
   "source": [
    "Let's setup derivative activation function."
   ]
  },
  {
   "cell_type": "code",
   "execution_count": null,
   "metadata": {
    "id": "zrpnteexKclT"
   },
   "outputs": [],
   "source": [
    "act_deri = [None, ReLu_derivative, Sigmoid_derivative, Softmax]"
   ]
  },
  {
   "cell_type": "code",
   "execution_count": null,
   "metadata": {
    "id": "UztBP0o7KclW",
    "outputId": "4e80cf25-37b8-46d5-be4f-ee1d53c9beba"
   },
   "outputs": [
    {
     "name": "stdout",
     "output_type": "stream",
     "text": [
      "dW [[], matrix([[ 0.00000000e+00,  0.00000000e+00,  0.00000000e+00,\n",
      "          0.00000000e+00,  0.00000000e+00,  0.00000000e+00],\n",
      "        [ 0.00000000e+00,  7.68338811e-04, -1.04896147e-03,\n",
      "         -7.89969840e-04,  1.72268172e-04, -3.85743435e-05],\n",
      "        [ 0.00000000e+00,  2.51116738e-03, -3.42832848e-03,\n",
      "         -2.58186423e-03,  5.63025330e-04, -1.26072810e-04],\n",
      "        [ 0.00000000e+00,  2.61101037e-03, -3.56463742e-03,\n",
      "         -2.68451810e-03,  5.85410989e-04, -1.31085413e-04],\n",
      "        [ 0.00000000e+00, -1.15143856e-03,  1.57198188e-03,\n",
      "          1.18385499e-03, -2.58162432e-04,  5.78078132e-05],\n",
      "        [ 0.00000000e+00, -4.13685960e-03,  5.64777709e-03,\n",
      "          4.25332453e-03, -9.27519513e-04,  2.07690462e-04],\n",
      "        [ 0.00000000e+00, -2.50925606e-03,  3.42571909e-03,\n",
      "          2.57989910e-03, -5.62596798e-04,  1.25976853e-04],\n",
      "        [ 0.00000000e+00,  2.86732050e-04, -3.91456047e-04,\n",
      "         -2.94804412e-04,  6.42877926e-05, -1.43953428e-05],\n",
      "        [ 0.00000000e+00,  1.35490585e-04, -1.84976214e-04,\n",
      "         -1.39305049e-04,  3.03781550e-05, -6.80228605e-06],\n",
      "        [ 0.00000000e+00,  1.43112519e-03, -1.95381929e-03,\n",
      "         -1.47141563e-03,  3.20870581e-04, -7.18494418e-05],\n",
      "        [ 0.00000000e+00,  1.43121268e-03, -1.95393872e-03,\n",
      "         -1.47150558e-03,  3.20890196e-04, -7.18538339e-05],\n",
      "        [ 0.00000000e+00, -2.31890200e-03,  3.16584145e-03,\n",
      "          2.38418601e-03, -5.19917779e-04,  1.16420153e-04],\n",
      "        [ 0.00000000e+00, -8.25329741e-04,  1.12676737e-03,\n",
      "          8.48565234e-04, -1.85046029e-04,  4.14355652e-05],\n",
      "        [ 0.00000000e+00, -2.96535642e-03,  4.04840233e-03,\n",
      "          3.04884005e-03, -6.64858422e-04,  1.48875308e-04],\n",
      "        [ 0.00000000e+00, -3.93628758e-03,  5.37394956e-03,\n",
      "          4.04710581e-03, -8.82549542e-04,  1.97620772e-04],\n",
      "        [ 0.00000000e+00,  2.99140587e-04, -4.08396590e-04,\n",
      "         -3.07562286e-04,  6.70698932e-05, -1.50183117e-05],\n",
      "        [ 0.00000000e+00,  1.02344741e-04, -1.39724415e-04,\n",
      "         -1.05226051e-04,  2.29465715e-05, -5.13820355e-06],\n",
      "        [ 0.00000000e+00,  1.66881004e-03, -2.27831448e-03,\n",
      "         -1.71579202e-03,  3.74161569e-04, -8.37823767e-05],\n",
      "        [ 0.00000000e+00,  2.37969938e-03, -3.24884403e-03,\n",
      "         -2.44669501e-03,  5.33549074e-04, -1.19472477e-04],\n",
      "        [ 0.00000000e+00,  1.97388296e-03, -2.69481008e-03,\n",
      "         -2.02945365e-03,  4.42561542e-04, -9.90985202e-05],\n",
      "        [ 0.00000000e+00,  2.26517879e-03, -3.09249675e-03,\n",
      "         -2.32895032e-03,  5.07872572e-04, -1.13722987e-04],\n",
      "        [ 0.00000000e+00, -3.03306103e-03,  4.14083490e-03,\n",
      "          3.11845074e-03, -6.80038378e-04,  1.52274408e-04],\n",
      "        [ 0.00000000e+00, -1.55627739e-03,  2.12468119e-03,\n",
      "          1.60009124e-03, -3.48930780e-04,  7.81326904e-05],\n",
      "        [ 0.00000000e+00,  2.61960468e-04, -3.57637066e-04,\n",
      "         -2.69335436e-04,  5.87337907e-05, -1.31516890e-05],\n",
      "        [ 0.00000000e+00,  7.65542599e-05, -1.04514399e-04,\n",
      "         -7.87094906e-05,  1.71641237e-05, -3.84339600e-06],\n",
      "        [ 0.00000000e+00,  1.80058848e-03, -2.45822275e-03,\n",
      "         -1.85128041e-03,  4.03707428e-04, -9.03982949e-05],\n",
      "        [ 0.00000000e+00,  2.25673846e-03, -3.08097373e-03,\n",
      "         -2.32027237e-03,  5.05980178e-04, -1.13299241e-04],\n",
      "        [ 0.00000000e+00, -1.23951967e-03,  1.69223312e-03,\n",
      "          1.27441585e-03, -2.77910975e-04,  6.22299134e-05],\n",
      "        [ 0.00000000e+00, -7.72970257e-04,  1.05528447e-03,\n",
      "          7.94731674e-04, -1.73306582e-04,  3.88068645e-05],\n",
      "        [ 0.00000000e+00, -3.30035941e-03,  4.50575946e-03,\n",
      "          3.39327437e-03, -7.39968975e-04,  1.65694087e-04],\n",
      "        [ 0.00000000e+00, -3.53605175e-03,  4.82753441e-03,\n",
      "          3.63560215e-03, -7.92813225e-04,  1.77526988e-04],\n",
      "        [ 0.00000000e+00,  1.08324437e-04, -1.47888092e-04,\n",
      "         -1.11374093e-04,  2.42872708e-05, -5.43841335e-06],\n",
      "        [ 0.00000000e+00,  0.00000000e+00,  0.00000000e+00,\n",
      "          0.00000000e+00,  0.00000000e+00,  0.00000000e+00],\n",
      "        [ 0.00000000e+00,  1.54204266e-03, -2.10524747e-03,\n",
      "         -1.58545576e-03,  3.45739231e-04, -7.74180378e-05],\n",
      "        [ 0.00000000e+00, -1.57157360e-03,  2.14556408e-03,\n",
      "          1.61581808e-03, -3.52360321e-04,  7.89006344e-05],\n",
      "        [ 0.00000000e+00, -2.53555273e-03,  3.46162016e-03,\n",
      "          2.60693610e-03, -5.68492736e-04,  1.27297073e-04],\n",
      "        [ 0.00000000e+00, -2.20317560e-03,  3.00784796e-03,\n",
      "          2.26520157e-03, -4.93970925e-04,  1.10610126e-04],\n",
      "        [ 0.00000000e+00, -2.44465149e-03,  3.33751879e-03,\n",
      "          2.51347572e-03, -5.48111896e-04,  1.22733389e-04],\n",
      "        [ 0.00000000e+00, -1.35590983e-03,  1.85113279e-03,\n",
      "          1.39408273e-03, -3.04006649e-04,  6.80732648e-05],\n",
      "        [ 0.00000000e+00,  0.00000000e+00,  0.00000000e+00,\n",
      "          0.00000000e+00,  0.00000000e+00,  0.00000000e+00],\n",
      "        [ 0.00000000e+00,  1.40687767e-04, -1.92071578e-04,\n",
      "         -1.44648548e-04,  3.15434079e-05, -7.06320985e-06],\n",
      "        [ 0.00000000e+00,  1.21846598e-03, -1.66348992e-03,\n",
      "         -1.25276943e-03,  2.73190556e-04, -6.11729155e-05],\n",
      "        [ 0.00000000e+00,  6.60180438e-04, -9.01300096e-04,\n",
      "         -6.78766486e-04,  1.48018134e-04, -3.31442673e-05],\n",
      "        [ 0.00000000e+00,  7.93550737e-04, -1.08338162e-03,\n",
      "         -8.15891557e-04,  1.77920903e-04, -3.98401047e-05],\n",
      "        [ 0.00000000e+00, -1.95259589e-03,  2.66574828e-03,\n",
      "          2.00756729e-03, -4.37788798e-04,  9.80298060e-05],\n",
      "        [ 0.00000000e+00,  9.00831387e-04, -1.22984470e-03,\n",
      "         -9.26192477e-04,  2.01974147e-04, -4.52261148e-05],\n",
      "        [ 0.00000000e+00,  1.83078617e-03, -2.49944962e-03,\n",
      "         -1.88232826e-03,  4.10478010e-04, -9.19143656e-05],\n",
      "        [ 0.00000000e+00,  2.03523203e-04, -2.77856586e-04,\n",
      "         -2.09252988e-04,  4.56316532e-05, -1.02178542e-05],\n",
      "        [ 0.00000000e+00,  8.12639136e-05, -1.10944174e-04,\n",
      "         -8.35517351e-05,  1.82200686e-05, -4.07984351e-06],\n",
      "        [ 0.00000000e+00,  9.25573327e-04, -1.26362322e-03,\n",
      "         -9.51630976e-04,  2.07521503e-04, -4.64682805e-05],\n",
      "        [ 0.00000000e+00,  3.05102778e-03, -4.16536369e-03,\n",
      "         -3.13692331e-03,  6.84066677e-04, -1.53176426e-04],\n",
      "        [ 0.00000000e+00,  3.30892116e-03, -4.51744824e-03,\n",
      "         -3.40207716e-03,  7.41888592e-04, -1.66123928e-04],\n",
      "        [ 0.00000000e+00, -1.98328331e-03,  2.70764376e-03,\n",
      "          2.03911865e-03, -4.44669182e-04,  9.95704638e-05],\n",
      "        [ 0.00000000e+00,  3.33147128e-03, -4.54823441e-03,\n",
      "         -3.42526213e-03,  7.46944523e-04, -1.67256054e-04],\n",
      "        [ 0.00000000e+00,  1.73713042e-03, -2.37158770e-03,\n",
      "         -1.78603582e-03,  3.89479585e-04, -8.72123916e-05],\n",
      "        [ 0.00000000e+00,  4.81128724e-04, -6.56852794e-04,\n",
      "         -4.94673932e-04,  1.07873199e-04, -2.41550009e-05],\n",
      "        [ 0.00000000e+00,  5.41169640e-05, -7.38822632e-05,\n",
      "         -5.56405179e-05,  1.21334889e-05, -2.71693467e-06],\n",
      "        [ 0.00000000e+00,  6.85923873e-04, -9.36445882e-04,\n",
      "         -7.05234675e-04,  1.53790034e-04, -3.44367129e-05],\n",
      "        [ 0.00000000e+00,  2.49843019e-03, -3.41093925e-03,\n",
      "         -2.56876845e-03,  5.60169544e-04, -1.25433341e-04],\n",
      "        [ 0.00000000e+00,  1.61988033e-03, -2.21151402e-03,\n",
      "         -1.66548479e-03,  3.63191107e-04, -8.13258673e-05],\n",
      "        [ 0.00000000e+00,  1.77108061e-03, -2.41793762e-03,\n",
      "         -1.82094181e-03,  3.97091509e-04, -8.89168562e-05],\n",
      "        [ 0.00000000e+00,  2.62976235e-03, -3.59023824e-03,\n",
      "         -2.70379800e-03,  5.89615343e-04, -1.32026854e-04],\n",
      "        [ 0.00000000e+00,  1.15972124e-03, -1.58328966e-03,\n",
      "         -1.19237085e-03,  2.60019479e-04, -5.82236439e-05],\n",
      "        [ 0.00000000e+00,  4.49530664e-04, -6.13714080e-04,\n",
      "         -4.62186292e-04,  1.00788642e-04, -2.25686246e-05]]), matrix([[ 0.        ,  0.        ,  0.        ,  0.        ,  0.        ],\n",
      "        [ 0.00516664, -0.00366745,  0.00521277, -0.00571807, -0.00523053],\n",
      "        [ 0.01750448, -0.01242526,  0.01766078, -0.01937274, -0.01772096],\n",
      "        [ 0.00705131, -0.00500525,  0.00711427, -0.0078039 , -0.00713851],\n",
      "        [ 0.00167512, -0.00118906,  0.00169008, -0.00185391, -0.00169584],\n",
      "        [ 0.00810873, -0.00575585,  0.00818114, -0.00897418, -0.00820901]]), matrix([[ 0.05538278,  0.05564497,  0.05209395,  0.04959395,  0.06470102,\n",
      "          0.05470088,  0.04940421, -0.45446201,  0.0377101 ,  0.03523015],\n",
      "        [ 0.05035732,  0.05059572,  0.04736692,  0.04509377,  0.05883002,\n",
      "          0.04973729,  0.04492125, -0.4132239 ,  0.03428826,  0.03203335],\n",
      "        [ 0.05157724,  0.05182142,  0.0485144 ,  0.04618619,  0.0602552 ,\n",
      "          0.0509422 ,  0.04600949, -0.42323442,  0.03511891,  0.03280937],\n",
      "        [ 0.05406076,  0.05431669,  0.05085043,  0.04841012,  0.06315657,\n",
      "          0.05339514,  0.04822491, -0.44361373,  0.03680993,  0.03438919],\n",
      "        [ 0.05317092,  0.05342264,  0.05001344,  0.04761329,  0.06211701,\n",
      "          0.05251625,  0.04743112, -0.43631184,  0.03620404,  0.03382314]])]\n",
      "db [[], matrix([[-0.        ],\n",
      "        [-0.00229344],\n",
      "        [ 0.00313107],\n",
      "        [ 0.002358  ],\n",
      "        [-0.00051421],\n",
      "        [ 0.00011514]]), matrix([[ 0.01537333],\n",
      "        [-0.0109125 ],\n",
      "        [ 0.0155106 ],\n",
      "        [-0.01701413],\n",
      "        [-0.01556345]]), matrix([[ 0.10851504],\n",
      "        [ 0.10902876],\n",
      "        [ 0.10207102],\n",
      "        [ 0.09717262],\n",
      "        [ 0.12677286],\n",
      "        [ 0.10717895],\n",
      "        [ 0.09680085],\n",
      "        [-0.8904566 ],\n",
      "        [ 0.07388781],\n",
      "        [ 0.0690287 ]])]\n"
     ]
    }
   ],
   "source": [
    "# test function\n",
    "x_this = X_train[0,:].T\n",
    "y_this = y_train[0,:]\n",
    "\n",
    "a, z, delta, dW, db = forward_one_step(x_this, W, B, act_funcs)\n",
    "dW, db = back_propagation(y_this, a, z, W, dW, db, act_deri)\n",
    "\n",
    "lenW = [0, 64, 6, 5]\n",
    "for i in range(4):\n",
    "    assert len(dW[i]) == lenW[i]\n",
    "    \n",
    "print(\"dW\", dW)\n",
    "print(\"db\", db)"
   ]
  },
  {
   "cell_type": "markdown",
   "metadata": {
    "id": "GwExPsnIKclX"
   },
   "source": [
    "### Update weight and bias\n",
    "\n",
    "In the training, to improve accuracy, you need to update weight/bias while training.\n",
    "Weight and bias update equations are\n",
    "$$\n",
    "W_{new}^{(i)} = W_{old}^{(i)} - \\alpha * \\delta W\n",
    "$$\n",
    "$$\n",
    "B_{new}^{(i)} = B_{old}^{(i)} - \\alpha * \\delta B\n",
    "$$\n",
    "\n",
    "When $\\alpha$ is learning rate. and $i$ is the layer number of network\n"
   ]
  },
  {
   "cell_type": "code",
   "execution_count": null,
   "metadata": {
    "id": "Zoz_do5-KclX"
   },
   "outputs": [],
   "source": [
    "def update_step(W, B, dW, db, alpha):\n",
    "    L = len(W)-1\n",
    "    for l in range(1,L+1):\n",
    "        W[l] = W[l] - alpha * dW[l]\n",
    "        B[l] = B[l] - alpha * db[l]\n",
    "    return W, B"
   ]
  },
  {
   "cell_type": "markdown",
   "metadata": {
    "id": "U6kIPgAUKclX"
   },
   "source": [
    "### Put them together\n",
    "\n",
    "Train for 100 epochs with mini-batch size 1"
   ]
  },
  {
   "cell_type": "code",
   "execution_count": null,
   "metadata": {
    "id": "B4MCW8ROKclX",
    "outputId": "26545ca7-797b-4306-e1be-7732bb78745a"
   },
   "outputs": [
    {
     "name": "stdout",
     "output_type": "stream",
     "text": [
      "Epoch 1 train loss 2492.013354\n",
      "Epoch 2 train loss 2485.611558\n",
      "Epoch 3 train loss 2475.647901\n",
      "Epoch 4 train loss 2421.389559\n",
      "Epoch 5 train loss 2278.271900\n",
      "Epoch 6 train loss 2079.388457\n",
      "Epoch 7 train loss 1874.336555\n",
      "Epoch 8 train loss 1689.120902\n",
      "Epoch 9 train loss 1533.345878\n",
      "Epoch 10 train loss 1390.651681\n",
      "Epoch 11 train loss 1263.646156\n",
      "Epoch 12 train loss 1159.083212\n",
      "Epoch 13 train loss 1080.999481\n",
      "Epoch 14 train loss 1019.114172\n",
      "Epoch 15 train loss 970.534996\n",
      "Epoch 16 train loss 923.420515\n",
      "Epoch 17 train loss 885.318917\n",
      "Epoch 18 train loss 847.142239\n",
      "Epoch 19 train loss 815.154876\n",
      "Epoch 20 train loss 789.739321\n",
      "Epoch 21 train loss 763.281479\n",
      "Epoch 22 train loss 742.177309\n",
      "Epoch 23 train loss 719.376549\n",
      "Epoch 24 train loss 701.930630\n",
      "Epoch 25 train loss 687.530471\n",
      "Epoch 26 train loss 664.272693\n",
      "Epoch 27 train loss 650.435712\n",
      "Epoch 28 train loss 623.615949\n",
      "Epoch 29 train loss 598.924736\n",
      "Epoch 30 train loss 574.458495\n",
      "Epoch 31 train loss 554.338820\n",
      "Epoch 32 train loss 538.693563\n",
      "Epoch 33 train loss 519.407370\n",
      "Epoch 34 train loss 502.925162\n",
      "Epoch 35 train loss 488.128741\n",
      "Epoch 36 train loss 477.658897\n",
      "Epoch 37 train loss 451.669559\n",
      "Epoch 38 train loss 431.816763\n",
      "Epoch 39 train loss 408.130708\n",
      "Epoch 40 train loss 383.546211\n",
      "Epoch 41 train loss 352.836437\n",
      "Epoch 42 train loss 328.817250\n",
      "Epoch 43 train loss 307.061463\n",
      "Epoch 44 train loss 283.288744\n",
      "Epoch 45 train loss 271.744218\n",
      "Epoch 46 train loss 263.547313\n",
      "Epoch 47 train loss 242.382094\n",
      "Epoch 48 train loss 231.922457\n",
      "Epoch 49 train loss 228.448999\n",
      "Epoch 50 train loss 214.570069\n",
      "Epoch 51 train loss 202.890781\n",
      "Epoch 52 train loss 196.747052\n",
      "Epoch 53 train loss 186.167884\n",
      "Epoch 54 train loss 176.861038\n",
      "Epoch 55 train loss 171.879412\n",
      "Epoch 56 train loss 166.856965\n",
      "Epoch 57 train loss 163.628618\n",
      "Epoch 58 train loss 161.649298\n",
      "Epoch 59 train loss 162.655736\n",
      "Epoch 60 train loss 151.456023\n",
      "Epoch 61 train loss 146.859481\n",
      "Epoch 62 train loss 149.469561\n",
      "Epoch 63 train loss 140.069082\n",
      "Epoch 64 train loss 148.724413\n",
      "Epoch 65 train loss 137.683729\n",
      "Epoch 66 train loss 124.264078\n",
      "Epoch 67 train loss 120.974552\n",
      "Epoch 68 train loss 119.457663\n",
      "Epoch 69 train loss 119.854200\n",
      "Epoch 70 train loss 108.169346\n",
      "Epoch 71 train loss 104.280894\n",
      "Epoch 72 train loss 104.447509\n",
      "Epoch 73 train loss 100.163990\n",
      "Epoch 74 train loss 95.081761\n",
      "Epoch 75 train loss 95.665577\n",
      "Epoch 76 train loss 92.890296\n",
      "Epoch 77 train loss 90.762007\n",
      "Epoch 78 train loss 89.712307\n",
      "Epoch 79 train loss 91.802756\n",
      "Epoch 80 train loss 89.043000\n",
      "Epoch 81 train loss 111.604755\n",
      "Epoch 82 train loss 125.983774\n",
      "Epoch 83 train loss 142.402641\n",
      "Epoch 84 train loss 114.257482\n",
      "Epoch 85 train loss 106.206338\n",
      "Epoch 86 train loss 96.363644\n",
      "Epoch 87 train loss 106.029510\n",
      "Epoch 88 train loss 90.941203\n",
      "Epoch 89 train loss 100.477234\n",
      "Epoch 90 train loss 94.353184\n",
      "Epoch 91 train loss 80.106025\n",
      "Epoch 92 train loss 76.036186\n",
      "Epoch 93 train loss 73.779404\n",
      "Epoch 94 train loss 70.892709\n",
      "Epoch 95 train loss 70.234564\n",
      "Epoch 96 train loss 68.629283\n",
      "Epoch 97 train loss 68.294984\n",
      "Epoch 98 train loss 67.066108\n",
      "Epoch 99 train loss 65.901495\n",
      "Epoch 100 train loss 65.770321\n"
     ]
    }
   ],
   "source": [
    "cost_arr = [] \n",
    "\n",
    "alpha = 0.01\n",
    "max_iter = 100\n",
    "for iter in range(0, max_iter):\n",
    "    loss_this_iter = 0\n",
    "    # random index of m_train\n",
    "    order = np.random.permutation(m_train)\n",
    "    for i in range(0, m_train):\n",
    "        # Grab the pattern order[i]\n",
    "        x_this = X_train[order[i],:].T\n",
    "        y_this = y_train[order[i],:]\n",
    "        \n",
    "        # Feed forward step\n",
    "        a, z, delta, dW, db = forward_one_step(x_this, W, B, act_funcs)\n",
    "            \n",
    "        # calulate loss\n",
    "        loss_this_pattern = loss(y_this, a[L])\n",
    "        loss_this_iter = loss_this_iter + loss_this_pattern\n",
    "        \n",
    "        # back propagation\n",
    "        dW, db = back_propagation(y_this, a, z, W, dW, db, act_deri)\n",
    "        \n",
    "        # update weight, bias\n",
    "        W, B = update_step(W, B, dW, db, alpha)\n",
    "            \n",
    "    print('Epoch %d train loss %f' % (iter + 1, loss_this_iter[0,0]))\n",
    "    cost_arr.append(loss_this_iter[0,0])"
   ]
  },
  {
   "cell_type": "code",
   "execution_count": null,
   "metadata": {
    "id": "w3dD7xpdKclX",
    "outputId": "861283b1-02fa-4ae1-f3a0-159c4ad5b6de"
   },
   "outputs": [
    {
     "data": {
      "image/png": "[encoded data removed]",
      "text/plain": [
       "<Figure size 432x288 with 1 Axes>"
      ]
     },
     "metadata": {
      "needs_background": "light"
     },
     "output_type": "display_data"
    }
   ],
   "source": [
    "plt.plot(np.arange(1,max_iter+1,1), cost_arr)\n",
    "plt.ylabel('Loss')\n",
    "plt.xlabel('Epoch')\n",
    "plt.show()"
   ]
  },
  {
   "cell_type": "markdown",
   "metadata": {
    "id": "-m32FECYKclX"
   },
   "source": [
    "#### Get test set accuracy"
   ]
  },
  {
   "cell_type": "code",
   "execution_count": null,
   "metadata": {
    "id": "pdKluWUDKclX",
    "outputId": "0de69567-a9fd-4d77-ff73-c624aa3d5956"
   },
   "outputs": [
    {
     "name": "stdout",
     "output_type": "stream",
     "text": [
      "Test accuracy: 0.9082\n"
     ]
    }
   ],
   "source": [
    "def predict_y(W, b, X):\n",
    "    M = X.shape[0]\n",
    "    y_pred = np.zeros(M)\n",
    "    for i in range(X.shape[0]):\n",
    "        y_pred[i] = np.argmax(feed_forward(X[i,:].T, W, B, act_funcs))\n",
    "    return y_pred\n",
    "\n",
    "y_test_predicted = predict_y(W, B, X_test)\n",
    "y_correct = y_test_predicted == y_test_indices\n",
    "test_accuracy = np.sum(y_correct) / len(y_correct)\n",
    "\n",
    "print('Test accuracy: %.4f' % (test_accuracy))"
   ]
  },
  {
   "cell_type": "markdown",
   "metadata": {
    "id": "4ppUalF6KclY"
   },
   "source": [
    "## In-class exercise (40 points)\n",
    "\n",
    "Modify the code above to plot both training loss and test loss as a function of epoch number.\n",
    "Use early stopping to obtain the best model according to the validation set.\n",
    "Experiment with the hyperparameters (learning rate, number of layers, number of units per layer) to get\n",
    "the best result you can.\n",
    "\n",
    "- Do at least 3 examples\n",
    "- Plot graphs\n",
    "- Tell the validation accuracy\n",
    "- Describe your experiments and results in your lab report."
   ]
  },
  {
   "cell_type": "code",
   "execution_count": null,
   "metadata": {
    "id": "ABqFdUvNKclY",
    "nbgrader": {
     "grade": true,
     "grade_id": "cell-1a70b857b0d7c3ce",
     "locked": false,
     "points": 40,
     "schema_version": 3,
     "solution": true,
     "task": false
    }
   },
   "outputs": [],
   "source": [
    "# modify your code here"
   ]
  },
  {
   "cell_type": "code",
   "execution_count": null,
   "metadata": {
    "id": "hfoWjryiKclY"
   },
   "outputs": [],
   "source": [
    "# 1st example\n",
    "\n",
    "h2 = 6\n",
    "h1 = 8\n",
    "W = [[], np.random.normal(0,0.1,[x_area,h1]),\n",
    "         np.random.normal(0,0.1,[h1,h2]),\n",
    "         np.random.normal(0,0.1,[h2,10])]\n",
    "B = [[], np.random.normal(0,0.1,[h1,1]),\n",
    "         np.random.normal(0,0.1,[h2,1]),\n",
    "         np.random.normal(0,0.1,[10,1])]\n",
    "\n",
    "act_funcs = [None, ReLu, Sigmoid, Softmax]\n",
    "\n",
    "L = len(W)-1"
   ]
  },
  {
   "cell_type": "code",
   "execution_count": null,
   "metadata": {
    "id": "zoMyxBPYm2uC",
    "outputId": "46297775-d1f9-41f1-a23d-8a7372e142d6"
   },
   "outputs": [
    {
     "name": "stdout",
     "output_type": "stream",
     "text": [
      "Epoch: 1, Train loss: 2488.696967 and Test loss: 1657.483406\n",
      "Epoch: 2, Train loss: 2483.140223 and Test loss: 1656.171130\n",
      "Epoch: 3, Train loss: 2479.562348 and Test loss: 1653.543085\n",
      "Epoch: 4, Train loss: 2475.196418 and Test loss: 1650.352375\n",
      "Epoch: 5, Train loss: 2467.446934 and Test loss: 1643.479475\n",
      "Epoch: 6, Train loss: 2451.634903 and Test loss: 1628.554426\n",
      "Epoch: 7, Train loss: 2418.559008 and Test loss: 1598.734590\n",
      "Epoch: 8, Train loss: 2347.420177 and Test loss: 1538.621805\n",
      "Epoch: 9, Train loss: 2224.280853 and Test loss: 1450.411384\n",
      "Epoch: 10, Train loss: 2069.253382 and Test loss: 1350.002364\n",
      "Epoch: 11, Train loss: 1914.676211 and Test loss: 1259.379028\n",
      "Epoch: 12, Train loss: 1775.337620 and Test loss: 1173.259622\n",
      "Epoch: 13, Train loss: 1646.514714 and Test loss: 1092.777969\n",
      "Epoch: 14, Train loss: 1525.549107 and Test loss: 1014.259261\n",
      "Epoch: 15, Train loss: 1413.422470 and Test loss: 942.036894\n",
      "Epoch: 16, Train loss: 1314.506956 and Test loss: 883.907246\n",
      "Epoch: 17, Train loss: 1228.354953 and Test loss: 835.553500\n",
      "Epoch: 18, Train loss: 1154.389087 and Test loss: 792.315586\n",
      "Epoch: 19, Train loss: 1090.483964 and Test loss: 756.892788\n",
      "Epoch: 20, Train loss: 1034.513685 and Test loss: 725.081134\n",
      "Epoch: 21, Train loss: 984.359240 and Test loss: 695.073923\n",
      "Epoch: 22, Train loss: 942.229250 and Test loss: 671.934804\n",
      "Epoch: 23, Train loss: 902.102680 and Test loss: 649.339131\n",
      "Epoch: 24, Train loss: 866.375184 and Test loss: 628.328067\n",
      "Epoch: 25, Train loss: 834.299075 and Test loss: 609.363152\n",
      "Epoch: 26, Train loss: 804.245268 and Test loss: 591.453045\n",
      "Epoch: 27, Train loss: 776.608012 and Test loss: 575.529380\n",
      "Epoch: 28, Train loss: 749.635593 and Test loss: 562.023813\n",
      "Epoch: 29, Train loss: 723.590219 and Test loss: 544.045304\n",
      "Epoch: 30, Train loss: 696.245815 and Test loss: 525.945796\n",
      "Epoch: 31, Train loss: 668.192722 and Test loss: 509.309947\n",
      "Epoch: 32, Train loss: 638.420865 and Test loss: 490.380124\n",
      "Epoch: 33, Train loss: 610.084227 and Test loss: 471.637485\n",
      "Epoch: 34, Train loss: 582.115332 and Test loss: 455.919588\n",
      "Epoch: 35, Train loss: 556.213738 and Test loss: 439.078507\n",
      "Epoch: 36, Train loss: 532.721522 and Test loss: 426.160158\n",
      "Epoch: 37, Train loss: 509.809035 and Test loss: 415.254485\n",
      "Epoch: 38, Train loss: 489.807116 and Test loss: 401.676188\n",
      "Epoch: 39, Train loss: 470.256012 and Test loss: 391.954571\n",
      "Epoch: 40, Train loss: 452.214028 and Test loss: 382.664849\n",
      "Epoch: 41, Train loss: 434.410469 and Test loss: 372.529962\n",
      "Epoch: 42, Train loss: 417.442671 and Test loss: 365.069579\n",
      "Epoch: 43, Train loss: 401.672122 and Test loss: 356.961631\n",
      "Epoch: 44, Train loss: 387.103880 and Test loss: 349.535630\n",
      "Epoch: 45, Train loss: 372.917723 and Test loss: 341.643828\n",
      "Epoch: 46, Train loss: 358.968881 and Test loss: 335.434286\n",
      "Epoch: 47, Train loss: 346.619056 and Test loss: 327.489993\n",
      "Epoch: 48, Train loss: 334.463667 and Test loss: 320.719051\n",
      "Epoch: 49, Train loss: 322.237509 and Test loss: 315.056519\n",
      "Epoch: 50, Train loss: 310.342572 and Test loss: 308.408941\n",
      "Epoch: 51, Train loss: 298.165806 and Test loss: 304.541651\n",
      "Epoch: 52, Train loss: 282.964627 and Test loss: 294.675467\n",
      "Epoch: 53, Train loss: 269.102846 and Test loss: 283.655283\n",
      "Epoch: 54, Train loss: 255.776611 and Test loss: 278.272793\n",
      "Epoch: 55, Train loss: 244.695452 and Test loss: 272.711659\n",
      "Epoch: 56, Train loss: 235.215867 and Test loss: 267.371323\n",
      "Epoch: 57, Train loss: 225.806342 and Test loss: 263.330748\n",
      "Epoch: 58, Train loss: 217.441667 and Test loss: 257.775172\n",
      "Epoch: 59, Train loss: 209.280286 and Test loss: 254.355538\n",
      "Epoch: 60, Train loss: 202.329913 and Test loss: 252.135070\n",
      "Epoch: 61, Train loss: 194.963994 and Test loss: 250.161273\n",
      "Epoch: 62, Train loss: 189.040242 and Test loss: 248.083254\n",
      "Epoch: 63, Train loss: 183.432161 and Test loss: 244.910891\n",
      "Epoch: 64, Train loss: 177.715588 and Test loss: 241.816777\n",
      "Epoch: 65, Train loss: 172.022765 and Test loss: 239.410852\n",
      "Epoch: 66, Train loss: 166.956393 and Test loss: 236.484341\n",
      "Epoch: 67, Train loss: 161.653470 and Test loss: 234.045723\n",
      "Epoch: 68, Train loss: 157.460023 and Test loss: 233.447151\n",
      "Epoch: 69, Train loss: 152.910727 and Test loss: 233.822173\n",
      "Epoch: 70, Train loss: 149.299852 and Test loss: 230.330490\n",
      "Epoch: 71, Train loss: 145.465417 and Test loss: 227.560814\n",
      "Epoch: 72, Train loss: 142.065580 and Test loss: 228.595206\n",
      "Epoch: 73, Train loss: 138.638389 and Test loss: 226.818279\n",
      "Epoch: 74, Train loss: 135.440665 and Test loss: 225.176535\n",
      "Epoch: 75, Train loss: 132.410853 and Test loss: 223.852029\n",
      "Epoch: 76, Train loss: 129.237151 and Test loss: 224.487254\n",
      "Epoch: 77, Train loss: 126.400728 and Test loss: 224.433125\n",
      "Epoch: 78, Train loss: 123.851094 and Test loss: 222.316281\n",
      "Epoch: 79, Train loss: 121.186421 and Test loss: 222.656714\n",
      "Epoch: 80, Train loss: 118.675182 and Test loss: 222.918156\n",
      "Epoch: 81, Train loss: 116.095240 and Test loss: 223.041407\n",
      "Epoch: 82, Train loss: 113.669303 and Test loss: 220.228196\n",
      "Epoch: 83, Train loss: 111.740086 and Test loss: 219.737738\n",
      "Epoch: 84, Train loss: 109.635963 and Test loss: 219.842287\n",
      "Epoch: 85, Train loss: 107.444481 and Test loss: 220.713973\n",
      "Epoch: 86, Train loss: 105.561734 and Test loss: 221.351355\n",
      "Epoch: 87, Train loss: 103.663169 and Test loss: 218.366075\n",
      "Epoch: 88, Train loss: 101.770623 and Test loss: 217.843359\n",
      "Epoch: 89, Train loss: 100.200878 and Test loss: 217.565079\n",
      "Epoch: 90, Train loss: 98.312692 and Test loss: 218.620141\n",
      "Epoch: 91, Train loss: 96.847623 and Test loss: 215.824039\n",
      "Epoch: 92, Train loss: 95.116407 and Test loss: 218.057094\n",
      "Epoch: 93, Train loss: 93.805282 and Test loss: 216.002914\n",
      "Epoch: 94, Train loss: 92.057081 and Test loss: 215.539690\n",
      "Epoch: 95, Train loss: 90.641194 and Test loss: 213.850438\n",
      "Epoch: 96, Train loss: 89.403012 and Test loss: 214.156825\n",
      "Epoch: 97, Train loss: 87.894530 and Test loss: 213.424600\n",
      "Epoch: 98, Train loss: 86.526165 and Test loss: 213.025138\n",
      "Epoch: 99, Train loss: 85.333226 and Test loss: 214.189053\n",
      "Epoch: 100, Train loss: 84.094797 and Test loss: 212.451909\n",
      "-------------------------------------------------------\n",
      "Best cost 212.451909 is at iteration 100.000000.\n",
      "Test accuracy: 0.9207\n"
     ]
    }
   ],
   "source": [
    "cost_1 = [] \n",
    "test_cost_1 = []\n",
    "\n",
    "alpha = 0.005\n",
    "max_iter = 100\n",
    "\n",
    "target_iter = 1\n",
    "target_cost = np.inf\n",
    "\n",
    "new_W = W\n",
    "new_b = b\n",
    "\n",
    "for iter in range(0, max_iter):\n",
    "    loss_this_iter = 0\n",
    "    # test_loss_this_iter = 0\n",
    "    test_loss = 0\n",
    "    \n",
    "    # random index of m_train\n",
    "    order = np.random.permutation(m_train)\n",
    "    for i in range(0, m_train):\n",
    "        # Grab the pattern order[i]\n",
    "        x_this = X_train[order[i],:].T\n",
    "        y_this = y_train[order[i],:]\n",
    "        \n",
    "        # Feed forward step\n",
    "        a, z, delta, dW, db = forward_one_step(x_this, W, B, act_funcs)\n",
    "            \n",
    "        # calulate loss\n",
    "        loss_this_pattern = loss(y_this, a[L])\n",
    "        # print(loss_this_pattern)\n",
    "        loss_this_iter = loss_this_iter + loss_this_pattern\n",
    "        # print(loss_this_iter)\n",
    "        \n",
    "        # back propagation\n",
    "        dW, db = back_propagation(y_this, a, z, W, dW, db, act_deri)\n",
    "        \n",
    "        # update weight, bias\n",
    "        W, B = update_step(W, B, dW, db, alpha)\n",
    "        \n",
    "    y_pred = np.zeros((X_test.shape[0]))\n",
    "                          \n",
    "    for k in range(X_test.shape[0]):\n",
    "        y_pred = feed_forward(X_test[k,:].T, W, B, act_funcs)\n",
    "        test_loss += loss(y_test[k], y_pred)\n",
    "        \n",
    "    test_cost_1.append(test_loss[0,0]) \n",
    "    cost_1.append(loss_this_iter[0,0])\n",
    "        \n",
    "#     test_loss_this_pattern = loss(y_test, y_pred[L])\n",
    "#     test_loss_this_iter = test_loss_this_iter + test_loss_this_pattern\n",
    "#     print(test_loss_this_iter)\n",
    "\n",
    "    if test_loss < target_cost:\n",
    "        target_cost = test_loss\n",
    "        target_iter = iter\n",
    "        new_W = W.copy()\n",
    "        new_B = b.copy()\n",
    "        \n",
    "    print('Epoch: %d, Train loss: %f and Test loss: %f' % (iter+1, loss_this_iter, test_loss))\n",
    "\n",
    "print('-------------------------------------------------------')\n",
    "print('Best cost %f is at iteration %f.'% (target_cost, target_iter+1))\n",
    "\n",
    "y_test_predicted = predict_y(new_W, new_b, X_test)\n",
    "y_correct = y_test_predicted == y_test_indices\n",
    "test_acc_1 = np.sum(y_correct) / len(y_correct)\n",
    "\n",
    "print('Test accuracy: %.4f' % (test_acc_1))"
   ]
  },
  {
   "cell_type": "code",
   "execution_count": null,
   "metadata": {
    "id": "-4XUjRpXKclY",
    "outputId": "619d0e67-a076-4e42-ac1f-72728fe14c2e"
   },
   "outputs": [
    {
     "data": {
      "image/png": "[encoded data removed]",
      "text/plain": [
       "<Figure size 432x288 with 1 Axes>"
      ]
     },
     "metadata": {
      "needs_background": "light"
     },
     "output_type": "display_data"
    }
   ],
   "source": [
    "plt.plot(np.arange(1, max_iter + 1, 1), cost_1, label='Train Loss')\n",
    "plt.plot(np.arange(1, max_iter + 1, 1), test_cost_1,'--', label='Test Loss')\n",
    "plt.ylabel('Loss')\n",
    "plt.xlabel('Epoch')\n",
    "plt.title('Training Loss and Test Loss Functions of Epochs (Example 1)')\n",
    "plt.legend()\n",
    "plt.show()"
   ]
  },
  {
   "cell_type": "code",
   "execution_count": null,
   "metadata": {
    "id": "hlTKa6cUKclZ"
   },
   "outputs": [],
   "source": [
    "# 2nd example\n",
    "\n",
    "h2 = 3\n",
    "h1 = 6\n",
    "W = [[], np.random.normal(0,0.1,[x_area,h1]),\n",
    "         np.random.normal(0,0.1,[h1,h2]),\n",
    "         np.random.normal(0,0.1,[h2,10])]\n",
    "B = [[], np.random.normal(0,0.1,[h1,1]),\n",
    "         np.random.normal(0,0.1,[h2,1]),\n",
    "         np.random.normal(0,0.1,[10,1])]\n",
    "\n",
    "act_funcs = [None, ReLu, Sigmoid, Softmax]\n",
    "\n",
    "L = len(W)-1"
   ]
  },
  {
   "cell_type": "code",
   "execution_count": null,
   "metadata": {
    "id": "zMcWr2btm2uD",
    "outputId": "1dca6237-9acf-42b1-97ad-fa5668185fa3"
   },
   "outputs": [
    {
     "name": "stdout",
     "output_type": "stream",
     "text": [
      "Epoch: 1, Train loss: 2487.169716 and Test loss: 1658.470154\n",
      "Epoch: 2, Train loss: 2483.738021 and Test loss: 1657.440977\n",
      "Epoch: 3, Train loss: 2482.591305 and Test loss: 1657.250149\n",
      "Epoch: 4, Train loss: 2481.494609 and Test loss: 1656.338732\n",
      "Epoch: 5, Train loss: 2480.385788 and Test loss: 1655.308213\n",
      "Epoch: 6, Train loss: 2478.358598 and Test loss: 1653.692156\n",
      "Epoch: 7, Train loss: 2475.493614 and Test loss: 1651.240806\n",
      "Epoch: 8, Train loss: 2470.524290 and Test loss: 1647.156399\n",
      "Epoch: 9, Train loss: 2460.997194 and Test loss: 1638.288848\n",
      "Epoch: 10, Train loss: 2442.251118 and Test loss: 1620.849541\n",
      "Epoch: 11, Train loss: 2404.502634 and Test loss: 1587.675564\n",
      "Epoch: 12, Train loss: 2341.803880 and Test loss: 1539.282581\n",
      "Epoch: 13, Train loss: 2266.165364 and Test loss: 1488.788452\n",
      "Epoch: 14, Train loss: 2191.328779 and Test loss: 1440.388426\n",
      "Epoch: 15, Train loss: 2117.910022 and Test loss: 1391.981340\n",
      "Epoch: 16, Train loss: 2044.358162 and Test loss: 1345.498330\n",
      "Epoch: 17, Train loss: 1976.271823 and Test loss: 1303.057583\n",
      "Epoch: 18, Train loss: 1913.326540 and Test loss: 1264.651034\n",
      "Epoch: 19, Train loss: 1857.011847 and Test loss: 1232.309459\n",
      "Epoch: 20, Train loss: 1806.393062 and Test loss: 1202.385191\n",
      "Epoch: 21, Train loss: 1761.895326 and Test loss: 1175.118293\n",
      "Epoch: 22, Train loss: 1722.264357 and Test loss: 1152.369454\n",
      "Epoch: 23, Train loss: 1687.354081 and Test loss: 1130.450835\n",
      "Epoch: 24, Train loss: 1655.339203 and Test loss: 1109.835264\n",
      "Epoch: 25, Train loss: 1626.547257 and Test loss: 1092.651436\n",
      "Epoch: 26, Train loss: 1600.465468 and Test loss: 1076.819864\n",
      "Epoch: 27, Train loss: 1577.015418 and Test loss: 1063.073067\n",
      "Epoch: 28, Train loss: 1554.835969 and Test loss: 1049.539395\n",
      "Epoch: 29, Train loss: 1534.244130 and Test loss: 1037.591914\n",
      "Epoch: 30, Train loss: 1514.311224 and Test loss: 1027.405709\n",
      "Epoch: 31, Train loss: 1495.258238 and Test loss: 1015.867102\n",
      "Epoch: 32, Train loss: 1477.162409 and Test loss: 1004.130378\n",
      "Epoch: 33, Train loss: 1458.900380 and Test loss: 994.699773\n",
      "Epoch: 34, Train loss: 1442.232239 and Test loss: 984.155568\n",
      "Epoch: 35, Train loss: 1425.688228 and Test loss: 973.868247\n",
      "Epoch: 36, Train loss: 1408.706326 and Test loss: 962.862737\n",
      "Epoch: 37, Train loss: 1391.248515 and Test loss: 951.508979\n",
      "Epoch: 38, Train loss: 1374.184398 and Test loss: 941.087105\n",
      "Epoch: 39, Train loss: 1356.146887 and Test loss: 929.774946\n",
      "Epoch: 40, Train loss: 1337.873868 and Test loss: 917.391915\n",
      "Epoch: 41, Train loss: 1318.330792 and Test loss: 903.398095\n",
      "Epoch: 42, Train loss: 1299.228240 and Test loss: 891.049317\n",
      "Epoch: 43, Train loss: 1279.930045 and Test loss: 879.428590\n",
      "Epoch: 44, Train loss: 1260.836057 and Test loss: 867.210335\n",
      "Epoch: 45, Train loss: 1243.580126 and Test loss: 857.125251\n",
      "Epoch: 46, Train loss: 1225.556986 and Test loss: 844.037020\n",
      "Epoch: 47, Train loss: 1208.054087 and Test loss: 833.200772\n",
      "Epoch: 48, Train loss: 1190.284573 and Test loss: 823.616669\n",
      "Epoch: 49, Train loss: 1173.822655 and Test loss: 814.951759\n",
      "Epoch: 50, Train loss: 1157.726926 and Test loss: 804.750416\n",
      "Epoch: 51, Train loss: 1142.221464 and Test loss: 795.803403\n",
      "Epoch: 52, Train loss: 1126.092131 and Test loss: 789.674680\n",
      "Epoch: 53, Train loss: 1112.230982 and Test loss: 780.122536\n",
      "Epoch: 54, Train loss: 1098.026489 and Test loss: 773.481635\n",
      "Epoch: 55, Train loss: 1084.367162 and Test loss: 764.341035\n",
      "Epoch: 56, Train loss: 1070.643803 and Test loss: 757.171271\n",
      "Epoch: 57, Train loss: 1058.593251 and Test loss: 751.808970\n",
      "Epoch: 58, Train loss: 1046.571318 and Test loss: 744.513543\n",
      "Epoch: 59, Train loss: 1034.323820 and Test loss: 738.838772\n",
      "Epoch: 60, Train loss: 1022.266601 and Test loss: 734.302401\n",
      "Epoch: 61, Train loss: 1011.431720 and Test loss: 726.909880\n",
      "Epoch: 62, Train loss: 1000.941058 and Test loss: 721.809803\n",
      "Epoch: 63, Train loss: 990.146307 and Test loss: 718.451980\n",
      "Epoch: 64, Train loss: 980.400034 and Test loss: 710.666590\n",
      "Epoch: 65, Train loss: 970.771129 and Test loss: 707.393135\n",
      "Epoch: 66, Train loss: 961.770564 and Test loss: 702.890068\n",
      "Epoch: 67, Train loss: 952.045185 and Test loss: 699.211874\n",
      "Epoch: 68, Train loss: 942.929526 and Test loss: 694.002222\n",
      "Epoch: 69, Train loss: 934.741395 and Test loss: 690.337201\n",
      "Epoch: 70, Train loss: 925.601736 and Test loss: 689.305529\n",
      "Epoch: 71, Train loss: 915.980637 and Test loss: 684.466967\n",
      "Epoch: 72, Train loss: 905.481399 and Test loss: 679.078497\n",
      "Epoch: 73, Train loss: 896.774749 and Test loss: 673.948665\n",
      "Epoch: 74, Train loss: 886.815345 and Test loss: 669.433612\n",
      "Epoch: 75, Train loss: 877.320096 and Test loss: 664.640745\n",
      "Epoch: 76, Train loss: 867.524165 and Test loss: 658.462789\n",
      "Epoch: 77, Train loss: 858.823008 and Test loss: 653.811964\n",
      "Epoch: 78, Train loss: 849.780156 and Test loss: 647.612533\n",
      "Epoch: 79, Train loss: 840.711579 and Test loss: 645.342157\n",
      "Epoch: 80, Train loss: 830.423497 and Test loss: 637.370577\n",
      "Epoch: 81, Train loss: 821.474796 and Test loss: 634.695038\n",
      "Epoch: 82, Train loss: 814.219233 and Test loss: 629.123941\n",
      "Epoch: 83, Train loss: 804.463364 and Test loss: 623.814895\n",
      "Epoch: 84, Train loss: 795.669041 and Test loss: 619.460752\n",
      "Epoch: 85, Train loss: 789.063389 and Test loss: 617.839508\n",
      "Epoch: 86, Train loss: 780.319633 and Test loss: 613.443317\n",
      "Epoch: 87, Train loss: 770.680068 and Test loss: 610.080391\n",
      "Epoch: 88, Train loss: 763.889619 and Test loss: 601.530972\n",
      "Epoch: 89, Train loss: 755.686292 and Test loss: 597.060639\n",
      "Epoch: 90, Train loss: 746.716534 and Test loss: 595.070690\n",
      "Epoch: 91, Train loss: 738.837368 and Test loss: 587.175257\n",
      "Epoch: 92, Train loss: 727.333133 and Test loss: 586.873159\n",
      "Epoch: 93, Train loss: 720.952792 and Test loss: 577.642857\n",
      "Epoch: 94, Train loss: 710.108677 and Test loss: 571.453417\n",
      "Epoch: 95, Train loss: 701.625296 and Test loss: 569.287315\n",
      "Epoch: 96, Train loss: 691.895455 and Test loss: 563.386525\n",
      "Epoch: 97, Train loss: 681.861454 and Test loss: 561.347531\n",
      "Epoch: 98, Train loss: 675.627308 and Test loss: 556.047936\n",
      "Epoch: 99, Train loss: 666.085786 and Test loss: 551.490123\n",
      "Epoch: 100, Train loss: 656.506080 and Test loss: 545.941943\n",
      "-------------------------------------------------------\n",
      "Best cost 545.941943 is at iteration 100.000000.\n",
      "Test accuracy: 0.7886\n"
     ]
    }
   ],
   "source": [
    "cost_2 = [] \n",
    "test_cost_2 = []\n",
    "\n",
    "alpha = 0.004\n",
    "max_iter = 100\n",
    "\n",
    "target_iter = 1\n",
    "target_cost = np.inf\n",
    "\n",
    "new_W = W\n",
    "new_b = b\n",
    "\n",
    "for iter in range(0, max_iter):\n",
    "    loss_this_iter = 0\n",
    "    # test_loss_this_iter = 0\n",
    "    test_loss = 0\n",
    "    \n",
    "    # random index of m_train\n",
    "    order = np.random.permutation(m_train)\n",
    "    for i in range(0, m_train):\n",
    "        # Grab the pattern order[i]\n",
    "        x_this = X_train[order[i],:].T\n",
    "        y_this = y_train[order[i],:]\n",
    "        \n",
    "        # Feed forward step\n",
    "        a, z, delta, dW, db = forward_one_step(x_this, W, B, act_funcs)\n",
    "            \n",
    "        # calulate loss\n",
    "        loss_this_pattern = loss(y_this, a[L])\n",
    "        # print(loss_this_pattern)\n",
    "        loss_this_iter = loss_this_iter + loss_this_pattern\n",
    "        # print(loss_this_iter)\n",
    "        \n",
    "        # back propagation\n",
    "        dW, db = back_propagation(y_this, a, z, W, dW, db, act_deri)\n",
    "        \n",
    "        # update weight, bias\n",
    "        W, B = update_step(W, B, dW, db, alpha)\n",
    "        \n",
    "    y_pred = np.zeros((X_test.shape[0]))\n",
    "                          \n",
    "    for k in range(X_test.shape[0]):\n",
    "        y_pred = feed_forward(X_test[k,:].T, W, B, act_funcs)\n",
    "        test_loss += loss(y_test[k], y_pred)\n",
    "        \n",
    "    test_cost_2.append(test_loss[0,0]) \n",
    "    cost_2.append(loss_this_iter[0,0])\n",
    "        \n",
    "#     test_loss_this_pattern = loss(y_test, y_pred[L])\n",
    "#     test_loss_this_iter = test_loss_this_iter + test_loss_this_pattern\n",
    "#     print(test_loss_this_iter)\n",
    "\n",
    "    if test_loss < target_cost:\n",
    "        target_cost = test_loss\n",
    "        target_iter = iter\n",
    "        new_W = W.copy()\n",
    "        new_B = b.copy()\n",
    "        \n",
    "    print('Epoch: %d, Train loss: %f and Test loss: %f' % (iter+1, loss_this_iter, test_loss))\n",
    "\n",
    "print('-------------------------------------------------------')\n",
    "print('Best cost %f is at iteration %f.'% (target_cost, target_iter+1))\n",
    "\n",
    "y_test_predicted = predict_y(new_W, new_b, X_test)\n",
    "y_correct = y_test_predicted == y_test_indices\n",
    "test_acc_2 = np.sum(y_correct) / len(y_correct)\n",
    "\n",
    "print('Test accuracy: %.4f' % (test_acc_2))"
   ]
  },
  {
   "cell_type": "code",
   "execution_count": null,
   "metadata": {
    "id": "zmlhlzsyKclZ",
    "outputId": "d61d667e-04d4-4183-fd12-b45ebe5aa8e5"
   },
   "outputs": [
    {
     "data": {
      "image/png": "[encoded data removed]",
      "text/plain": [
       "<Figure size 432x288 with 1 Axes>"
      ]
     },
     "metadata": {
      "needs_background": "light"
     },
     "output_type": "display_data"
    }
   ],
   "source": [
    "plt.plot(np.arange(1, max_iter + 1, 1), cost_2, label='Train Loss')\n",
    "plt.plot(np.arange(1, max_iter + 1, 1), test_cost_2,'--', label='Test Loss')\n",
    "plt.ylabel('Loss')\n",
    "plt.xlabel('Epoch')\n",
    "plt.title('Training Loss and Test Loss Functions of Epochs (Example 2)')\n",
    "plt.legend()\n",
    "plt.show()"
   ]
  },
  {
   "cell_type": "code",
   "execution_count": null,
   "metadata": {
    "id": "EoLSA-o-KclZ"
   },
   "outputs": [],
   "source": [
    "# 3rd example\n",
    "\n",
    "h2 = 6\n",
    "h1 = 9\n",
    "W = [[], np.random.normal(0,0.1,[x_area,h1]),\n",
    "         np.random.normal(0,0.1,[h1,h2]),\n",
    "         np.random.normal(0,0.1,[h2,10])]\n",
    "B = [[], np.random.normal(0,0.1,[h1,1]),\n",
    "         np.random.normal(0,0.1,[h2,1]),\n",
    "         np.random.normal(0,0.1,[10,1])]\n",
    "\n",
    "act_funcs = [None, ReLu, Sigmoid, Softmax]\n",
    "\n",
    "L = len(W)-1"
   ]
  },
  {
   "cell_type": "code",
   "execution_count": null,
   "metadata": {
    "id": "UnEMbriWm2uE",
    "outputId": "dec969d0-e075-46da-f3be-6851305298af"
   },
   "outputs": [
    {
     "name": "stdout",
     "output_type": "stream",
     "text": [
      "Epoch: 1, Train loss: 2495.232814 and Test loss: 1661.006066\n",
      "Epoch: 2, Train loss: 2484.541821 and Test loss: 1656.925834\n",
      "Epoch: 3, Train loss: 2481.055249 and Test loss: 1654.405156\n",
      "Epoch: 4, Train loss: 2478.691483 and Test loss: 1653.571866\n",
      "Epoch: 5, Train loss: 2476.254782 and Test loss: 1651.995016\n",
      "Epoch: 6, Train loss: 2472.601640 and Test loss: 1649.402879\n",
      "Epoch: 7, Train loss: 2467.954053 and Test loss: 1645.122611\n",
      "Epoch: 8, Train loss: 2460.472975 and Test loss: 1639.049897\n",
      "Epoch: 9, Train loss: 2449.489915 and Test loss: 1630.248517\n",
      "Epoch: 10, Train loss: 2432.465672 and Test loss: 1617.029389\n",
      "Epoch: 11, Train loss: 2406.885604 and Test loss: 1596.483323\n",
      "Epoch: 12, Train loss: 2367.596337 and Test loss: 1566.166458\n",
      "Epoch: 13, Train loss: 2310.481282 and Test loss: 1522.038240\n",
      "Epoch: 14, Train loss: 2233.410213 and Test loss: 1465.831140\n",
      "Epoch: 15, Train loss: 2142.059316 and Test loss: 1404.747356\n",
      "Epoch: 16, Train loss: 2046.681825 and Test loss: 1341.743171\n",
      "Epoch: 17, Train loss: 1953.294770 and Test loss: 1283.853729\n",
      "Epoch: 18, Train loss: 1867.310780 and Test loss: 1230.288296\n",
      "Epoch: 19, Train loss: 1786.783301 and Test loss: 1181.302070\n",
      "Epoch: 20, Train loss: 1711.079607 and Test loss: 1134.737297\n",
      "Epoch: 21, Train loss: 1640.313848 and Test loss: 1091.542995\n",
      "Epoch: 22, Train loss: 1575.172184 and Test loss: 1051.494003\n",
      "Epoch: 23, Train loss: 1514.292489 and Test loss: 1015.586557\n",
      "Epoch: 24, Train loss: 1458.482034 and Test loss: 981.672836\n",
      "Epoch: 25, Train loss: 1407.118339 and Test loss: 950.100559\n",
      "Epoch: 26, Train loss: 1359.583136 and Test loss: 920.729684\n",
      "Epoch: 27, Train loss: 1315.148967 and Test loss: 892.669700\n",
      "Epoch: 28, Train loss: 1273.342605 and Test loss: 866.417039\n",
      "Epoch: 29, Train loss: 1234.273511 and Test loss: 842.326514\n",
      "Epoch: 30, Train loss: 1198.439116 and Test loss: 819.492084\n",
      "Epoch: 31, Train loss: 1164.830753 and Test loss: 798.045052\n",
      "Epoch: 32, Train loss: 1133.172110 and Test loss: 777.971010\n",
      "Epoch: 33, Train loss: 1103.249733 and Test loss: 758.619105\n",
      "Epoch: 34, Train loss: 1074.018437 and Test loss: 740.065230\n",
      "Epoch: 35, Train loss: 1048.324723 and Test loss: 722.091237\n",
      "Epoch: 36, Train loss: 1021.727981 and Test loss: 705.244349\n",
      "Epoch: 37, Train loss: 997.141038 and Test loss: 688.819710\n",
      "Epoch: 38, Train loss: 972.959952 and Test loss: 673.658603\n",
      "Epoch: 39, Train loss: 949.253908 and Test loss: 658.257155\n",
      "Epoch: 40, Train loss: 926.321129 and Test loss: 643.421650\n",
      "Epoch: 41, Train loss: 903.705375 and Test loss: 628.616510\n",
      "Epoch: 42, Train loss: 882.539825 and Test loss: 615.863214\n",
      "Epoch: 43, Train loss: 862.115033 and Test loss: 604.110679\n",
      "Epoch: 44, Train loss: 842.732253 and Test loss: 592.553754\n",
      "Epoch: 45, Train loss: 823.922315 and Test loss: 581.457917\n",
      "Epoch: 46, Train loss: 806.533437 and Test loss: 570.486468\n",
      "Epoch: 47, Train loss: 788.897412 and Test loss: 559.523535\n",
      "Epoch: 48, Train loss: 773.005613 and Test loss: 550.510523\n",
      "Epoch: 49, Train loss: 757.723082 and Test loss: 541.050238\n",
      "Epoch: 50, Train loss: 744.091764 and Test loss: 532.824836\n",
      "Epoch: 51, Train loss: 730.547183 and Test loss: 525.503921\n",
      "Epoch: 52, Train loss: 717.829302 and Test loss: 517.731980\n",
      "Epoch: 53, Train loss: 705.358833 and Test loss: 509.964330\n",
      "Epoch: 54, Train loss: 693.671724 and Test loss: 502.573228\n",
      "Epoch: 55, Train loss: 682.074785 and Test loss: 495.638548\n",
      "Epoch: 56, Train loss: 670.362214 and Test loss: 489.320123\n",
      "Epoch: 57, Train loss: 658.953358 and Test loss: 483.465713\n",
      "Epoch: 58, Train loss: 648.778307 and Test loss: 476.870530\n",
      "Epoch: 59, Train loss: 638.191815 and Test loss: 471.233393\n",
      "Epoch: 60, Train loss: 627.308383 and Test loss: 465.984068\n",
      "Epoch: 61, Train loss: 617.509597 and Test loss: 459.973151\n",
      "Epoch: 62, Train loss: 606.502076 and Test loss: 454.640647\n",
      "Epoch: 63, Train loss: 596.672299 and Test loss: 448.209181\n",
      "Epoch: 64, Train loss: 586.798834 and Test loss: 443.826884\n",
      "Epoch: 65, Train loss: 577.048785 and Test loss: 438.353529\n",
      "Epoch: 66, Train loss: 567.749559 and Test loss: 433.213104\n",
      "Epoch: 67, Train loss: 558.798030 and Test loss: 429.166878\n",
      "Epoch: 68, Train loss: 549.751070 and Test loss: 424.916696\n",
      "Epoch: 69, Train loss: 541.007258 and Test loss: 420.147443\n",
      "Epoch: 70, Train loss: 532.523073 and Test loss: 416.409781\n",
      "Epoch: 71, Train loss: 523.998414 and Test loss: 412.177617\n",
      "Epoch: 72, Train loss: 515.401093 and Test loss: 407.735266\n",
      "Epoch: 73, Train loss: 507.217216 and Test loss: 403.755507\n",
      "Epoch: 74, Train loss: 498.485732 and Test loss: 397.655734\n",
      "Epoch: 75, Train loss: 489.710671 and Test loss: 395.513383\n",
      "Epoch: 76, Train loss: 480.705004 and Test loss: 388.594823\n",
      "Epoch: 77, Train loss: 471.673386 and Test loss: 383.287169\n",
      "Epoch: 78, Train loss: 461.524803 and Test loss: 378.318533\n",
      "Epoch: 79, Train loss: 451.233512 and Test loss: 371.413702\n",
      "Epoch: 80, Train loss: 439.942374 and Test loss: 369.406128\n",
      "Epoch: 81, Train loss: 429.211044 and Test loss: 359.877403\n",
      "Epoch: 82, Train loss: 417.480671 and Test loss: 353.726076\n",
      "Epoch: 83, Train loss: 405.328290 and Test loss: 350.421245\n",
      "Epoch: 84, Train loss: 394.199515 and Test loss: 343.057209\n",
      "Epoch: 85, Train loss: 382.792773 and Test loss: 336.567842\n",
      "Epoch: 86, Train loss: 372.043211 and Test loss: 329.714678\n",
      "Epoch: 87, Train loss: 361.311369 and Test loss: 324.442547\n",
      "Epoch: 88, Train loss: 350.738880 and Test loss: 319.467198\n",
      "Epoch: 89, Train loss: 340.557882 and Test loss: 312.686030\n",
      "Epoch: 90, Train loss: 330.937285 and Test loss: 306.211420\n",
      "Epoch: 91, Train loss: 321.343228 and Test loss: 300.902719\n",
      "Epoch: 92, Train loss: 312.452142 and Test loss: 295.139702\n",
      "Epoch: 93, Train loss: 303.377383 and Test loss: 290.010404\n",
      "Epoch: 94, Train loss: 294.944327 and Test loss: 285.960203\n",
      "Epoch: 95, Train loss: 286.798154 and Test loss: 281.605477\n",
      "Epoch: 96, Train loss: 278.591482 and Test loss: 275.692778\n",
      "Epoch: 97, Train loss: 271.835914 and Test loss: 273.261618\n",
      "Epoch: 98, Train loss: 264.828932 and Test loss: 266.739728\n",
      "Epoch: 99, Train loss: 258.016728 and Test loss: 264.285794\n",
      "Epoch: 100, Train loss: 251.611349 and Test loss: 260.181796\n",
      "-------------------------------------------------------\n",
      "Best cost 260.181796 is at iteration 100.000000.\n",
      "Test accuracy: 0.9235\n"
     ]
    }
   ],
   "source": [
    "cost_3 = [] \n",
    "test_cost_3 = []\n",
    "\n",
    "alpha = 0.003\n",
    "max_iter = 100\n",
    "\n",
    "target_iter = 1\n",
    "target_cost = np.inf\n",
    "\n",
    "new_W = W\n",
    "new_b = b\n",
    "\n",
    "for iter in range(0, max_iter):\n",
    "    loss_this_iter = 0\n",
    "    # test_loss_this_iter = 0\n",
    "    test_loss = 0\n",
    "    \n",
    "    # random index of m_train\n",
    "    order = np.random.permutation(m_train)\n",
    "    for i in range(0, m_train):\n",
    "        # Grab the pattern order[i]\n",
    "        x_this = X_train[order[i],:].T\n",
    "        y_this = y_train[order[i],:]\n",
    "        \n",
    "        # Feed forward step\n",
    "        a, z, delta, dW, db = forward_one_step(x_this, W, B, act_funcs)\n",
    "            \n",
    "        # calulate loss\n",
    "        loss_this_pattern = loss(y_this, a[L])\n",
    "        # print(loss_this_pattern)\n",
    "        loss_this_iter = loss_this_iter + loss_this_pattern\n",
    "        # print(loss_this_iter)\n",
    "        \n",
    "        # back propagation\n",
    "        dW, db = back_propagation(y_this, a, z, W, dW, db, act_deri)\n",
    "        \n",
    "        # update weight, bias\n",
    "        W, B = update_step(W, B, dW, db, alpha)\n",
    "        \n",
    "    y_pred = np.zeros((X_test.shape[0]))\n",
    "                          \n",
    "    for k in range(X_test.shape[0]):\n",
    "        y_pred = feed_forward(X_test[k,:].T, W, B, act_funcs)\n",
    "        test_loss += loss(y_test[k], y_pred)\n",
    "        \n",
    "    test_cost_3.append(test_loss[0,0]) \n",
    "    cost_3.append(loss_this_iter[0,0])\n",
    "        \n",
    "#     test_loss_this_pattern = loss(y_test, y_pred[L])\n",
    "#     test_loss_this_iter = test_loss_this_iter + test_loss_this_pattern\n",
    "#     print(test_loss_this_iter)\n",
    "\n",
    "    if test_loss < target_cost:\n",
    "        target_cost = test_loss\n",
    "        target_iter = iter\n",
    "        new_W = W.copy()\n",
    "        new_B = b.copy()\n",
    "        \n",
    "    print('Epoch: %d, Train loss: %f and Test loss: %f' % (iter+1, loss_this_iter, test_loss))\n",
    "\n",
    "print('-------------------------------------------------------')\n",
    "print('Best cost %f is at iteration %f.'% (target_cost, target_iter+1))\n",
    "\n",
    "y_test_predicted = predict_y(new_W, new_b, X_test)\n",
    "y_correct = y_test_predicted == y_test_indices\n",
    "test_acc_3 = np.sum(y_correct) / len(y_correct)\n",
    "\n",
    "print('Test accuracy: %.4f' % (test_acc_3))"
   ]
  },
  {
   "cell_type": "code",
   "execution_count": null,
   "metadata": {
    "id": "GSVCpQl0Kcla",
    "outputId": "b12fc1a4-007c-401b-d83a-c9864a1dbf13"
   },
   "outputs": [
    {
     "data": {
      "image/png": "[encoded data removed]",
      "text/plain": [
       "<Figure size 432x288 with 1 Axes>"
      ]
     },
     "metadata": {
      "needs_background": "light"
     },
     "output_type": "display_data"
    }
   ],
   "source": [
    "plt.plot(np.arange(1, max_iter + 1, 1), cost_3, label='Train Loss')\n",
    "plt.plot(np.arange(1, max_iter + 1, 1), test_cost_3,'--', label='Test Loss')\n",
    "plt.ylabel('Loss')\n",
    "plt.xlabel('Epoch')\n",
    "plt.title('Training Loss and Test Loss Functions of Epochs (Example 3)')\n",
    "plt.legend()\n",
    "plt.show()"
   ]
  },
  {
   "cell_type": "markdown",
   "metadata": {},
   "source": [
    "For the 3 different examples, I used two hidden layers for all of them. \n",
    "\n",
    "1. For the 1st example, I used 1st hidden layer with 8 neurons and 2nd hidden layer with 6 neurons, where the learning rate was 0.005. The model obtained 92.07 accuracy on the test set, but we can observe that it started to overfit after 60 epochs from the plot (which is not expected). \n",
    "\n",
    "2. For the 2nd example, the 1st hidden layer has 6 neurons, the 2nd hidden layer has 3 neurons and the learning rate was 0.004. From the plot, it can be said that the model could not fit the data properly. The reasons can be that model is not deep enough to learn the patterns or the model can be very slow due to a small learning rate.\n",
    "\n",
    "3. For the last example, the neural network has 1st hidden layer with 9 neurons and 2nd hidden layer with 6 neurons, where the learning rate was 0.003. This model has more neurons than the previous ones but also has the lowest learning rate comparing the previous two model. It obtained 92.35% accuracy, where it converges better than the 2nd model and also there is no overfitting observed from the plot unlike the 1st model. So, this model is the best among the 3 examples."
   ]
  },
  {
   "cell_type": "markdown",
   "metadata": {
    "id": "nYUzX8I9Kcla"
   },
   "source": [
    "## PyTorch tutorial\n",
    "\n",
    "Is there an easier way to build this type of model? One way is to learn a framework such as TensorFlow or PyTorch. Both of these frameworks have their\n",
    "pros and cons, but PyTorch is probably the most productive neural network framework for research purposes. We'll use it here.\n",
    "\n",
    "The material for this tutorial is from\n",
    "[Anand Saha's PyTorch tutorial](https://github.com/anandsaha/deep.learning.with.pytorch)."
   ]
  },
  {
   "cell_type": "markdown",
   "metadata": {
    "id": "2tvI_zzZKcla"
   },
   "source": [
    "### Tensors and Tensor operations\n",
    "\n",
    "Let's get some hands on experience with tensor creation and operations.\n",
    "The torch package contains the necessary data structures to create multidimensional tensors.\n",
    "It also defines the mathematical operations that can be performed on these."
   ]
  },
  {
   "cell_type": "code",
   "execution_count": 1,
   "metadata": {
    "colab": {
     "base_uri": "https://localhost:8080/"
    },
    "id": "HM_vRUnwKcla",
    "outputId": "f9806b68-b1a3-4cbd-e3c9-5e0c1a340099"
   },
   "outputs": [
    {
     "name": "stdout",
     "output_type": "stream",
     "text": [
      "Looking in indexes: https://pypi.org/simple, https://us-python.pkg.dev/colab-wheels/public/simple/\n",
      "Requirement already satisfied: torch in /usr/local/lib/python3.7/dist-packages (1.12.1+cu113)\n",
      "Requirement already satisfied: typing-extensions in /usr/local/lib/python3.7/dist-packages (from torch) (4.1.1)\n"
     ]
    }
   ],
   "source": [
    "!pip install torch"
   ]
  },
  {
   "cell_type": "code",
   "execution_count": 2,
   "metadata": {
    "id": "DXZ53MCVKcla"
   },
   "outputs": [],
   "source": [
    "import torch"
   ]
  },
  {
   "cell_type": "code",
   "execution_count": 3,
   "metadata": {
    "colab": {
     "base_uri": "https://localhost:8080/"
    },
    "id": "U-8ybtGEKcla",
    "outputId": "8e41423e-78d1-45e2-edee-3a92192057d7"
   },
   "outputs": [
    {
     "name": "stdout",
     "output_type": "stream",
     "text": [
      "1.12.1+cu113\n"
     ]
    }
   ],
   "source": [
    "print(torch.__version__)"
   ]
  },
  {
   "cell_type": "markdown",
   "metadata": {
    "id": "i5oBKdGWKcla"
   },
   "source": [
    "### Tensor creation"
   ]
  },
  {
   "cell_type": "markdown",
   "metadata": {
    "id": "TFFIgdN0Kclb"
   },
   "source": [
    "Create a (2x3) dimentional Tensor.\n",
    "\n",
    "Note that a) You get back a FloatTensor b) The values are uninitialized"
   ]
  },
  {
   "cell_type": "code",
   "execution_count": 4,
   "metadata": {
    "colab": {
     "base_uri": "https://localhost:8080/"
    },
    "id": "S1a5bSxcKclb",
    "outputId": "f01fb311-c15a-43dd-c31e-da84ad294792"
   },
   "outputs": [
    {
     "name": "stdout",
     "output_type": "stream",
     "text": [
      "tensor([[2.4671e-35, 0.0000e+00, 3.7835e-44],\n",
      "        [0.0000e+00,        nan, 0.0000e+00]])\n"
     ]
    }
   ],
   "source": [
    "t = torch.Tensor(2, 3)\n",
    "print(t)"
   ]
  },
  {
   "cell_type": "markdown",
   "metadata": {
    "id": "gvnjF8QOKclb"
   },
   "source": [
    "The above call was equivalent to"
   ]
  },
  {
   "cell_type": "code",
   "execution_count": 5,
   "metadata": {
    "colab": {
     "base_uri": "https://localhost:8080/"
    },
    "id": "ndc5x08IKclb",
    "outputId": "2bcfc6f3-1950-430e-f86e-b42c4144f03d"
   },
   "outputs": [
    {
     "name": "stdout",
     "output_type": "stream",
     "text": [
      "tensor([[2.4672e-35, 0.0000e+00, 5.0447e-44],\n",
      "        [0.0000e+00,        nan, 0.0000e+00]])\n"
     ]
    }
   ],
   "source": [
    "t = torch.FloatTensor(2, 3)\n",
    "print(t)"
   ]
  },
  {
   "cell_type": "markdown",
   "metadata": {
    "id": "8QJLAF9FKclb"
   },
   "source": [
    "Inspect type of an element"
   ]
  },
  {
   "cell_type": "code",
   "execution_count": 9,
   "metadata": {
    "colab": {
     "base_uri": "https://localhost:8080/"
    },
    "id": "eh7X0Te1Kclb",
    "outputId": "6cda2e93-a634-425e-ad66-bfa7f5d9b94e"
   },
   "outputs": [
    {
     "data": {
      "text/plain": [
       "tensor(2.4672e-35)"
      ]
     },
     "execution_count": 9,
     "metadata": {},
     "output_type": "execute_result"
    }
   ],
   "source": [
    "t[0][0]"
   ]
  },
  {
   "cell_type": "code",
   "execution_count": 10,
   "metadata": {
    "colab": {
     "base_uri": "https://localhost:8080/"
    },
    "id": "WTLh26sTKclb",
    "outputId": "54f96967-b372-4228-b2dd-4fa026f8ae87"
   },
   "outputs": [
    {
     "data": {
      "text/plain": [
       "torch.Tensor"
      ]
     },
     "execution_count": 10,
     "metadata": {},
     "output_type": "execute_result"
    }
   ],
   "source": [
    "type(t[0][0])"
   ]
  },
  {
   "cell_type": "markdown",
   "metadata": {
    "id": "ngQSGxs8Kclb"
   },
   "source": [
    "Inspect `t`'s dimensions"
   ]
  },
  {
   "cell_type": "code",
   "execution_count": 11,
   "metadata": {
    "colab": {
     "base_uri": "https://localhost:8080/"
    },
    "id": "XICLoDi9Kclc",
    "outputId": "4f3af602-17e7-4bf6-a696-751bd6c2e729"
   },
   "outputs": [
    {
     "name": "stdout",
     "output_type": "stream",
     "text": [
      "torch.Size([2, 3])\n",
      "2\n",
      "True\n"
     ]
    }
   ],
   "source": [
    "print(t.size())\n",
    "print(t.dim())\n",
    "print(len(t.size()) == t.dim())"
   ]
  },
  {
   "cell_type": "markdown",
   "metadata": {
    "id": "AucmgwtQKclc"
   },
   "source": [
    "Set values"
   ]
  },
  {
   "cell_type": "code",
   "execution_count": 12,
   "metadata": {
    "colab": {
     "base_uri": "https://localhost:8080/"
    },
    "id": "3C76Yy8rKclc",
    "outputId": "407fe6ad-8f62-404c-f71a-67a14f8146b0"
   },
   "outputs": [
    {
     "name": "stdout",
     "output_type": "stream",
     "text": [
      "tensor([[1., 2., 3.],\n",
      "        [4., 5., 6.]])\n"
     ]
    }
   ],
   "source": [
    "t[0][0] = 1\n",
    "t[0][1] = 2\n",
    "t[0][2] = 3\n",
    "t[1][0] = 4\n",
    "t[1][1] = 5\n",
    "t[1][2] = 6\n",
    "print(t)"
   ]
  },
  {
   "cell_type": "markdown",
   "metadata": {
    "id": "TAVLTlwOKclc"
   },
   "source": [
    "Let's cast a FloatTensor to IntTensor"
   ]
  },
  {
   "cell_type": "code",
   "execution_count": 13,
   "metadata": {
    "colab": {
     "base_uri": "https://localhost:8080/"
    },
    "id": "-uG7xHj2Kclc",
    "outputId": "3c27efcb-51b1-47ca-bce1-56add30c35a2"
   },
   "outputs": [
    {
     "name": "stdout",
     "output_type": "stream",
     "text": [
      "tensor([1.1000, 2.2000])\n"
     ]
    },
    {
     "data": {
      "text/plain": [
       "tensor([1, 2], dtype=torch.int32)"
      ]
     },
     "execution_count": 13,
     "metadata": {},
     "output_type": "execute_result"
    }
   ],
   "source": [
    "t = torch.FloatTensor([1.1, 2.2])\n",
    "print(t)\n",
    "t.type(torch.IntTensor)"
   ]
  },
  {
   "cell_type": "markdown",
   "metadata": {
    "id": "i6yN8WWoKclc"
   },
   "source": [
    "Let's explore some other ways of creating a tensor"
   ]
  },
  {
   "cell_type": "code",
   "execution_count": 14,
   "metadata": {
    "colab": {
     "base_uri": "https://localhost:8080/"
    },
    "id": "t7O2mVRbKclc",
    "outputId": "2a61ea2e-4016-4c85-d9c8-09046d2a0aa9"
   },
   "outputs": [
    {
     "name": "stdout",
     "output_type": "stream",
     "text": [
      "tensor([1.1000, 2.2000])\n"
     ]
    }
   ],
   "source": [
    "# From another Tensor\n",
    "\n",
    "t2 = torch.Tensor(t)\n",
    "print(t2)"
   ]
  },
  {
   "cell_type": "code",
   "execution_count": 15,
   "metadata": {
    "colab": {
     "base_uri": "https://localhost:8080/"
    },
    "id": "4a1EX0auKclc",
    "outputId": "029abe36-44e2-49ca-ecad-bf76805c92ab"
   },
   "outputs": [
    {
     "name": "stdout",
     "output_type": "stream",
     "text": [
      "tensor([[1, 2],\n",
      "        [3, 4]], dtype=torch.int32)\n"
     ]
    }
   ],
   "source": [
    "# From a Python list\n",
    "\n",
    "t3 = torch.IntTensor([[1, 2],[3, 4]])\n",
    "print(t3)"
   ]
  },
  {
   "cell_type": "code",
   "execution_count": 16,
   "metadata": {
    "colab": {
     "base_uri": "https://localhost:8080/"
    },
    "id": "RHXXk1OXKcld",
    "outputId": "83a5fe63-fccd-49a5-8119-de2edeab1c3a"
   },
   "outputs": [
    {
     "name": "stdout",
     "output_type": "stream",
     "text": [
      "tensor([55., 66.])\n"
     ]
    }
   ],
   "source": [
    "# From a NumPy array\n",
    "\n",
    "import numpy as np\n",
    "a = np.array([55, 66])\n",
    "t4 = torch.Tensor(a)\n",
    "print(t4)"
   ]
  },
  {
   "cell_type": "code",
   "execution_count": 17,
   "metadata": {
    "colab": {
     "base_uri": "https://localhost:8080/"
    },
    "id": "Xa2DHhn0Kcld",
    "outputId": "8de0abde-7660-44c2-a7b2-8d72f2a22054"
   },
   "outputs": [
    {
     "name": "stdout",
     "output_type": "stream",
     "text": [
      "tensor([[0., 0., 0.],\n",
      "        [0., 0., 0.]])\n"
     ]
    }
   ],
   "source": [
    "# Create a Tensor with all zeros\n",
    "\n",
    "t5 = torch.zeros(2, 3)\n",
    "print(t5)"
   ]
  },
  {
   "cell_type": "code",
   "execution_count": 18,
   "metadata": {
    "colab": {
     "base_uri": "https://localhost:8080/"
    },
    "id": "i4A-frKaKcld",
    "outputId": "cdcb0e20-f7fe-466d-d397-fc69143a364b"
   },
   "outputs": [
    {
     "name": "stdout",
     "output_type": "stream",
     "text": [
      "tensor([[1., 1., 1.],\n",
      "        [1., 1., 1.]])\n"
     ]
    }
   ],
   "source": [
    "# Create a Tensor with all ones\n",
    "\n",
    "t6 = torch.ones(2, 3)\n",
    "print(t6)"
   ]
  },
  {
   "cell_type": "code",
   "execution_count": 19,
   "metadata": {
    "colab": {
     "base_uri": "https://localhost:8080/"
    },
    "id": "UDvQtXBBKcld",
    "outputId": "28f41ad1-6d1d-43ac-cc9e-b8e69312bf5e"
   },
   "outputs": [
    {
     "name": "stdout",
     "output_type": "stream",
     "text": [
      "tensor([1., 1.])\n"
     ]
    }
   ],
   "source": [
    "# Create a Tensor with all ones with dimensions \n",
    "# of another Tensor\n",
    "\n",
    "t7 = torch.ones_like(t4)\n",
    "print(t7)"
   ]
  },
  {
   "cell_type": "markdown",
   "metadata": {
    "id": "02vsHloAKcld"
   },
   "source": [
    "### Tensor operations"
   ]
  },
  {
   "cell_type": "markdown",
   "metadata": {
    "id": "4iXz2jvsKcld"
   },
   "source": [
    "Add two Tensors"
   ]
  },
  {
   "cell_type": "code",
   "execution_count": 20,
   "metadata": {
    "colab": {
     "base_uri": "https://localhost:8080/"
    },
    "id": "BWbvuBRTKcld",
    "outputId": "659e22df-96ba-4957-dbe9-246887a6e292"
   },
   "outputs": [
    {
     "name": "stdout",
     "output_type": "stream",
     "text": [
      "tensor([[2., 2.],\n",
      "        [2., 2.]])\n"
     ]
    }
   ],
   "source": [
    "t1 = torch.ones(2, 2)\n",
    "t2 = torch.ones(2, 2)\n",
    "t = t1 + t2\n",
    "print(t)"
   ]
  },
  {
   "cell_type": "markdown",
   "metadata": {
    "id": "B-MtwT0LKcld"
   },
   "source": [
    "Inplace/out-of-place operations"
   ]
  },
  {
   "cell_type": "code",
   "execution_count": 21,
   "metadata": {
    "colab": {
     "base_uri": "https://localhost:8080/"
    },
    "id": "lbQ2Rg4-Kcld",
    "outputId": "d914a92b-f9de-47c0-a69e-ff7169b77e2a"
   },
   "outputs": [
    {
     "data": {
      "text/plain": [
       "tensor([[2., 2.],\n",
       "        [2., 2.]])"
      ]
     },
     "execution_count": 21,
     "metadata": {},
     "output_type": "execute_result"
    }
   ],
   "source": [
    "t1.add(t2)"
   ]
  },
  {
   "cell_type": "code",
   "execution_count": 22,
   "metadata": {
    "colab": {
     "base_uri": "https://localhost:8080/"
    },
    "id": "iwI7xBcQKcld",
    "outputId": "5a45b72a-c09c-4349-d866-254a32fcafb6"
   },
   "outputs": [
    {
     "name": "stdout",
     "output_type": "stream",
     "text": [
      "tensor([[1., 1.],\n",
      "        [1., 1.]])\n"
     ]
    }
   ],
   "source": [
    "print(t1)"
   ]
  },
  {
   "cell_type": "code",
   "execution_count": 23,
   "metadata": {
    "colab": {
     "base_uri": "https://localhost:8080/"
    },
    "id": "p0_PYr_oKcle",
    "outputId": "b616e677-09b1-4c38-c07a-45f868cb0c16"
   },
   "outputs": [
    {
     "data": {
      "text/plain": [
       "tensor([[2., 2.],\n",
       "        [2., 2.]])"
      ]
     },
     "execution_count": 23,
     "metadata": {},
     "output_type": "execute_result"
    }
   ],
   "source": [
    "t1.add_(t2)"
   ]
  },
  {
   "cell_type": "code",
   "execution_count": 24,
   "metadata": {
    "colab": {
     "base_uri": "https://localhost:8080/"
    },
    "id": "_mMI_CzXKcle",
    "outputId": "9640b324-9904-47b4-f1f9-02991833864c"
   },
   "outputs": [
    {
     "name": "stdout",
     "output_type": "stream",
     "text": [
      "tensor([[2., 2.],\n",
      "        [2., 2.]])\n"
     ]
    }
   ],
   "source": [
    "print(t1)"
   ]
  },
  {
   "cell_type": "markdown",
   "metadata": {
    "id": "BxaFbW9aKcle"
   },
   "source": [
    "Class methods and package functions"
   ]
  },
  {
   "cell_type": "code",
   "execution_count": 25,
   "metadata": {
    "colab": {
     "base_uri": "https://localhost:8080/"
    },
    "id": "_iBDHUxlKcle",
    "outputId": "a62fe949-734e-4b2f-f36d-31eb9768e832"
   },
   "outputs": [
    {
     "data": {
      "text/plain": [
       "tensor([[-0.4161, -0.4161],\n",
       "        [-0.4161, -0.4161]])"
      ]
     },
     "execution_count": 25,
     "metadata": {},
     "output_type": "execute_result"
    }
   ],
   "source": [
    "t1.cos()"
   ]
  },
  {
   "cell_type": "code",
   "execution_count": 26,
   "metadata": {
    "colab": {
     "base_uri": "https://localhost:8080/"
    },
    "id": "MLmHIH3KKcle",
    "outputId": "fa0f0ca9-a728-4c7b-80b1-404b0568d163"
   },
   "outputs": [
    {
     "data": {
      "text/plain": [
       "tensor([[-0.4161, -0.4161],\n",
       "        [-0.4161, -0.4161]])"
      ]
     },
     "execution_count": 26,
     "metadata": {},
     "output_type": "execute_result"
    }
   ],
   "source": [
    "torch.cos(t1)"
   ]
  },
  {
   "cell_type": "markdown",
   "metadata": {
    "id": "-82UJ-_sKcle"
   },
   "source": [
    "A few more operations"
   ]
  },
  {
   "cell_type": "code",
   "execution_count": 27,
   "metadata": {
    "colab": {
     "base_uri": "https://localhost:8080/"
    },
    "id": "wH_rjU0aKcle",
    "outputId": "3769d506-f008-4520-97ae-d52a186dc839"
   },
   "outputs": [
    {
     "data": {
      "text/plain": [
       "tensor([ 3.0000,  4.7500,  6.5000,  8.2500, 10.0000])"
      ]
     },
     "execution_count": 27,
     "metadata": {},
     "output_type": "execute_result"
    }
   ],
   "source": [
    "# Create a one-dimensional tensor of steps equally \n",
    "# spaced points between start and end\n",
    "\n",
    "torch.linspace(3, 10, steps=5)"
   ]
  },
  {
   "cell_type": "code",
   "execution_count": 28,
   "metadata": {
    "colab": {
     "base_uri": "https://localhost:8080/"
    },
    "id": "bUEalDWsKcle",
    "outputId": "a3fcf60c-af1a-4881-cac4-5a799e9ae6ee"
   },
   "outputs": [
    {
     "data": {
      "text/plain": [
       "tensor([0, 1, 2, 3, 4])"
      ]
     },
     "execution_count": 28,
     "metadata": {},
     "output_type": "execute_result"
    }
   ],
   "source": [
    "# Create a 1-D Tensor with values from [start, end)\n",
    "\n",
    "torch.arange(0, 5)"
   ]
  },
  {
   "cell_type": "code",
   "execution_count": 29,
   "metadata": {
    "colab": {
     "base_uri": "https://localhost:8080/"
    },
    "id": "fMIXSR_yKclf",
    "outputId": "e979496c-5f3f-47ac-fa2c-6c9c8e81127e"
   },
   "outputs": [
    {
     "data": {
      "text/plain": [
       "tensor([[0.5247, 0.7715, 0.8032],\n",
       "        [0.0809, 0.5398, 0.4100]])"
      ]
     },
     "execution_count": 29,
     "metadata": {},
     "output_type": "execute_result"
    }
   ],
   "source": [
    "# Create a (2x3) Tensor with random values sampled \n",
    "# from uniform distrubution on the interval [0,1)\n",
    "\n",
    "torch.rand((2,3))"
   ]
  },
  {
   "cell_type": "code",
   "execution_count": 30,
   "metadata": {
    "colab": {
     "base_uri": "https://localhost:8080/"
    },
    "id": "5nu207AnKclf",
    "outputId": "9143c70a-f25e-46df-b557-9504fe06d458"
   },
   "outputs": [
    {
     "data": {
      "text/plain": [
       "tensor([[-0.1666, -0.6172, -1.0396],\n",
       "        [ 0.3983,  0.3975,  0.3197]])"
      ]
     },
     "execution_count": 30,
     "metadata": {},
     "output_type": "execute_result"
    }
   ],
   "source": [
    "# Create a (2x3) Tensor with random values sampled \n",
    "# from normal distrubution with 0 mean and variance 1\n",
    "\n",
    "torch.randn((2,3))"
   ]
  },
  {
   "cell_type": "code",
   "execution_count": 31,
   "metadata": {
    "colab": {
     "base_uri": "https://localhost:8080/"
    },
    "id": "UqJXpNrTKclf",
    "outputId": "df6363e2-c457-48ca-efaa-0613efb37dc3"
   },
   "outputs": [
    {
     "data": {
      "text/plain": [
       "tensor([[0.8210, 0.8017],\n",
       "        [0.5490, 0.4622]])"
      ]
     },
     "execution_count": 31,
     "metadata": {},
     "output_type": "execute_result"
    }
   ],
   "source": [
    "# Do a matrix multiply\n",
    "\n",
    "a = torch.rand((2, 3))\n",
    "b = torch.rand((3, 2))\n",
    "\n",
    "torch.mm(a, b)"
   ]
  },
  {
   "cell_type": "markdown",
   "metadata": {
    "id": "aoc4QzDaKclf"
   },
   "source": [
    "### Variables\n",
    "\n",
    "Next, let's understand variables in PyTorch and the operations we can perform on them."
   ]
  },
  {
   "cell_type": "code",
   "execution_count": 32,
   "metadata": {
    "id": "VReBPhZJKclf"
   },
   "outputs": [],
   "source": [
    "import torch\n",
    "from torch.autograd import Variable"
   ]
  },
  {
   "cell_type": "markdown",
   "metadata": {
    "id": "TLhLLrTLKclf"
   },
   "source": [
    "Let's create a small computation graph"
   ]
  },
  {
   "cell_type": "code",
   "execution_count": 33,
   "metadata": {
    "id": "_XCJ3t2cKclf"
   },
   "outputs": [],
   "source": [
    "x = Variable(torch.FloatTensor([11.2]), requires_grad=True)\n",
    "y = 2 * x"
   ]
  },
  {
   "cell_type": "code",
   "execution_count": 34,
   "metadata": {
    "colab": {
     "base_uri": "https://localhost:8080/"
    },
    "id": "qUzdjDvMKclf",
    "outputId": "2625b533-dd38-473b-8c9f-ac03557530c0"
   },
   "outputs": [
    {
     "name": "stdout",
     "output_type": "stream",
     "text": [
      "tensor([11.2000], requires_grad=True)\n",
      "tensor([22.4000], grad_fn=<MulBackward0>)\n"
     ]
    }
   ],
   "source": [
    "print(x)\n",
    "print(y)"
   ]
  },
  {
   "cell_type": "code",
   "execution_count": 35,
   "metadata": {
    "colab": {
     "base_uri": "https://localhost:8080/"
    },
    "id": "Bki12gcrKclf",
    "outputId": "e348e324-a86b-4af2-c62a-04c1390bfa3a"
   },
   "outputs": [
    {
     "name": "stdout",
     "output_type": "stream",
     "text": [
      "tensor([11.2000])\n",
      "tensor([22.4000])\n"
     ]
    }
   ],
   "source": [
    "print(x.data)\n",
    "print(y.data)"
   ]
  },
  {
   "cell_type": "code",
   "execution_count": 36,
   "metadata": {
    "colab": {
     "base_uri": "https://localhost:8080/"
    },
    "id": "uhTbQPD8Kclf",
    "outputId": "f6d9d79f-1119-485a-e212-1396fc02186c"
   },
   "outputs": [
    {
     "name": "stdout",
     "output_type": "stream",
     "text": [
      "None\n",
      "<MulBackward0 object at 0x7f1a7aa42290>\n"
     ]
    }
   ],
   "source": [
    "print(x.grad_fn)\n",
    "print(y.grad_fn)"
   ]
  },
  {
   "cell_type": "code",
   "execution_count": 37,
   "metadata": {
    "id": "i4WSi0VuKclg"
   },
   "outputs": [],
   "source": [
    "y.backward() # Calculates the gradients"
   ]
  },
  {
   "cell_type": "code",
   "execution_count": 38,
   "metadata": {
    "colab": {
     "base_uri": "https://localhost:8080/"
    },
    "id": "5mNKW7BoKclg",
    "outputId": "f64d17dc-f5ab-405f-e9ff-621b6abe0bab"
   },
   "outputs": [
    {
     "name": "stdout",
     "output_type": "stream",
     "text": [
      "tensor([2.])\n",
      "None\n"
     ]
    },
    {
     "name": "stderr",
     "output_type": "stream",
     "text": [
      "/usr/local/lib/python3.7/dist-packages/torch/_tensor.py:1083: UserWarning: The .grad attribute of a Tensor that is not a leaf Tensor is being accessed. Its .grad attribute won't be populated during autograd.backward(). If you indeed want the .grad field to be populated for a non-leaf Tensor, use .retain_grad() on the non-leaf Tensor. If you access the non-leaf Tensor by mistake, make sure you access the leaf Tensor instead. See github.com/pytorch/pytorch/pull/30531 for more informations. (Triggered internally at  aten/src/ATen/core/TensorBody.h:477.)\n",
      "  return self._grad\n"
     ]
    }
   ],
   "source": [
    "print(x.grad)\n",
    "print(y.grad)"
   ]
  },
  {
   "cell_type": "markdown",
   "metadata": {
    "id": "XcCh4j7wKclg"
   },
   "source": [
    "### Working with PyTorch and NumPy"
   ]
  },
  {
   "cell_type": "code",
   "execution_count": 1,
   "metadata": {
    "id": "FclXIh-MKclg"
   },
   "outputs": [],
   "source": [
    "import torch\n",
    "import numpy as np"
   ]
  },
  {
   "cell_type": "markdown",
   "metadata": {
    "id": "BPvQAwFWKclg"
   },
   "source": [
    "Convert a NumPy array to Tensor"
   ]
  },
  {
   "cell_type": "code",
   "execution_count": 2,
   "metadata": {
    "colab": {
     "base_uri": "https://localhost:8080/"
    },
    "id": "nWsBV3jQKclg",
    "outputId": "78ba7b03-dd71-4991-b22b-332b05d768df"
   },
   "outputs": [
    {
     "name": "stdout",
     "output_type": "stream",
     "text": [
      "[2 3]\n",
      "tensor([2, 3])\n"
     ]
    }
   ],
   "source": [
    "n = np.array([2, 3])\n",
    "t = torch.from_numpy(n)\n",
    "print(n)\n",
    "print(t)"
   ]
  },
  {
   "cell_type": "markdown",
   "metadata": {
    "id": "WSwzZoJtKclg"
   },
   "source": [
    "Change a Tensor value, and see the change in \n",
    "corresponding NumPy array"
   ]
  },
  {
   "cell_type": "code",
   "execution_count": 3,
   "metadata": {
    "colab": {
     "base_uri": "https://localhost:8080/"
    },
    "id": "LlZfaw8iKclg",
    "outputId": "69a8cee9-f63c-4a2c-f8cc-061b06794c46"
   },
   "outputs": [
    {
     "name": "stdout",
     "output_type": "stream",
     "text": [
      "tensor([100,   3])\n"
     ]
    }
   ],
   "source": [
    "n[0] = 100\n",
    "print(t)"
   ]
  },
  {
   "cell_type": "markdown",
   "metadata": {
    "id": "CKZ6gabwKclg"
   },
   "source": [
    "Convert a Tensor to NumPy array"
   ]
  },
  {
   "cell_type": "code",
   "execution_count": 4,
   "metadata": {
    "colab": {
     "base_uri": "https://localhost:8080/"
    },
    "id": "-Rw8NWBWKclh",
    "outputId": "9b38b7dc-1425-44d9-886e-baa5a55091ce"
   },
   "outputs": [
    {
     "name": "stdout",
     "output_type": "stream",
     "text": [
      "tensor([5., 6.])\n",
      "[5. 6.]\n"
     ]
    }
   ],
   "source": [
    "t = torch.FloatTensor([5, 6])\n",
    "n = t.numpy()\n",
    "print(t)\n",
    "print(n)"
   ]
  },
  {
   "cell_type": "markdown",
   "metadata": {
    "id": "kpBUy6ssKclh"
   },
   "source": [
    "Change a Tensor value, and see the change in corresponding NumPy array"
   ]
  },
  {
   "cell_type": "code",
   "execution_count": 5,
   "metadata": {
    "colab": {
     "base_uri": "https://localhost:8080/"
    },
    "id": "ZNDsTtVSKclh",
    "outputId": "46cefae4-0fa9-4cb7-ca38-0f0d5c3d09cb"
   },
   "outputs": [
    {
     "name": "stdout",
     "output_type": "stream",
     "text": [
      "[100.   6.]\n"
     ]
    }
   ],
   "source": [
    "t[0] = 100\n",
    "print(n)"
   ]
  },
  {
   "cell_type": "markdown",
   "metadata": {
    "id": "oMlIMsawKclh"
   },
   "source": [
    "### Tensors on GPU"
   ]
  },
  {
   "cell_type": "markdown",
   "metadata": {
    "id": "6WIHfwfHKclh"
   },
   "source": [
    "Check if your machine has GPU support"
   ]
  },
  {
   "cell_type": "code",
   "execution_count": 6,
   "metadata": {
    "colab": {
     "base_uri": "https://localhost:8080/"
    },
    "id": "pdTU-wg9Kclh",
    "outputId": "08b3f8d2-9069-4bfe-e744-1d9d00f55729"
   },
   "outputs": [
    {
     "name": "stdout",
     "output_type": "stream",
     "text": [
      "GPU Supported\n"
     ]
    }
   ],
   "source": [
    "if torch.cuda.is_available():\n",
    "    print(\"GPU Supported\")\n",
    "else:\n",
    "    print(\"GPU Not Supported\")"
   ]
  },
  {
   "cell_type": "markdown",
   "metadata": {
    "id": "XkDdHOc-Kclh"
   },
   "source": [
    "Check the number of GPUs attached to this machine"
   ]
  },
  {
   "cell_type": "code",
   "execution_count": 7,
   "metadata": {
    "colab": {
     "base_uri": "https://localhost:8080/"
    },
    "id": "lBzaedVyKclh",
    "outputId": "4057ec2e-297d-474f-84d0-8742cf6ec4a7"
   },
   "outputs": [
    {
     "data": {
      "text/plain": [
       "1"
      ]
     },
     "execution_count": 7,
     "metadata": {},
     "output_type": "execute_result"
    }
   ],
   "source": [
    "torch.cuda.device_count()"
   ]
  },
  {
   "cell_type": "markdown",
   "metadata": {
    "id": "BFdkpmWdKclh"
   },
   "source": [
    "Get device name"
   ]
  },
  {
   "cell_type": "code",
   "execution_count": 8,
   "metadata": {
    "colab": {
     "base_uri": "https://localhost:8080/",
     "height": 36
    },
    "id": "Fmmayf2xKclh",
    "outputId": "78527ffb-6b6e-41b9-f9ed-fce6899ae557"
   },
   "outputs": [
    {
     "data": {
      "application/vnd.google.colaboratory.intrinsic+json": {
       "type": "string"
      },
      "text/plain": [
       "'Tesla T4'"
      ]
     },
     "execution_count": 8,
     "metadata": {},
     "output_type": "execute_result"
    }
   ],
   "source": [
    "torch.cuda.get_device_name(0)"
   ]
  },
  {
   "cell_type": "markdown",
   "metadata": {
    "id": "rkMXdVshKcli"
   },
   "source": [
    "Moving a Tensor to GPU"
   ]
  },
  {
   "cell_type": "code",
   "execution_count": 9,
   "metadata": {
    "id": "BHyzV48vKcli"
   },
   "outputs": [],
   "source": [
    "t = torch.FloatTensor([2, 3])"
   ]
  },
  {
   "cell_type": "code",
   "execution_count": 10,
   "metadata": {
    "colab": {
     "base_uri": "https://localhost:8080/"
    },
    "id": "4ViAQnOsKcli",
    "outputId": "b4abc830-ee15-4d6a-9a04-08c6e71abd93"
   },
   "outputs": [
    {
     "name": "stdout",
     "output_type": "stream",
     "text": [
      "tensor([2., 3.])\n"
     ]
    }
   ],
   "source": [
    "print(t)"
   ]
  },
  {
   "cell_type": "code",
   "execution_count": 11,
   "metadata": {
    "id": "4iUtbtqcKcli"
   },
   "outputs": [],
   "source": [
    "t = t.cuda(0)"
   ]
  },
  {
   "cell_type": "markdown",
   "metadata": {
    "id": "Nt7iEQOBKcli"
   },
   "source": [
    "Creating a Tensor on GPU, directly"
   ]
  },
  {
   "cell_type": "code",
   "execution_count": 12,
   "metadata": {
    "colab": {
     "base_uri": "https://localhost:8080/"
    },
    "id": "me7kCR6IKcli",
    "outputId": "d3e43a4c-94d4-430b-ba46-1e4fd6538b37"
   },
   "outputs": [
    {
     "name": "stdout",
     "output_type": "stream",
     "text": [
      "tensor([2., 3.], device='cuda:0')\n"
     ]
    }
   ],
   "source": [
    "t = torch.cuda.FloatTensor([2, 3])\n",
    "print(t)"
   ]
  },
  {
   "cell_type": "markdown",
   "metadata": {
    "id": "hpSBHXERKcli"
   },
   "source": [
    "Bring it back to CPU"
   ]
  },
  {
   "cell_type": "code",
   "execution_count": 13,
   "metadata": {
    "colab": {
     "base_uri": "https://localhost:8080/"
    },
    "id": "eEImmC_6Kcli",
    "outputId": "5c41b0cf-f0fb-494f-8656-4956e09a525a"
   },
   "outputs": [
    {
     "name": "stdout",
     "output_type": "stream",
     "text": [
      "tensor([2., 3.])\n"
     ]
    }
   ],
   "source": [
    "t = t.cpu()\n",
    "print(t)"
   ]
  },
  {
   "cell_type": "markdown",
   "metadata": {
    "id": "2faBIDLxKcli"
   },
   "source": [
    "Use device context"
   ]
  },
  {
   "cell_type": "code",
   "execution_count": 14,
   "metadata": {
    "colab": {
     "base_uri": "https://localhost:8080/"
    },
    "id": "izNzK_EFKclj",
    "outputId": "15913967-1d1c-4fe2-895a-3065c0496db1"
   },
   "outputs": [
    {
     "name": "stdout",
     "output_type": "stream",
     "text": [
      "tensor([2., 3.], device='cuda:0')\n"
     ]
    }
   ],
   "source": [
    "with torch.cuda.device(0):\n",
    "    t = torch.cuda.FloatTensor([2, 3])\n",
    "    print(t)"
   ]
  },
  {
   "cell_type": "code",
   "execution_count": null,
   "metadata": {
    "id": "t5PTCbwDKclj"
   },
   "outputs": [],
   "source": []
  },
  {
   "cell_type": "markdown",
   "metadata": {
    "_cell_guid": "ff5c0b1b-7df0-49e9-ac50-ffcb7c7ce68b",
    "_uuid": "d32496f0fda13237f626529660ef77ca6812abfe",
    "id": "o5WIbF2hKclj"
   },
   "source": [
    "\n",
    "## MNIST digit recognition using PyTorch\n",
    "\n",
    "This part of the lab was\n",
    "taken from the [Kaggle tutorial on MNIST with PyTorch]('https://www.kaggle.com/justuser/mnist-with-pytorch-fully-connected-network).\n",
    "\n",
    "We will use a fully connected neural network and a batch learning algorithm and explain each\n",
    "step along the way.\n",
    "\n",
    "So, with that being said, let's start with imports that we will need.\n",
    "First of all, we need to import PyTorch. There are some common names for torch modules (like numpy is always named np):  torch.nn.functional is imported as F,  torch.nn is the core module, and is simply imported as nn.\n",
    "Also, we need numpy. We also use pyplot and seaborn for visualization, but they are not required for the network itself. \n",
    "And finally, we use pandas for importing and transforming data.\n"
   ]
  },
  {
   "cell_type": "code",
   "execution_count": 1,
   "metadata": {
    "_cell_guid": "9c846800-05b5-40e4-9899-e3c5e6a149ba",
    "_uuid": "2945bec027bb7b48141bc406ccb6ecb19d240aaf",
    "id": "cOgFofb9Kclj"
   },
   "outputs": [],
   "source": [
    "import numpy as np\n",
    "import torch\n",
    "import torch.nn as nn\n",
    "import torch.nn.functional as F\n",
    "import torch.optim as optim\n",
    "from torch.autograd import Variable\n",
    "import pandas as pd\n",
    "import matplotlib.pyplot as plt\n",
    "import seaborn as sns\n",
    "%matplotlib inline\n",
    "import warnings\n",
    "warnings.filterwarnings(\"ignore\")"
   ]
  },
  {
   "cell_type": "markdown",
   "metadata": {
    "_cell_guid": "7ef86f98-c394-4595-8675-e2539ea2332d",
    "_uuid": "dc797b7df7d886a974e0fd36a7e30da01159875b",
    "id": "gZB6dXlNKclj"
   },
   "source": [
    "Now we can import and transform the data. I decided to split it into input and labels right away at this step:"
   ]
  },
  {
   "cell_type": "code",
   "execution_count": 2,
   "metadata": {
    "_cell_guid": "6d14bbd6-47d0-4b67-b3d4-d2cf21d46aab",
    "_uuid": "1bf6c2fde0bb1799d2c551cdeda74bb2a5e02bca",
    "id": "QkhSR27aKclj",
    "outputId": "edf07823-5266-49aa-ec79-62b71efff1c7"
   },
   "outputs": [
    {
     "name": "stdout",
     "output_type": "stream",
     "text": [
      "Reading the data...\n",
      "Reshaping the data...\n",
      "Data is ready\n"
     ]
    }
   ],
   "source": [
    "print(\"Reading the data...\")\n",
    "data = pd.read_csv('train_mnist.csv', sep=\",\")\n",
    "test_data = pd.read_csv('test_mnist.csv', sep=\",\")\n",
    "\n",
    "print(\"Reshaping the data...\")\n",
    "dataFinal = data.drop('label', axis=1)\n",
    "labels = data['label']\n",
    "\n",
    "\n",
    "dataNp = dataFinal.to_numpy()\n",
    "labelsNp = labels.to_numpy()\n",
    "test_dataNp = test_data.to_numpy()\n",
    "\n",
    "print(\"Data is ready\")"
   ]
  },
  {
   "cell_type": "markdown",
   "metadata": {
    "_cell_guid": "728ef5da-7b0f-4a32-9a0e-10d75e10173e",
    "_uuid": "d8441dfce526382bc0c9a0658add9df793f06ed1",
    "id": "LNigqKggKclj"
   },
   "source": [
    "Now that data is ready, we can take a look at what we're dealing with. I will be using heatmaps from seaborn, which is an excellent tool for matrix visualization. But first, since the images in the MNIST dataset are represented as a long 1d arrays of pixels, we will need to reshape it into 2d array. That's where .reshape() from numpy comes in handy. The pictures are 28 x 28 pixels, so these will be the parameters.\n",
    "\n",
    "Let's select a couple random samples and visualize them. I will also print their labels, so we can compare images with their actual value:"
   ]
  },
  {
   "cell_type": "code",
   "execution_count": 3,
   "metadata": {
    "_cell_guid": "54405d05-313e-48b9-8984-14337df18c7d",
    "_uuid": "7c796bf8cece8a8fef7ab459c0e7624159f2f1e2",
    "id": "MVoXwkuGKclj",
    "outputId": "2187e602-7812-434b-94d7-6e706973ea31"
   },
   "outputs": [
    {
     "name": "stdout",
     "output_type": "stream",
     "text": [
      "8  /  9\n",
      "8  /  4\n",
      "9  /  1\n"
     ]
    },
    {
     "data": {
      "image/png": "[encoded data removed]",
      "text/plain": [
       "<Figure size 1400x1200 with 12 Axes>"
      ]
     },
     "metadata": {},
     "output_type": "display_data"
    }
   ],
   "source": [
    "plt.figure(figsize=(14, 12))\n",
    "\n",
    "pixels = dataNp[10].reshape(28, 28)\n",
    "plt.subplot(321)\n",
    "sns.heatmap(data=pixels)\n",
    "\n",
    "pixels = dataNp[11].reshape(28, 28)\n",
    "plt.subplot(322)\n",
    "sns.heatmap(data=pixels)\n",
    "\n",
    "pixels = dataNp[20].reshape(28, 28)\n",
    "plt.subplot(323)\n",
    "sns.heatmap(data=pixels)\n",
    "\n",
    "pixels = dataNp[32].reshape(28, 28)\n",
    "plt.subplot(324)\n",
    "sns.heatmap(data=pixels)\n",
    "\n",
    "pixels = dataNp[40].reshape(28, 28)\n",
    "plt.subplot(325)\n",
    "sns.heatmap(data=pixels)\n",
    "\n",
    "pixels = dataNp[52].reshape(28, 28)\n",
    "plt.subplot(326)\n",
    "sns.heatmap(data=pixels)\n",
    "\n",
    "print(labels[10], \" / \", labels[11])\n",
    "print(labels[20], \" / \", labels[32])\n",
    "print(labels[40], \" / \", labels[52])"
   ]
  },
  {
   "cell_type": "markdown",
   "metadata": {
    "_cell_guid": "b7a5f805-f8dd-4288-b44d-8984f479ae7f",
    "_uuid": "147ebd083edc2cf96c8e0aefb3893dc971fc5f0b",
    "id": "jjVaMEhOKclk"
   },
   "source": [
    "PyTorch has it's own way to store data - those are called tensors, and they are just like numpy arrays, but are suited for PyTorch needs. If we want to feed the data to the network, we need to transform the dataset into those tensors. The good news is that PyTorch can easily do that by transforming numpy arrays or regular lists into tensors."
   ]
  },
  {
   "cell_type": "code",
   "execution_count": 4,
   "metadata": {
    "_cell_guid": "410167b2-846d-4363-831b-84349053ecfd",
    "_uuid": "af8849f388dd69082bdcf52ea48547eb0ea1a483",
    "id": "Re1b__iNKclk"
   },
   "outputs": [],
   "source": [
    "x = torch.FloatTensor(dataNp.tolist())\n",
    "y = torch.LongTensor(labelsNp.tolist())"
   ]
  },
  {
   "cell_type": "markdown",
   "metadata": {
    "_cell_guid": "4131196e-07e4-49a5-8380-f0fcfccba081",
    "_uuid": "fcd60bddacdb2146d7d3fa272eb3dc766d8314fe",
    "id": "ay1V7jbAKclk"
   },
   "source": [
    "Before we start writing the actual network, we need to determine what will be the hyperparameters. Those will not be adjusted during training, so we need to be careful how we set them up. \n",
    "\n",
    "Here's what we will specify:\n",
    "* **input_size** - size of the input layer, it is always fixed (784 pixels)\n",
    "* **output_size** - size of the output layer, also fixed size (10 for every possible digit)\n",
    "* **hidden_size** - size of the hidden layer, this parameter determines structure of the network. 200 worked for me, but it is worth to play with this parameter to see what works for you\n",
    "* **epochs** - how many times will the network go through the entire dataset during training. \n",
    "* **learning_rate** - determines how fast will the network learn. You should be very careful about this parameter, because if it is too high, the network won't learn at all, if it is too low, the net will learn too long. I's always about balance. Usualy 10^-3 - 10^-5 works just fine.\n",
    "* **batch_size** - size of mini batches during training"
   ]
  },
  {
   "cell_type": "code",
   "execution_count": 5,
   "metadata": {
    "_cell_guid": "80dd6a9a-c28f-4a16-b8fe-6c2c4986422c",
    "_uuid": "fdc55b6ed97d0d641046f977cb7a578ad80fbc57",
    "id": "vAT7CFcYKclk"
   },
   "outputs": [],
   "source": [
    "# hyperparameters\n",
    "input_size = 784\n",
    "output_size = 10\n",
    "hidden_size = 200\n",
    "\n",
    "epochs = 20\n",
    "batch_size = 50\n",
    "learning_rate = 0.00005"
   ]
  },
  {
   "cell_type": "markdown",
   "metadata": {
    "_cell_guid": "4d2b9f6c-8fb0-4468-b7ce-88cb3d28fcef",
    "_uuid": "507d4fb6939a3a9093ff3eabf1dd841ba5880b97",
    "id": "zZUGKz9rKclk"
   },
   "source": [
    "Now we can finally write the actual network. To make it all work, the Network class needs to inherit the *nn.Module*, which gives it the basic functionality required, and allows PyTorch to work with it as expected. \n",
    "\n",
    "When writing a PyTorch neural network, some things must always be there:\n",
    "* \\__init\\__(self) - initializes the net and creates an instance of that *nn.Module*. Here we define the structure of the network.\n",
    "* forward(self, x) - defines forward propagation and how the data flow through the network. Of course, it is based on the structure that is defined in the previous function.\n",
    "\n",
    "In the initialization, first of all, we need to initialize super (or base) module that the net inherits. After that first line, is the definition of structure. You can experiment with (put more layers or change hidden layer size, etc.), but this structure worked for me just fine.\n",
    "\n",
    "In forward propagation we simply reassign the value of x as it flows through the layers and return the [softmax](https://en.wikipedia.org/wiki/Softmax_function) at the end."
   ]
  },
  {
   "cell_type": "code",
   "execution_count": 6,
   "metadata": {
    "_cell_guid": "f238d14f-05bb-4a49-b031-5eaa47bddc64",
    "_uuid": "dc77322a324a27ef7a7f30b0432bfd0d3da3e567",
    "id": "TktjLPGpKclk"
   },
   "outputs": [],
   "source": [
    "class Network(nn.Module):\n",
    "    \n",
    "    def __init__(self):\n",
    "        super(Network, self).__init__()\n",
    "        self.l1 = nn.Linear(input_size, hidden_size)\n",
    "        self.relu = nn.ReLU()\n",
    "        self.l3 = nn.Linear(hidden_size, output_size)\n",
    "        \n",
    "    def forward(self, x):\n",
    "        x = self.l1(x)\n",
    "        x = self.relu(x)\n",
    "        x = self.l3(x)\n",
    "        return F.log_softmax(x)"
   ]
  },
  {
   "cell_type": "markdown",
   "metadata": {
    "_cell_guid": "02a3fe74-b0d4-4d78-bcee-4fffc6acca89",
    "_uuid": "e4dbac71f5f491cf8e79b127cbe18a4e90c65d71",
    "id": "ViDlO8pYKclk"
   },
   "source": [
    "After we've defined the network, we can initialize it. \n",
    "Also, if we \"print\" the instance of the net, we can see the structure of it in a neat format:"
   ]
  },
  {
   "cell_type": "code",
   "execution_count": 7,
   "metadata": {
    "_cell_guid": "2376a5b3-3f93-46ac-8e19-e22cf3fb3f01",
    "_uuid": "b70b7208f45abe5b9324735a515c6259cc4fb3e3",
    "id": "UBpqMRZAKclk",
    "outputId": "b9a4f70d-7a2b-47f1-e11d-cc940b2f0da5"
   },
   "outputs": [
    {
     "name": "stdout",
     "output_type": "stream",
     "text": [
      "Network(\n",
      "  (l1): Linear(in_features=784, out_features=200, bias=True)\n",
      "  (relu): ReLU()\n",
      "  (l3): Linear(in_features=200, out_features=10, bias=True)\n",
      ")\n"
     ]
    }
   ],
   "source": [
    "net = Network()\n",
    "print(net)"
   ]
  },
  {
   "cell_type": "markdown",
   "metadata": {
    "_cell_guid": "75eaeb97-f840-4862-8819-109b023660a7",
    "_uuid": "4cb26c4f84a53abdd5f4c3f7fc0a625ef7d805c4",
    "id": "xtXJNVcRKcll"
   },
   "source": [
    "Now it's time to set up the [optimizer](http://pytorch.org/docs/master/optim.html) and a loss function. \n",
    "\n",
    "*There are quite a lot of things happening behind these two lines of code, so if you don't know what is going on here, don't worry too much for now, it will get clearer eventualy.* \n",
    "\n",
    "Optimizer is what  updates the parameters of the network. I will be using Stochastic Gradient Descent with momentum. Also, the optimizer takes the network parameters as an argument, but it's not a big deal since we can get those with .parameters() function.\n",
    "\n",
    "I decided to use [Cross Entropy Loss](https://en.wikipedia.org/wiki/Cross_entropy) for this problem, but again, there are many options and you are free to choose whatever suits you best."
   ]
  },
  {
   "cell_type": "code",
   "execution_count": 8,
   "metadata": {
    "_cell_guid": "f9fe7b0f-7fec-49f3-8cd2-a6fedd4c8048",
    "_uuid": "d4fd65ae06c5003428ab90b1557142f015152b7c",
    "id": "bNWtunwiKcll"
   },
   "outputs": [],
   "source": [
    "optimizer = optim.SGD(net.parameters(), lr=learning_rate, momentum=0.9)\n",
    "loss_func = nn.CrossEntropyLoss()"
   ]
  },
  {
   "cell_type": "markdown",
   "metadata": {
    "_cell_guid": "465d2e54-0a22-446d-9f87-d687f48140f3",
    "_uuid": "9684f943703fb995be47a7d92d1d281acc3dae32",
    "id": "hA5xxfruKcll"
   },
   "source": [
    "Now that everything is ready, our network can start learning. I will separate data into minibatches and feed it to the network. It has many advantages over single batch learning, but that is a different story. \n",
    "\n",
    "Also, I will use loss_log list to keep track of the loss function during the training process. "
   ]
  },
  {
   "cell_type": "code",
   "execution_count": 9,
   "metadata": {
    "_cell_guid": "3b646efc-4cae-4f94-9350-e059e4c89446",
    "_uuid": "c1247ff34caf53e9894a1c2ea5c435c0e446d048",
    "id": "iMRWYtbiKcll",
    "outputId": "8be77b4a-8862-4089-db3a-ef92f4b62710"
   },
   "outputs": [
    {
     "name": "stdout",
     "output_type": "stream",
     "text": [
      "Epoch: 0 - Loss: 0.054447\n",
      "Epoch: 1 - Loss: 0.008302\n",
      "Epoch: 2 - Loss: 0.004393\n",
      "Epoch: 3 - Loss: 0.002782\n",
      "Epoch: 4 - Loss: 0.001979\n",
      "Epoch: 5 - Loss: 0.001623\n",
      "Epoch: 6 - Loss: 0.001603\n",
      "Epoch: 7 - Loss: 0.001388\n",
      "Epoch: 8 - Loss: 0.001147\n",
      "Epoch: 9 - Loss: 0.001017\n",
      "Epoch: 10 - Loss: 0.000921\n",
      "Epoch: 11 - Loss: 0.000807\n",
      "Epoch: 12 - Loss: 0.000724\n",
      "Epoch: 13 - Loss: 0.000608\n",
      "Epoch: 14 - Loss: 0.000523\n",
      "Epoch: 15 - Loss: 0.000530\n",
      "Epoch: 16 - Loss: 0.000443\n",
      "Epoch: 17 - Loss: 0.000437\n",
      "Epoch: 18 - Loss: 0.000403\n",
      "Epoch: 19 - Loss: 0.000375\n"
     ]
    }
   ],
   "source": [
    "loss_log = []\n",
    "\n",
    "for e in range(epochs):\n",
    "    for i in range(0, x.shape[0], batch_size):\n",
    "        x_mini = x[i:i + batch_size] \n",
    "        y_mini = y[i:i + batch_size] \n",
    "        \n",
    "        x_var = Variable(x_mini)\n",
    "        y_var = Variable(y_mini)\n",
    "        \n",
    "        optimizer.zero_grad()\n",
    "        net_out = net(x_var)\n",
    "        \n",
    "        loss = loss_func(net_out, y_var)\n",
    "        loss.backward()\n",
    "        optimizer.step()\n",
    "        \n",
    "        if i % 100 == 0:\n",
    "            loss_log.append(loss.item())\n",
    "        \n",
    "    print('Epoch: {} - Loss: {:.6f}'.format(e, loss.item()))"
   ]
  },
  {
   "cell_type": "markdown",
   "metadata": {
    "_cell_guid": "548ac762-97c0-48b9-98ff-93559b293c9a",
    "_uuid": "e3e6d56f52974ccb3120340695aed4b9bea0907b",
    "id": "whdWymNXKcll"
   },
   "source": [
    "So, let's go line by line and see what is happening here:\n",
    "\n",
    "This is the main loop that goes through all the epochs of training. An epoch is one full training on the full dataset.\n",
    "\n",
    "    for e in range(epochs):\n",
    "This is the inner loop that simply goes through the dataset batch by batch:\n",
    "\n",
    "    for i in range(0, x.shape[0], batch_size):\n",
    "Here is where we get the batches out of our data and simply assign them to variables for further work:\n",
    "\n",
    "    x_mini = x[i:i + batch_size] \n",
    "    y_mini = y[i:i + batch_size] \n",
    "   These two lines are quite *important*. Remember I told you about tensors and how PyTorch stores data in them? That's not the end of story. Actually, to allow the network to work with data, we need a wrapper for those tensors called Variable. It has some additional properties, like allowing automatic gradient computation when backpropagating. It is required for the proper work of PyTorch, so we will add them here and supply tensors as parameters:\n",
    "   \n",
    "    x_var = Variable(x_mini)\n",
    "    y_var = Variable(y_mini)\n",
    "This line just resets the gradient of the optimizer:\n",
    "    \n",
    "    optimizer.zero_grad()\n",
    "Remember the *forward(self, x)* function that we previously defined? The next line is basically calling this function and does the forward propagation:\n",
    "\n",
    "    net_out = net(x_var)\n",
    "This line computes the loss function based on predictions of the net and the correct answers:\n",
    "\n",
    "    loss = loss_func(net_out, y_var)\n",
    "Here we compute the gradient based on the loss that we've got. It will be used to adjust parameters of the network.\n",
    "\n",
    "    loss.backward()\n",
    "And here is where we finally update our network with new adjusted parameters:\n",
    "\n",
    "    optimizer.step()\n",
    "The rest is just logging, which might be helpful to observe how well the network is performing.\n",
    "\n",
    "After the network is done with training, we can take a look at the loss function, and how it behaved during training:"
   ]
  },
  {
   "cell_type": "code",
   "execution_count": 10,
   "metadata": {
    "_cell_guid": "5073f433-dbae-452b-8b7f-647e20c2d0dc",
    "_uuid": "4b635e76f4bb761ceef632c381546a2286442818",
    "id": "4MY1QciIKcll",
    "outputId": "7379a924-275d-474d-c26c-2263a3579956"
   },
   "outputs": [
    {
     "data": {
      "text/plain": [
       "[<matplotlib.lines.Line2D at 0x1e8826a5d50>]"
      ]
     },
     "execution_count": 10,
     "metadata": {},
     "output_type": "execute_result"
    },
    {
     "data": {
      "image/png": "[encoded data removed]",
      "text/plain": [
       "<Figure size 1000x800 with 1 Axes>"
      ]
     },
     "metadata": {},
     "output_type": "display_data"
    }
   ],
   "source": [
    "plt.figure(figsize=(10,8))\n",
    "plt.plot(loss_log)"
   ]
  },
  {
   "cell_type": "markdown",
   "metadata": {
    "_cell_guid": "91f7e895-9ff7-4363-82d4-c2dc847aa9c3",
    "_uuid": "c5e3981a9d1e16ad5b8dcf5916031a22ac3336db",
    "id": "4_G-ekNVKclm"
   },
   "source": [
    "At this point, the network should be trained, and we can make a prediction using the test dataset. All we need to do is wrap the data into the Variable and feed it to the trained net, so nothing new here."
   ]
  },
  {
   "cell_type": "code",
   "execution_count": 11,
   "metadata": {
    "_cell_guid": "9792a7ca-d5a8-499b-87d0-077ecf77685d",
    "_uuid": "72b3a1b85275cc4c1f5bc7f442bf81004014b118",
    "id": "Jas6OgEZKclm",
    "outputId": "5827b860-d5f5-49c5-a0ad-53ca80585049"
   },
   "outputs": [
    {
     "name": "stdout",
     "output_type": "stream",
     "text": [
      "[2 0 9 ... 3 9 2]\n"
     ]
    }
   ],
   "source": [
    "test = torch.FloatTensor(test_dataNp.tolist())\n",
    "test_var = Variable(test)\n",
    "\n",
    "net_out = net(test_var)\n",
    "\n",
    "print(torch.max(net_out.data, 1)[1].numpy())"
   ]
  },
  {
   "cell_type": "markdown",
   "metadata": {
    "_cell_guid": "f34cc0fb-c950-4346-b742-259b86d9374c",
    "_uuid": "fed2362db49fc9991a1fd0be98d29c55b03b6b82",
    "id": "WlpzHrlZKclm"
   },
   "source": [
    "Now we have out predictions that are ready to be submitted. Before that, we can take a look at predictions and compare them to the actual pictures of digits, just like at the start with training data:"
   ]
  },
  {
   "cell_type": "code",
   "execution_count": 12,
   "metadata": {
    "_cell_guid": "bf0126d4-3eab-45ce-b84e-2f07c8fe9663",
    "_uuid": "41378dcf1951b3cbb7f929bec0a288bad007b72d",
    "id": "jsuAiPJpKclm",
    "outputId": "624f073b-4d1f-4c04-9635-845542f7627a"
   },
   "outputs": [
    {
     "name": "stdout",
     "output_type": "stream",
     "text": [
      "Prediction: 0 / 5\n",
      "Prediction: 9 / 7\n",
      "Prediction: 0 / 8\n"
     ]
    },
    {
     "data": {
      "image/png": "[encoded data removed]",
      "text/plain": [
       "<Figure size 1400x1200 with 12 Axes>"
      ]
     },
     "metadata": {},
     "output_type": "display_data"
    }
   ],
   "source": [
    "plt.figure(figsize=(14, 12))\n",
    "\n",
    "pixels = test_dataNp[1].reshape(28, 28)\n",
    "plt.subplot(321)\n",
    "sns.heatmap(data=pixels)\n",
    "test_sample = torch.FloatTensor(test_dataNp[1].tolist())\n",
    "test_var_sample = Variable(test_sample)\n",
    "net_out_sample = net(test_var_sample)\n",
    "\n",
    "pixels = test_dataNp[10].reshape(28, 28)\n",
    "plt.subplot(322)\n",
    "sns.heatmap(data=pixels)\n",
    "test_sample = torch.FloatTensor(test_dataNp[10].tolist())\n",
    "test_var_sample = Variable(test_sample)\n",
    "net_out_sample = net(test_var_sample)\n",
    "\n",
    "pixels = test_dataNp[20].reshape(28, 28)\n",
    "plt.subplot(323)\n",
    "sns.heatmap(data=pixels)\n",
    "test_sample = torch.FloatTensor(test_dataNp[20].tolist())\n",
    "test_var_sample = Variable(test_sample)\n",
    "net_out_sample = net(test_var_sample)\n",
    "\n",
    "pixels = test_dataNp[30].reshape(28, 28)\n",
    "plt.subplot(324)\n",
    "sns.heatmap(data=pixels)\n",
    "test_sample = torch.FloatTensor(test_dataNp[30].tolist())\n",
    "test_var_sample = Variable(test_sample)\n",
    "net_out_sample = net(test_var_sample)\n",
    "\n",
    "pixels = test_dataNp[100].reshape(28, 28)\n",
    "plt.subplot(325)\n",
    "sns.heatmap(data=pixels)\n",
    "test_sample = torch.FloatTensor(test_dataNp[100].tolist())\n",
    "test_var_sample = Variable(test_sample)\n",
    "net_out_sample = net(test_var_sample)\n",
    "\n",
    "pixels = test_dataNp[2000].reshape(28, 28)\n",
    "plt.subplot(326)\n",
    "sns.heatmap(data=pixels)\n",
    "test_sample = torch.FloatTensor(test_dataNp[1].tolist())\n",
    "test_var_sample = Variable(test_sample)\n",
    "net_out_sample = net(test_var_sample)\n",
    "\n",
    "\n",
    "print(\"Prediction: {} / {}\".format(torch.max(net_out.data, 1)[1].numpy()[1], torch.max(net_out.data, 1)[1].numpy()[10]))\n",
    "print(\"Prediction: {} / {}\".format(torch.max(net_out.data, 1)[1].numpy()[20], torch.max(net_out.data, 1)[1].numpy()[30]))\n",
    "print(\"Prediction: {} / {}\".format(torch.max(net_out.data, 1)[1].numpy()[100], torch.max(net_out.data, 1)[1].numpy()[2000]))"
   ]
  },
  {
   "cell_type": "code",
   "execution_count": 13,
   "metadata": {
    "_cell_guid": "22c40d7b-a3a4-4118-9aa5-d5191876ecd1",
    "_uuid": "c60e5abb1be0166b2c22aaad560885a74db21da9",
    "id": "y1RSILYbKcln"
   },
   "outputs": [],
   "source": [
    "output = (torch.max(net_out.data, 1)[1]).numpy()\n",
    "#np.savetxt(\"out.csv\", np.dstack((np.arange(1, output.size+1),output))[0],\"%d,%d\",header=\"ImageId,Label\")"
   ]
  },
  {
   "cell_type": "markdown",
   "metadata": {
    "_cell_guid": "13d2eeae-86ea-499e-923a-642527f23ce0",
    "_uuid": "97523e84c3d8ee0be9aea776f3f7e6c109f05cdd",
    "id": "YKlmD3MtKcln"
   },
   "source": [
    "And that is about it, we've made a simple neural network using PyTorch that can recognize handwritten digits. Not so bad!\n",
    "\n",
    "When I was writing this notebook, this model scorred 96.6%, which is not perfect by any means, but it's not that bad either. \n",
    "\n",
    "I hope this was useful for some of you. If you are totally new to deep learning, I suggest you learn how the neural networks actually work from the inside, especially the backpropagation algorithm.\n",
    "\n",
    "These videos explain [neural nets](https://www.youtube.com/watch?v=aircAruvnKk&t=708s) and [backpropagation](https://www.youtube.com/watch?v=Ilg3gGewQ5U) quite well.\n",
    "\n",
    "Also I suggest you to take a look at this [online book](http://neuralnetworksanddeeplearning.com/chap1.html) (it's absolutely free, btw), where neural networks are explained in great detail, and it even has an implementation of the MNIST problem from scratch, using only numpy.\n",
    "\n",
    "If you have any feedback, feel free to leave comments down below, and good luck with your deep learning adventures :)"
   ]
  },
  {
   "cell_type": "markdown",
   "metadata": {
    "id": "WSi4mXBpKcln"
   },
   "source": [
    "## Take-home exercise (50 points)\n",
    "\n",
    "Make sure you can run the PyTorch examples of MNIST classification, then apply the PyTorch example to another\n",
    "classification problem you've worked with this semester, for example the breast cancer dataset. Get familiar with\n",
    "working with models in PyTorch.\n",
    "\n",
    "Report your experiments and results in your brief lab report."
   ]
  },
  {
   "cell_type": "code",
   "execution_count": 16,
   "metadata": {
    "id": "zmFCzjslKcln",
    "outputId": "ef8b59a9-f9e4-478b-b31e-75553e09c20c"
   },
   "outputs": [
    {
     "name": "stdout",
     "output_type": "stream",
     "text": [
      "Index(['id', 'diagnosis', 'radius_mean', 'texture_mean', 'perimeter_mean',\n",
      "       'area_mean', 'smoothness_mean', 'compactness_mean', 'concavity_mean',\n",
      "       'concave points_mean', 'symmetry_mean', 'fractal_dimension_mean',\n",
      "       'radius_se', 'texture_se', 'perimeter_se', 'area_se', 'smoothness_se',\n",
      "       'compactness_se', 'concavity_se', 'concave points_se', 'symmetry_se',\n",
      "       'fractal_dimension_se', 'radius_worst', 'texture_worst',\n",
      "       'perimeter_worst', 'area_worst', 'smoothness_worst',\n",
      "       'compactness_worst', 'concavity_worst', 'concave points_worst',\n",
      "       'symmetry_worst', 'fractal_dimension_worst', 'Unnamed: 32'],\n",
      "      dtype='object')\n"
     ]
    }
   ],
   "source": [
    "from sklearn.model_selection import train_test_split\n",
    "from sklearn.preprocessing import StandardScaler\n",
    "\n",
    "data = pd.read_csv(\"breast_cancer.csv\")\n",
    "print(data.columns)"
   ]
  },
  {
   "cell_type": "code",
   "execution_count": 17,
   "metadata": {},
   "outputs": [
    {
     "data": {
      "text/html": [
       "<div>\n",
       "<style scoped>\n",
       "    .dataframe tbody tr th:only-of-type {\n",
       "        vertical-align: middle;\n",
       "    }\n",
       "\n",
       "    .dataframe tbody tr th {\n",
       "        vertical-align: top;\n",
       "    }\n",
       "\n",
       "    .dataframe thead th {\n",
       "        text-align: right;\n",
       "    }\n",
       "</style>\n",
       "<table border=\"1\" class=\"dataframe\">\n",
       "  <thead>\n",
       "    <tr style=\"text-align: right;\">\n",
       "      <th></th>\n",
       "      <th>id</th>\n",
       "      <th>diagnosis</th>\n",
       "      <th>radius_mean</th>\n",
       "      <th>texture_mean</th>\n",
       "      <th>perimeter_mean</th>\n",
       "      <th>area_mean</th>\n",
       "      <th>smoothness_mean</th>\n",
       "      <th>compactness_mean</th>\n",
       "      <th>concavity_mean</th>\n",
       "      <th>concave points_mean</th>\n",
       "      <th>...</th>\n",
       "      <th>texture_worst</th>\n",
       "      <th>perimeter_worst</th>\n",
       "      <th>area_worst</th>\n",
       "      <th>smoothness_worst</th>\n",
       "      <th>compactness_worst</th>\n",
       "      <th>concavity_worst</th>\n",
       "      <th>concave points_worst</th>\n",
       "      <th>symmetry_worst</th>\n",
       "      <th>fractal_dimension_worst</th>\n",
       "      <th>Unnamed: 32</th>\n",
       "    </tr>\n",
       "  </thead>\n",
       "  <tbody>\n",
       "    <tr>\n",
       "      <th>0</th>\n",
       "      <td>842302</td>\n",
       "      <td>M</td>\n",
       "      <td>17.99</td>\n",
       "      <td>10.38</td>\n",
       "      <td>122.80</td>\n",
       "      <td>1001.0</td>\n",
       "      <td>0.11840</td>\n",
       "      <td>0.27760</td>\n",
       "      <td>0.3001</td>\n",
       "      <td>0.14710</td>\n",
       "      <td>...</td>\n",
       "      <td>17.33</td>\n",
       "      <td>184.60</td>\n",
       "      <td>2019.0</td>\n",
       "      <td>0.1622</td>\n",
       "      <td>0.6656</td>\n",
       "      <td>0.7119</td>\n",
       "      <td>0.2654</td>\n",
       "      <td>0.4601</td>\n",
       "      <td>0.11890</td>\n",
       "      <td>NaN</td>\n",
       "    </tr>\n",
       "    <tr>\n",
       "      <th>1</th>\n",
       "      <td>842517</td>\n",
       "      <td>M</td>\n",
       "      <td>20.57</td>\n",
       "      <td>17.77</td>\n",
       "      <td>132.90</td>\n",
       "      <td>1326.0</td>\n",
       "      <td>0.08474</td>\n",
       "      <td>0.07864</td>\n",
       "      <td>0.0869</td>\n",
       "      <td>0.07017</td>\n",
       "      <td>...</td>\n",
       "      <td>23.41</td>\n",
       "      <td>158.80</td>\n",
       "      <td>1956.0</td>\n",
       "      <td>0.1238</td>\n",
       "      <td>0.1866</td>\n",
       "      <td>0.2416</td>\n",
       "      <td>0.1860</td>\n",
       "      <td>0.2750</td>\n",
       "      <td>0.08902</td>\n",
       "      <td>NaN</td>\n",
       "    </tr>\n",
       "    <tr>\n",
       "      <th>2</th>\n",
       "      <td>84300903</td>\n",
       "      <td>M</td>\n",
       "      <td>19.69</td>\n",
       "      <td>21.25</td>\n",
       "      <td>130.00</td>\n",
       "      <td>1203.0</td>\n",
       "      <td>0.10960</td>\n",
       "      <td>0.15990</td>\n",
       "      <td>0.1974</td>\n",
       "      <td>0.12790</td>\n",
       "      <td>...</td>\n",
       "      <td>25.53</td>\n",
       "      <td>152.50</td>\n",
       "      <td>1709.0</td>\n",
       "      <td>0.1444</td>\n",
       "      <td>0.4245</td>\n",
       "      <td>0.4504</td>\n",
       "      <td>0.2430</td>\n",
       "      <td>0.3613</td>\n",
       "      <td>0.08758</td>\n",
       "      <td>NaN</td>\n",
       "    </tr>\n",
       "    <tr>\n",
       "      <th>3</th>\n",
       "      <td>84348301</td>\n",
       "      <td>M</td>\n",
       "      <td>11.42</td>\n",
       "      <td>20.38</td>\n",
       "      <td>77.58</td>\n",
       "      <td>386.1</td>\n",
       "      <td>0.14250</td>\n",
       "      <td>0.28390</td>\n",
       "      <td>0.2414</td>\n",
       "      <td>0.10520</td>\n",
       "      <td>...</td>\n",
       "      <td>26.50</td>\n",
       "      <td>98.87</td>\n",
       "      <td>567.7</td>\n",
       "      <td>0.2098</td>\n",
       "      <td>0.8663</td>\n",
       "      <td>0.6869</td>\n",
       "      <td>0.2575</td>\n",
       "      <td>0.6638</td>\n",
       "      <td>0.17300</td>\n",
       "      <td>NaN</td>\n",
       "    </tr>\n",
       "    <tr>\n",
       "      <th>4</th>\n",
       "      <td>84358402</td>\n",
       "      <td>M</td>\n",
       "      <td>20.29</td>\n",
       "      <td>14.34</td>\n",
       "      <td>135.10</td>\n",
       "      <td>1297.0</td>\n",
       "      <td>0.10030</td>\n",
       "      <td>0.13280</td>\n",
       "      <td>0.1980</td>\n",
       "      <td>0.10430</td>\n",
       "      <td>...</td>\n",
       "      <td>16.67</td>\n",
       "      <td>152.20</td>\n",
       "      <td>1575.0</td>\n",
       "      <td>0.1374</td>\n",
       "      <td>0.2050</td>\n",
       "      <td>0.4000</td>\n",
       "      <td>0.1625</td>\n",
       "      <td>0.2364</td>\n",
       "      <td>0.07678</td>\n",
       "      <td>NaN</td>\n",
       "    </tr>\n",
       "  </tbody>\n",
       "</table>\n",
       "<p>5 rows × 33 columns</p>\n",
       "</div>"
      ],
      "text/plain": [
       "         id diagnosis  radius_mean  texture_mean  perimeter_mean  area_mean  \\\n",
       "0    842302         M        17.99         10.38          122.80     1001.0   \n",
       "1    842517         M        20.57         17.77          132.90     1326.0   \n",
       "2  84300903         M        19.69         21.25          130.00     1203.0   \n",
       "3  84348301         M        11.42         20.38           77.58      386.1   \n",
       "4  84358402         M        20.29         14.34          135.10     1297.0   \n",
       "\n",
       "   smoothness_mean  compactness_mean  concavity_mean  concave points_mean  \\\n",
       "0          0.11840           0.27760          0.3001              0.14710   \n",
       "1          0.08474           0.07864          0.0869              0.07017   \n",
       "2          0.10960           0.15990          0.1974              0.12790   \n",
       "3          0.14250           0.28390          0.2414              0.10520   \n",
       "4          0.10030           0.13280          0.1980              0.10430   \n",
       "\n",
       "   ...  texture_worst  perimeter_worst  area_worst  smoothness_worst  \\\n",
       "0  ...          17.33           184.60      2019.0            0.1622   \n",
       "1  ...          23.41           158.80      1956.0            0.1238   \n",
       "2  ...          25.53           152.50      1709.0            0.1444   \n",
       "3  ...          26.50            98.87       567.7            0.2098   \n",
       "4  ...          16.67           152.20      1575.0            0.1374   \n",
       "\n",
       "   compactness_worst  concavity_worst  concave points_worst  symmetry_worst  \\\n",
       "0             0.6656           0.7119                0.2654          0.4601   \n",
       "1             0.1866           0.2416                0.1860          0.2750   \n",
       "2             0.4245           0.4504                0.2430          0.3613   \n",
       "3             0.8663           0.6869                0.2575          0.6638   \n",
       "4             0.2050           0.4000                0.1625          0.2364   \n",
       "\n",
       "   fractal_dimension_worst  Unnamed: 32  \n",
       "0                  0.11890          NaN  \n",
       "1                  0.08902          NaN  \n",
       "2                  0.08758          NaN  \n",
       "3                  0.17300          NaN  \n",
       "4                  0.07678          NaN  \n",
       "\n",
       "[5 rows x 33 columns]"
      ]
     },
     "execution_count": 17,
     "metadata": {},
     "output_type": "execute_result"
    }
   ],
   "source": [
    "data.head()"
   ]
  },
  {
   "cell_type": "code",
   "execution_count": 18,
   "metadata": {
    "id": "UQM5TRc-Kcln"
   },
   "outputs": [],
   "source": [
    "X = data.drop(columns=['id','Unnamed: 32','diagnosis'])\n",
    "y = data['diagnosis']\n",
    "y, unique_y = pd.factorize(y)\n",
    "X_columns = X.columns\n",
    "\n",
    "X_train, X_test, y_train, y_test = train_test_split(X.values, y, test_size=0.2, random_state=42)\n",
    "\n",
    "scaler = StandardScaler()\n",
    "scaler.fit(X_train)\n",
    "\n",
    "X_train = scaler.transform(X_train)\n",
    "X_test = scaler.transform(X_test)\n",
    "\n",
    "X_train_tensor = torch.FloatTensor(X_train)\n",
    "X_test_tensor = torch.FloatTensor(X_test)\n",
    "y_train_tensor = torch.FloatTensor(y_train)\n",
    "y_test_tensor = torch.FloatTensor(y_test)\n",
    "\n",
    "# y_train_tensor = torch.LongTensor(y_train)\n",
    "# y_test_tensor = torch.LongTensor(y_test)"
   ]
  },
  {
   "cell_type": "code",
   "execution_count": 19,
   "metadata": {},
   "outputs": [
    {
     "data": {
      "text/plain": [
       "((455, 30), (455,), (114, 30), (114,))"
      ]
     },
     "execution_count": 19,
     "metadata": {},
     "output_type": "execute_result"
    }
   ],
   "source": [
    "X_train.shape, y_train.shape, X_test.shape, y_test.shape"
   ]
  },
  {
   "cell_type": "code",
   "execution_count": 30,
   "metadata": {
    "id": "Q2gxMtl2Kcln"
   },
   "outputs": [],
   "source": [
    "# Your code here\n",
    "\n",
    "input_size = 30\n",
    "output_size = 1\n",
    "hidden1_size = 16\n",
    "hidden2_size = 8\n",
    "#hidden3_size = None\n",
    "#hidden4_size = None\n",
    "\n",
    "epochs = 100\n",
    "batch_size = 64\n",
    "learning_rate = 0.001"
   ]
  },
  {
   "cell_type": "code",
   "execution_count": 31,
   "metadata": {
    "id": "VnOuzTkGKcln"
   },
   "outputs": [],
   "source": [
    "class Network(nn.Module):\n",
    "    \n",
    "    def __init__(self):\n",
    "        \n",
    "        super(Network, self).__init__()\n",
    "        ### BEGIN SOLUTION\n",
    "                \n",
    "        self.l1 = nn.Linear(input_size, hidden1_size)\n",
    "        self.relu1 = nn.ReLU()\n",
    "        \n",
    "        self.l2 = nn.Linear(hidden1_size, hidden2_size)\n",
    "        self.relu2 = nn.ReLU()\n",
    "        \n",
    "        self.l3 = nn.Linear(hidden2_size, output_size)\n",
    "        \n",
    "        ### END SOLUTION\n",
    "        \n",
    "    def forward(self, x):\n",
    "        \n",
    "        ### BEGIN SOLUTION\n",
    "        \n",
    "        x = self.l1(x)\n",
    "        x = self.relu1(x)\n",
    "        \n",
    "        x = self.l2(x)\n",
    "        x = self.relu2(x)\n",
    "        \n",
    "        x = self.l3(x)\n",
    "        return F.sigmoid(x)\n",
    "    \n",
    "        ### END SOLUTION"
   ]
  },
  {
   "cell_type": "code",
   "execution_count": 32,
   "metadata": {
    "id": "ZZsF_bc6Kcln"
   },
   "outputs": [
    {
     "name": "stdout",
     "output_type": "stream",
     "text": [
      "Network(\n",
      "  (l1): Linear(in_features=30, out_features=16, bias=True)\n",
      "  (relu1): ReLU()\n",
      "  (l2): Linear(in_features=16, out_features=8, bias=True)\n",
      "  (relu2): ReLU()\n",
      "  (l3): Linear(in_features=8, out_features=1, bias=True)\n",
      ")\n"
     ]
    }
   ],
   "source": [
    "# Continue yourself\n",
    "\n",
    "model = Network()\n",
    "print(model)"
   ]
  },
  {
   "cell_type": "code",
   "execution_count": 33,
   "metadata": {},
   "outputs": [],
   "source": [
    "optimizer = optim.SGD(model.parameters(), lr=learning_rate, momentum=0.9)\n",
    "J_func = nn.BCELoss()"
   ]
  },
  {
   "cell_type": "code",
   "execution_count": 34,
   "metadata": {},
   "outputs": [
    {
     "name": "stdout",
     "output_type": "stream",
     "text": [
      "Epoch: 1, Training Loss: 0.739, Test loss: 0.727\n",
      "Epoch: 2, Training Loss: 0.733, Test loss: 0.722\n",
      "Epoch: 3, Training Loss: 0.725, Test loss: 0.715\n",
      "Epoch: 4, Training Loss: 0.716, Test loss: 0.709\n",
      "Epoch: 5, Training Loss: 0.708, Test loss: 0.702\n",
      "Epoch: 6, Training Loss: 0.699, Test loss: 0.695\n",
      "Epoch: 7, Training Loss: 0.691, Test loss: 0.689\n",
      "Epoch: 8, Training Loss: 0.682, Test loss: 0.682\n",
      "Epoch: 9, Training Loss: 0.674, Test loss: 0.676\n",
      "Epoch: 10, Training Loss: 0.666, Test loss: 0.669\n",
      "Epoch: 11, Training Loss: 0.658, Test loss: 0.663\n",
      "Epoch: 12, Training Loss: 0.650, Test loss: 0.656\n",
      "Epoch: 13, Training Loss: 0.641, Test loss: 0.649\n",
      "Epoch: 14, Training Loss: 0.633, Test loss: 0.643\n",
      "Epoch: 15, Training Loss: 0.624, Test loss: 0.636\n",
      "Epoch: 16, Training Loss: 0.616, Test loss: 0.629\n",
      "Epoch: 17, Training Loss: 0.607, Test loss: 0.622\n",
      "Epoch: 18, Training Loss: 0.598, Test loss: 0.614\n",
      "Epoch: 19, Training Loss: 0.589, Test loss: 0.607\n",
      "Epoch: 20, Training Loss: 0.579, Test loss: 0.599\n",
      "Epoch: 21, Training Loss: 0.570, Test loss: 0.591\n",
      "Epoch: 22, Training Loss: 0.560, Test loss: 0.583\n",
      "Epoch: 23, Training Loss: 0.550, Test loss: 0.575\n",
      "Epoch: 24, Training Loss: 0.540, Test loss: 0.566\n",
      "Epoch: 25, Training Loss: 0.530, Test loss: 0.557\n",
      "Epoch: 26, Training Loss: 0.519, Test loss: 0.548\n",
      "Epoch: 27, Training Loss: 0.509, Test loss: 0.539\n",
      "Epoch: 28, Training Loss: 0.498, Test loss: 0.529\n",
      "Epoch: 29, Training Loss: 0.488, Test loss: 0.520\n",
      "Epoch: 30, Training Loss: 0.477, Test loss: 0.510\n",
      "Epoch: 31, Training Loss: 0.466, Test loss: 0.500\n",
      "Epoch: 32, Training Loss: 0.456, Test loss: 0.490\n",
      "Epoch: 33, Training Loss: 0.445, Test loss: 0.479\n",
      "Epoch: 34, Training Loss: 0.434, Test loss: 0.469\n",
      "Epoch: 35, Training Loss: 0.423, Test loss: 0.459\n",
      "Epoch: 36, Training Loss: 0.412, Test loss: 0.448\n",
      "Epoch: 37, Training Loss: 0.402, Test loss: 0.438\n",
      "Epoch: 38, Training Loss: 0.391, Test loss: 0.427\n",
      "Epoch: 39, Training Loss: 0.381, Test loss: 0.417\n",
      "Epoch: 40, Training Loss: 0.371, Test loss: 0.407\n",
      "Epoch: 41, Training Loss: 0.361, Test loss: 0.397\n",
      "Epoch: 42, Training Loss: 0.352, Test loss: 0.386\n",
      "Epoch: 43, Training Loss: 0.342, Test loss: 0.376\n",
      "Epoch: 44, Training Loss: 0.333, Test loss: 0.367\n",
      "Epoch: 45, Training Loss: 0.324, Test loss: 0.357\n",
      "Epoch: 46, Training Loss: 0.316, Test loss: 0.347\n",
      "Epoch: 47, Training Loss: 0.307, Test loss: 0.338\n",
      "Epoch: 48, Training Loss: 0.299, Test loss: 0.329\n",
      "Epoch: 49, Training Loss: 0.291, Test loss: 0.320\n",
      "Epoch: 50, Training Loss: 0.283, Test loss: 0.310\n",
      "Epoch: 51, Training Loss: 0.275, Test loss: 0.302\n",
      "Epoch: 52, Training Loss: 0.268, Test loss: 0.293\n",
      "Epoch: 53, Training Loss: 0.261, Test loss: 0.285\n",
      "Epoch: 54, Training Loss: 0.254, Test loss: 0.277\n",
      "Epoch: 55, Training Loss: 0.247, Test loss: 0.269\n",
      "Epoch: 56, Training Loss: 0.240, Test loss: 0.261\n",
      "Epoch: 57, Training Loss: 0.234, Test loss: 0.253\n",
      "Epoch: 58, Training Loss: 0.227, Test loss: 0.246\n",
      "Epoch: 59, Training Loss: 0.221, Test loss: 0.239\n",
      "Epoch: 60, Training Loss: 0.215, Test loss: 0.232\n",
      "Epoch: 61, Training Loss: 0.209, Test loss: 0.225\n",
      "Epoch: 62, Training Loss: 0.204, Test loss: 0.219\n",
      "Epoch: 63, Training Loss: 0.198, Test loss: 0.213\n",
      "Epoch: 64, Training Loss: 0.193, Test loss: 0.207\n",
      "Epoch: 65, Training Loss: 0.187, Test loss: 0.201\n",
      "Epoch: 66, Training Loss: 0.182, Test loss: 0.196\n",
      "Epoch: 67, Training Loss: 0.177, Test loss: 0.190\n",
      "Epoch: 68, Training Loss: 0.172, Test loss: 0.185\n",
      "Epoch: 69, Training Loss: 0.167, Test loss: 0.181\n",
      "Epoch: 70, Training Loss: 0.162, Test loss: 0.176\n",
      "Epoch: 71, Training Loss: 0.158, Test loss: 0.172\n",
      "Epoch: 72, Training Loss: 0.153, Test loss: 0.167\n",
      "Epoch: 73, Training Loss: 0.149, Test loss: 0.163\n",
      "Epoch: 74, Training Loss: 0.145, Test loss: 0.160\n",
      "Epoch: 75, Training Loss: 0.141, Test loss: 0.156\n",
      "Epoch: 76, Training Loss: 0.137, Test loss: 0.153\n",
      "Epoch: 77, Training Loss: 0.133, Test loss: 0.149\n",
      "Epoch: 78, Training Loss: 0.129, Test loss: 0.146\n",
      "Epoch: 79, Training Loss: 0.126, Test loss: 0.143\n",
      "Epoch: 80, Training Loss: 0.122, Test loss: 0.140\n",
      "Epoch: 81, Training Loss: 0.119, Test loss: 0.137\n",
      "Epoch: 82, Training Loss: 0.116, Test loss: 0.135\n",
      "Epoch: 83, Training Loss: 0.113, Test loss: 0.132\n",
      "Epoch: 84, Training Loss: 0.110, Test loss: 0.130\n",
      "Epoch: 85, Training Loss: 0.107, Test loss: 0.128\n",
      "Epoch: 86, Training Loss: 0.104, Test loss: 0.125\n",
      "Epoch: 87, Training Loss: 0.101, Test loss: 0.123\n",
      "Epoch: 88, Training Loss: 0.099, Test loss: 0.121\n",
      "Epoch: 89, Training Loss: 0.096, Test loss: 0.119\n",
      "Epoch: 90, Training Loss: 0.094, Test loss: 0.118\n",
      "Epoch: 91, Training Loss: 0.091, Test loss: 0.116\n",
      "Epoch: 92, Training Loss: 0.089, Test loss: 0.114\n",
      "Epoch: 93, Training Loss: 0.087, Test loss: 0.113\n",
      "Epoch: 94, Training Loss: 0.085, Test loss: 0.111\n",
      "Epoch: 95, Training Loss: 0.083, Test loss: 0.110\n",
      "Epoch: 96, Training Loss: 0.081, Test loss: 0.108\n",
      "Epoch: 97, Training Loss: 0.079, Test loss: 0.107\n",
      "Epoch: 98, Training Loss: 0.077, Test loss: 0.106\n",
      "Epoch: 99, Training Loss: 0.075, Test loss: 0.104\n",
      "Epoch: 100, Training Loss: 0.073, Test loss: 0.103\n"
     ]
    }
   ],
   "source": [
    "train_loss_arr = []\n",
    "test_loss_arr = []\n",
    "\n",
    "for e in range(epochs):\n",
    "    \n",
    "    for i in range(0, X_train_tensor.shape[0], batch_size):\n",
    "        \n",
    "        x_mini = X_train_tensor[i:i + batch_size] \n",
    "        y_mini = y_train_tensor[i:i + batch_size] \n",
    "        \n",
    "        x_var = Variable(x_mini)\n",
    "        y_var = Variable(y_mini)\n",
    "        \n",
    "        y_var = y_var.reshape(-1, 1)\n",
    "        \n",
    "        x_test_var = Variable(X_test_tensor)\n",
    "        y_test_var = Variable(y_test_tensor)\n",
    "        \n",
    "        y_test_var = y_test_var.reshape(-1, 1)\n",
    "        \n",
    "        optimizer.zero_grad()\n",
    "        out = model(x_var)\n",
    "        \n",
    "        loss = J_func(out, y_var)\n",
    "        loss.backward()\n",
    "        optimizer.step() \n",
    "        \n",
    "        test_out = model(x_test_var)\n",
    "        test_loss = J_func(test_out, y_test_var)\n",
    "        \n",
    "        if i % 100 == 0:\n",
    "            train_loss_arr.append(loss.item())\n",
    "            test_loss_arr.append(test_loss.item())                 \n",
    "                              \n",
    "        \n",
    "    print('Epoch: {}, Training Loss: {:.3f}, Test loss: {:.3f}'.format(e+1, loss.item(),test_loss.item()))"
   ]
  },
  {
   "cell_type": "code",
   "execution_count": 36,
   "metadata": {},
   "outputs": [
    {
     "data": {
      "image/png": "[encoded data removed]",
      "text/plain": [
       "<Figure size 1000x800 with 1 Axes>"
      ]
     },
     "metadata": {},
     "output_type": "display_data"
    }
   ],
   "source": [
    "plt.figure(figsize=(10,8))\n",
    "plt.plot(np.arange(1, epochs + 1, 1), train_loss_arr, label='Training Loss')\n",
    "plt.plot(np.arange(1, epochs + 1, 1), test_loss_arr,'r--', label='Test Loss')\n",
    "plt.ylabel('Loss')\n",
    "plt.xlabel('Epochs')\n",
    "plt.legend()\n",
    "plt.show()"
   ]
  },
  {
   "cell_type": "code",
   "execution_count": 37,
   "metadata": {},
   "outputs": [
    {
     "name": "stdout",
     "output_type": "stream",
     "text": [
      "The test set accuracy is  98.24561403508771\n"
     ]
    }
   ],
   "source": [
    "y_pred = model(X_test_tensor)\n",
    "y_pred = torch.round(y_pred)\n",
    "acc = y_test[y_pred.flatten() == y_test_tensor].shape[0]/ len(y_test) * 100\n",
    "\n",
    "print ('The test set accuracy is ', acc)"
   ]
  },
  {
   "cell_type": "markdown",
   "metadata": {},
   "source": [
    "## Report"
   ]
  },
  {
   "cell_type": "markdown",
   "metadata": {},
   "source": [
    "In-lab exercise, we used the MNIST dataset and performed hand-coded fully connected neural network, where we obtained the test accuracy 90.82%. Then I did 3 different examples changing the hyperparameters (with different number of neurons in the hidden layers and different learning rate). After that, we built a fully connected neural network with batch learning algorithm using Pytorch on the MNIST digit recognition dataset. We used 20 epochs with a batch size of 50 during the training and plotted the loss. \n",
    "\n",
    "For take-home exercise, I used the breast cancer dataset and solved the classification problem by creating a neural network in Pytorch. The model has input_size = 30, hidden1_size = 16, hidden2_size = 8 and output_size = 1. With a batch size of 64 and a learning rate of 0.001, the model could obtain 98.24% accuracy in 100 epochs. Since we have two classes, we used Binary Cross Entropy (BCE) as the loss function and the SGD optimizer to get the output. We can conclude that the model performed well on the dataset since the difference between the training and test loss was small over the epochs and it could obtain a high accuracy on the test set."
   ]
  }
 ],
 "metadata": {
  "accelerator": "GPU",
  "colab": {
   "collapsed_sections": [
    "QoUm4QffKclO",
    "Qwua0N9YKclO",
    "1LCZcRKLKclP",
    "paw4ssL5KclP",
    "8Lch5zNZKclQ",
    "u8txezkAKclQ",
    "QcHyj0NZKclQ",
    "mIIAqGpCKclR",
    "PRkwZJpUKclR",
    "y6o35ss7KclS",
    "UGiRQ5FLKclS",
    "mRyWPNqZKclS",
    "GwExPsnIKclX",
    "U6kIPgAUKclX",
    "-m32FECYKclX",
    "4ppUalF6KclY",
    "o5WIbF2hKclj",
    "WSi4mXBpKcln"
   ],
   "provenance": []
  },
  "gpuClass": "standard",
  "kernelspec": {
   "display_name": "Python 3",
   "language": "python",
   "name": "python3"
  },
  "language_info": {
   "codemirror_mode": {
    "name": "ipython",
    "version": 3
   },
   "file_extension": ".py",
   "mimetype": "text/x-python",
   "name": "python",
   "nbconvert_exporter": "python",
   "pygments_lexer": "ipython3",
   "version": "3.8.3"
  },
  "vscode": {
   "interpreter": {
    "hash": "2ae5459c514f82a7faef05baaa19fca3ff43c1fc0d190d511c5ea63287ea9263"
   }
  }
 },
 "nbformat": 4,
 "nbformat_minor": 4
}
